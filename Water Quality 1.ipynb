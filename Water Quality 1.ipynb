{
  "cells": [
    {
      "cell_type": "code",
      "execution_count": 60,
      "metadata": {
        "id": "O1rQQ9F2yxy-"
      },
      "outputs": [],
      "source": [
        "import pandas as pd\n",
        "import numpy as np\n",
        "from IPython.display import Image"
      ]
    },
    {
      "cell_type": "code",
      "execution_count": 61,
      "metadata": {
        "id": "2FY4gcAAy5FW"
      },
      "outputs": [],
      "source": [
        "df = pd.read_csv(\"./water_potability.csv\")"
      ]
    },
    {
      "cell_type": "code",
      "execution_count": 62,
      "metadata": {
        "colab": {
          "base_uri": "https://localhost:8080/",
          "height": 206
        },
        "id": "K_8YUgxnzC9X",
        "outputId": "001b32d6-9542-416d-8f4c-6e2b11e195c2"
      },
      "outputs": [
        {
          "data": {
            "text/html": [
              "<div>\n",
              "<style scoped>\n",
              "    .dataframe tbody tr th:only-of-type {\n",
              "        vertical-align: middle;\n",
              "    }\n",
              "\n",
              "    .dataframe tbody tr th {\n",
              "        vertical-align: top;\n",
              "    }\n",
              "\n",
              "    .dataframe thead th {\n",
              "        text-align: right;\n",
              "    }\n",
              "</style>\n",
              "<table border=\"1\" class=\"dataframe\">\n",
              "  <thead>\n",
              "    <tr style=\"text-align: right;\">\n",
              "      <th></th>\n",
              "      <th>ph</th>\n",
              "      <th>Hardness</th>\n",
              "      <th>Solids</th>\n",
              "      <th>Chloramines</th>\n",
              "      <th>Sulfate</th>\n",
              "      <th>Conductivity</th>\n",
              "      <th>Organic_carbon</th>\n",
              "      <th>Trihalomethanes</th>\n",
              "      <th>Turbidity</th>\n",
              "      <th>Potability</th>\n",
              "    </tr>\n",
              "  </thead>\n",
              "  <tbody>\n",
              "    <tr>\n",
              "      <th>0</th>\n",
              "      <td>NaN</td>\n",
              "      <td>204.890456</td>\n",
              "      <td>20791.31898</td>\n",
              "      <td>7.300212</td>\n",
              "      <td>368.516441</td>\n",
              "      <td>564.308654</td>\n",
              "      <td>10.379783</td>\n",
              "      <td>86.990970</td>\n",
              "      <td>2.963135</td>\n",
              "      <td>0</td>\n",
              "    </tr>\n",
              "    <tr>\n",
              "      <th>1</th>\n",
              "      <td>3.716080</td>\n",
              "      <td>129.422921</td>\n",
              "      <td>18630.05786</td>\n",
              "      <td>6.635246</td>\n",
              "      <td>NaN</td>\n",
              "      <td>592.885359</td>\n",
              "      <td>15.180013</td>\n",
              "      <td>56.329076</td>\n",
              "      <td>4.500656</td>\n",
              "      <td>0</td>\n",
              "    </tr>\n",
              "    <tr>\n",
              "      <th>2</th>\n",
              "      <td>8.099124</td>\n",
              "      <td>224.236259</td>\n",
              "      <td>19909.54173</td>\n",
              "      <td>9.275884</td>\n",
              "      <td>NaN</td>\n",
              "      <td>418.606213</td>\n",
              "      <td>16.868637</td>\n",
              "      <td>66.420093</td>\n",
              "      <td>3.055934</td>\n",
              "      <td>0</td>\n",
              "    </tr>\n",
              "    <tr>\n",
              "      <th>3</th>\n",
              "      <td>8.316766</td>\n",
              "      <td>214.373394</td>\n",
              "      <td>22018.41744</td>\n",
              "      <td>8.059332</td>\n",
              "      <td>356.886136</td>\n",
              "      <td>363.266516</td>\n",
              "      <td>18.436525</td>\n",
              "      <td>100.341674</td>\n",
              "      <td>4.628771</td>\n",
              "      <td>0</td>\n",
              "    </tr>\n",
              "    <tr>\n",
              "      <th>4</th>\n",
              "      <td>9.092223</td>\n",
              "      <td>181.101509</td>\n",
              "      <td>17978.98634</td>\n",
              "      <td>6.546600</td>\n",
              "      <td>310.135738</td>\n",
              "      <td>398.410813</td>\n",
              "      <td>11.558279</td>\n",
              "      <td>31.997993</td>\n",
              "      <td>4.075075</td>\n",
              "      <td>0</td>\n",
              "    </tr>\n",
              "  </tbody>\n",
              "</table>\n",
              "</div>"
            ],
            "text/plain": [
              "         ph    Hardness       Solids  Chloramines     Sulfate  Conductivity  \\\n",
              "0       NaN  204.890456  20791.31898     7.300212  368.516441    564.308654   \n",
              "1  3.716080  129.422921  18630.05786     6.635246         NaN    592.885359   \n",
              "2  8.099124  224.236259  19909.54173     9.275884         NaN    418.606213   \n",
              "3  8.316766  214.373394  22018.41744     8.059332  356.886136    363.266516   \n",
              "4  9.092223  181.101509  17978.98634     6.546600  310.135738    398.410813   \n",
              "\n",
              "   Organic_carbon  Trihalomethanes  Turbidity  Potability  \n",
              "0       10.379783        86.990970   2.963135           0  \n",
              "1       15.180013        56.329076   4.500656           0  \n",
              "2       16.868637        66.420093   3.055934           0  \n",
              "3       18.436525       100.341674   4.628771           0  \n",
              "4       11.558279        31.997993   4.075075           0  "
            ]
          },
          "execution_count": 62,
          "metadata": {},
          "output_type": "execute_result"
        }
      ],
      "source": [
        "df.head()"
      ]
    },
    {
      "cell_type": "code",
      "execution_count": 63,
      "metadata": {
        "colab": {
          "base_uri": "https://localhost:8080/"
        },
        "id": "LdXbdJtvzPIX",
        "outputId": "e9562261-f5f1-49b4-e5d7-0f97cfed5274"
      },
      "outputs": [
        {
          "data": {
            "text/plain": [
              "(104832, 10)"
            ]
          },
          "execution_count": 63,
          "metadata": {},
          "output_type": "execute_result"
        }
      ],
      "source": [
        "np.shape(df)"
      ]
    },
    {
      "cell_type": "code",
      "execution_count": 64,
      "metadata": {
        "colab": {
          "base_uri": "https://localhost:8080/"
        },
        "id": "JNLKVFF7zQyu",
        "outputId": "0e7e531f-c4e9-4393-9c2e-31a04ce70ad0"
      },
      "outputs": [
        {
          "name": "stdout",
          "output_type": "stream",
          "text": [
            "Number of null values in different columns\n",
            "ph                 15712\n",
            "Hardness               0\n",
            "Solids                 0\n",
            "Chloramines            0\n",
            "Sulfate            24992\n",
            "Conductivity           0\n",
            "Organic_carbon         0\n",
            "Trihalomethanes     5184\n",
            "Turbidity              0\n",
            "Potability             0\n",
            "dtype: int64\n"
          ]
        }
      ],
      "source": [
        "print(\"Number of null values in different columns\")\n",
        "print(df.isna().sum())"
      ]
    },
    {
      "cell_type": "code",
      "execution_count": 65,
      "metadata": {
        "colab": {
          "base_uri": "https://localhost:8080/"
        },
        "id": "KPckMYHh7_d3",
        "outputId": "98fa388e-7850-4a3b-f27a-245c3dae989a"
      },
      "outputs": [
        {
          "name": "stdout",
          "output_type": "stream",
          "text": [
            "Number of null values in different columns\n",
            "ph                 15712\n",
            "Hardness               0\n",
            "Solids                 0\n",
            "Chloramines            0\n",
            "Sulfate            24992\n",
            "Conductivity           0\n",
            "Organic_carbon         0\n",
            "Trihalomethanes     5184\n",
            "Turbidity              0\n",
            "Potability             0\n",
            "dtype: int64\n"
          ]
        }
      ],
      "source": [
        "print(\"Number of null values in different columns\")\n",
        "print(df.isna().sum())"
      ]
    },
    {
      "cell_type": "code",
      "execution_count": 66,
      "metadata": {
        "id": "pp6WfvJbzSbf"
      },
      "outputs": [],
      "source": [
        "df=df.dropna()\n",
        "# df[\"ph\"].fillna(value = df[\"ph\"].mean(),inplace=True)\n",
        "# df[\"Sulfate\"].fillna(value = df[\"Sulfate\"].mean(),inplace=True)\n",
        "# df[\"Trihalomethanes\"].fillna(value = df[\"Trihalomethanes\"].mean(),inplace=True)"
      ]
    },
    {
      "cell_type": "code",
      "execution_count": 67,
      "metadata": {
        "colab": {
          "base_uri": "https://localhost:8080/"
        },
        "id": "y9xyDYhxzl3A",
        "outputId": "f9257796-a257-4a07-d8d4-4703be8d965e"
      },
      "outputs": [
        {
          "data": {
            "text/plain": [
              "(64352, 10)"
            ]
          },
          "execution_count": 67,
          "metadata": {},
          "output_type": "execute_result"
        }
      ],
      "source": [
        "df.shape"
      ]
    },
    {
      "cell_type": "code",
      "execution_count": 68,
      "metadata": {
        "id": "RmW2RDRjznDH"
      },
      "outputs": [],
      "source": [
        "x = pd.DataFrame(df,columns = ['ph', 'Hardness','Solids', 'Chloramines','Sulfate', 'Conductivity','Organic_carbon', 'Trihalomethanes',\"Turbidity\"])\n",
        "y = pd.DataFrame(df,columns = [\"Potability\"])"
      ]
    },
    {
      "cell_type": "code",
      "execution_count": 69,
      "metadata": {
        "colab": {
          "base_uri": "https://localhost:8080/",
          "height": 300
        },
        "id": "q06UebZIzp6J",
        "outputId": "e6ace2f0-8e25-46f9-a08b-a0ec8050f4dc"
      },
      "outputs": [
        {
          "data": {
            "text/html": [
              "<div>\n",
              "<style scoped>\n",
              "    .dataframe tbody tr th:only-of-type {\n",
              "        vertical-align: middle;\n",
              "    }\n",
              "\n",
              "    .dataframe tbody tr th {\n",
              "        vertical-align: top;\n",
              "    }\n",
              "\n",
              "    .dataframe thead th {\n",
              "        text-align: right;\n",
              "    }\n",
              "</style>\n",
              "<table border=\"1\" class=\"dataframe\">\n",
              "  <thead>\n",
              "    <tr style=\"text-align: right;\">\n",
              "      <th></th>\n",
              "      <th>ph</th>\n",
              "      <th>Hardness</th>\n",
              "      <th>Solids</th>\n",
              "      <th>Chloramines</th>\n",
              "      <th>Sulfate</th>\n",
              "      <th>Conductivity</th>\n",
              "      <th>Organic_carbon</th>\n",
              "      <th>Trihalomethanes</th>\n",
              "      <th>Turbidity</th>\n",
              "      <th>Potability</th>\n",
              "    </tr>\n",
              "  </thead>\n",
              "  <tbody>\n",
              "    <tr>\n",
              "      <th>count</th>\n",
              "      <td>64352.000000</td>\n",
              "      <td>64352.000000</td>\n",
              "      <td>64352.000000</td>\n",
              "      <td>64352.000000</td>\n",
              "      <td>64352.000000</td>\n",
              "      <td>64352.000000</td>\n",
              "      <td>64352.000000</td>\n",
              "      <td>64352.000000</td>\n",
              "      <td>64352.000000</td>\n",
              "      <td>64352.000000</td>\n",
              "    </tr>\n",
              "    <tr>\n",
              "      <th>mean</th>\n",
              "      <td>7.085990</td>\n",
              "      <td>195.968072</td>\n",
              "      <td>21917.441375</td>\n",
              "      <td>7.134338</td>\n",
              "      <td>333.224672</td>\n",
              "      <td>426.526409</td>\n",
              "      <td>14.357709</td>\n",
              "      <td>66.400859</td>\n",
              "      <td>3.969729</td>\n",
              "      <td>0.403282</td>\n",
              "    </tr>\n",
              "    <tr>\n",
              "      <th>std</th>\n",
              "      <td>1.572958</td>\n",
              "      <td>32.627223</td>\n",
              "      <td>8640.157938</td>\n",
              "      <td>1.584438</td>\n",
              "      <td>41.195246</td>\n",
              "      <td>80.693129</td>\n",
              "      <td>3.324158</td>\n",
              "      <td>16.073237</td>\n",
              "      <td>0.780158</td>\n",
              "      <td>0.490560</td>\n",
              "    </tr>\n",
              "    <tr>\n",
              "      <th>min</th>\n",
              "      <td>0.227499</td>\n",
              "      <td>73.492234</td>\n",
              "      <td>320.942611</td>\n",
              "      <td>1.390871</td>\n",
              "      <td>129.000000</td>\n",
              "      <td>201.619737</td>\n",
              "      <td>2.200000</td>\n",
              "      <td>8.577013</td>\n",
              "      <td>1.450000</td>\n",
              "      <td>0.000000</td>\n",
              "    </tr>\n",
              "    <tr>\n",
              "      <th>25%</th>\n",
              "      <td>6.089431</td>\n",
              "      <td>176.736376</td>\n",
              "      <td>15613.160530</td>\n",
              "      <td>6.137757</td>\n",
              "      <td>307.621462</td>\n",
              "      <td>366.558131</td>\n",
              "      <td>12.120956</td>\n",
              "      <td>55.947322</td>\n",
              "      <td>3.442848</td>\n",
              "      <td>0.000000</td>\n",
              "    </tr>\n",
              "    <tr>\n",
              "      <th>50%</th>\n",
              "      <td>7.027297</td>\n",
              "      <td>197.191839</td>\n",
              "      <td>20933.512750</td>\n",
              "      <td>7.143907</td>\n",
              "      <td>332.232177</td>\n",
              "      <td>423.455906</td>\n",
              "      <td>14.322019</td>\n",
              "      <td>66.542198</td>\n",
              "      <td>3.968177</td>\n",
              "      <td>0.000000</td>\n",
              "    </tr>\n",
              "    <tr>\n",
              "      <th>75%</th>\n",
              "      <td>8.053044</td>\n",
              "      <td>216.454108</td>\n",
              "      <td>27192.280560</td>\n",
              "      <td>8.110140</td>\n",
              "      <td>359.392567</td>\n",
              "      <td>482.451933</td>\n",
              "      <td>16.684074</td>\n",
              "      <td>77.297300</td>\n",
              "      <td>4.515150</td>\n",
              "      <td>1.000000</td>\n",
              "    </tr>\n",
              "    <tr>\n",
              "      <th>max</th>\n",
              "      <td>14.000000</td>\n",
              "      <td>317.338124</td>\n",
              "      <td>56488.672410</td>\n",
              "      <td>13.127000</td>\n",
              "      <td>481.030642</td>\n",
              "      <td>753.342620</td>\n",
              "      <td>27.006707</td>\n",
              "      <td>124.000000</td>\n",
              "      <td>6.494749</td>\n",
              "      <td>1.000000</td>\n",
              "    </tr>\n",
              "  </tbody>\n",
              "</table>\n",
              "</div>"
            ],
            "text/plain": [
              "                 ph      Hardness        Solids   Chloramines       Sulfate  \\\n",
              "count  64352.000000  64352.000000  64352.000000  64352.000000  64352.000000   \n",
              "mean       7.085990    195.968072  21917.441375      7.134338    333.224672   \n",
              "std        1.572958     32.627223   8640.157938      1.584438     41.195246   \n",
              "min        0.227499     73.492234    320.942611      1.390871    129.000000   \n",
              "25%        6.089431    176.736376  15613.160530      6.137757    307.621462   \n",
              "50%        7.027297    197.191839  20933.512750      7.143907    332.232177   \n",
              "75%        8.053044    216.454108  27192.280560      8.110140    359.392567   \n",
              "max       14.000000    317.338124  56488.672410     13.127000    481.030642   \n",
              "\n",
              "       Conductivity  Organic_carbon  Trihalomethanes     Turbidity  \\\n",
              "count  64352.000000    64352.000000     64352.000000  64352.000000   \n",
              "mean     426.526409       14.357709        66.400859      3.969729   \n",
              "std       80.693129        3.324158        16.073237      0.780158   \n",
              "min      201.619737        2.200000         8.577013      1.450000   \n",
              "25%      366.558131       12.120956        55.947322      3.442848   \n",
              "50%      423.455906       14.322019        66.542198      3.968177   \n",
              "75%      482.451933       16.684074        77.297300      4.515150   \n",
              "max      753.342620       27.006707       124.000000      6.494749   \n",
              "\n",
              "         Potability  \n",
              "count  64352.000000  \n",
              "mean       0.403282  \n",
              "std        0.490560  \n",
              "min        0.000000  \n",
              "25%        0.000000  \n",
              "50%        0.000000  \n",
              "75%        1.000000  \n",
              "max        1.000000  "
            ]
          },
          "execution_count": 69,
          "metadata": {},
          "output_type": "execute_result"
        }
      ],
      "source": [
        "\n",
        "df.describe()"
      ]
    },
    {
      "cell_type": "code",
      "execution_count": 70,
      "metadata": {
        "colab": {
          "base_uri": "https://localhost:8080/",
          "height": 332
        },
        "id": "V4ETtdjh-sy9",
        "outputId": "b087ad76-49ee-48cd-f91f-53b4e1b18035"
      },
      "outputs": [
        {
          "data": {
            "text/html": [
              "<div>\n",
              "<style scoped>\n",
              "    .dataframe tbody tr th:only-of-type {\n",
              "        vertical-align: middle;\n",
              "    }\n",
              "\n",
              "    .dataframe tbody tr th {\n",
              "        vertical-align: top;\n",
              "    }\n",
              "\n",
              "    .dataframe thead th {\n",
              "        text-align: right;\n",
              "    }\n",
              "</style>\n",
              "<table border=\"1\" class=\"dataframe\">\n",
              "  <thead>\n",
              "    <tr style=\"text-align: right;\">\n",
              "      <th></th>\n",
              "      <th>feature</th>\n",
              "      <th>relevance</th>\n",
              "    </tr>\n",
              "  </thead>\n",
              "  <tbody>\n",
              "    <tr>\n",
              "      <th>2</th>\n",
              "      <td>Solids</td>\n",
              "      <td>362615.588772</td>\n",
              "    </tr>\n",
              "    <tr>\n",
              "      <th>5</th>\n",
              "      <td>Conductivity</td>\n",
              "      <td>235.888170</td>\n",
              "    </tr>\n",
              "    <tr>\n",
              "      <th>4</th>\n",
              "      <td>Sulfate</td>\n",
              "      <td>76.749220</td>\n",
              "    </tr>\n",
              "    <tr>\n",
              "      <th>7</th>\n",
              "      <td>Trihalomethanes</td>\n",
              "      <td>21.395304</td>\n",
              "    </tr>\n",
              "    <tr>\n",
              "      <th>6</th>\n",
              "      <td>Organic_carbon</td>\n",
              "      <td>12.001759</td>\n",
              "    </tr>\n",
              "    <tr>\n",
              "      <th>3</th>\n",
              "      <td>Chloramines</td>\n",
              "      <td>9.781242</td>\n",
              "    </tr>\n",
              "    <tr>\n",
              "      <th>8</th>\n",
              "      <td>Turbidity</td>\n",
              "      <td>5.076188</td>\n",
              "    </tr>\n",
              "    <tr>\n",
              "      <th>0</th>\n",
              "      <td>ph</td>\n",
              "      <td>4.743756</td>\n",
              "    </tr>\n",
              "    <tr>\n",
              "      <th>1</th>\n",
              "      <td>Hardness</td>\n",
              "      <td>0.791799</td>\n",
              "    </tr>\n",
              "  </tbody>\n",
              "</table>\n",
              "</div>"
            ],
            "text/plain": [
              "           feature      relevance\n",
              "2           Solids  362615.588772\n",
              "5     Conductivity     235.888170\n",
              "4          Sulfate      76.749220\n",
              "7  Trihalomethanes      21.395304\n",
              "6   Organic_carbon      12.001759\n",
              "3      Chloramines       9.781242\n",
              "8        Turbidity       5.076188\n",
              "0               ph       4.743756\n",
              "1         Hardness       0.791799"
            ]
          },
          "execution_count": 70,
          "metadata": {},
          "output_type": "execute_result"
        }
      ],
      "source": [
        "from sklearn.feature_selection import chi2\n",
        "from sklearn.feature_selection import SelectKBest  \n",
        "\n",
        "\n",
        "bestfeatures = SelectKBest(score_func = chi2, k=5)\n",
        "fit = bestfeatures.fit(x,y)\n",
        "fit.scores_\n",
        "dfscores = pd.DataFrame(fit.scores_)\n",
        "dfcolumns = pd.DataFrame(x.columns)\n",
        "featurescore = pd.concat([dfcolumns,dfscores],axis=1)\n",
        "featurescore.columns = ['feature' , 'relevance']\n",
        "featurescore.sort_values(by='relevance',ascending=False)"
      ]
    },
    {
      "cell_type": "code",
      "execution_count": 71,
      "metadata": {
        "colab": {
          "base_uri": "https://localhost:8080/",
          "height": 664
        },
        "id": "L65W82FQBkzm",
        "outputId": "50aa1913-bcbb-4280-a5bc-e58339d62fb9"
      },
      "outputs": [
        {
          "name": "stderr",
          "output_type": "stream",
          "text": [
            "c:\\Users\\pusth\\Anaconda3\\lib\\site-packages\\sklearn\\ensemble\\forest.py:245: FutureWarning: The default value of n_estimators will change from 10 in version 0.20 to 100 in 0.22.\n",
            "  \"10 in version 0.20 to 100 in 0.22.\", FutureWarning)\n",
            "c:\\Users\\pusth\\Anaconda3\\lib\\site-packages\\ipykernel_launcher.py:2: DataConversionWarning: A column-vector y was passed when a 1d array was expected. Please change the shape of y to (n_samples,), for example using ravel().\n",
            "  \n"
          ]
        },
        {
          "data": {
            "text/plain": [
              "<BarContainer object of 9 artists>"
            ]
          },
          "execution_count": 71,
          "metadata": {},
          "output_type": "execute_result"
        },
        {
          "data": {
            "image/png": "[encoded data removed]",
            "text/plain": [
              "<Figure size 1440x720 with 1 Axes>"
            ]
          },
          "metadata": {
            "needs_background": "light"
          },
          "output_type": "display_data"
        }
      ],
      "source": [
        "from sklearn.ensemble import RandomForestClassifier\n",
        "model = RandomForestClassifier().fit(x,y)\n",
        "model.feature_importances_  \n",
        "import matplotlib.pyplot as plt\n",
        "plt.figure(figsize=(20,10)) \n",
        "featuresimp = pd.DataFrame(model.feature_importances_, index = x.columns, columns=['importance'])\n",
        "featureimp = featuresimp.sort_values(by='importance',ascending=False)\n",
        "plt.bar(featuresimp.index, featuresimp['importance'])"
      ]
    },
    {
      "cell_type": "code",
      "execution_count": 72,
      "metadata": {
        "colab": {
          "base_uri": "https://localhost:8080/",
          "height": 613
        },
        "id": "ATO1uU1xCZvu",
        "outputId": "8eb806b7-481b-4a2b-a4f3-873ed4d4fc14"
      },
      "outputs": [
        {
          "data": {
            "text/plain": [
              "<matplotlib.axes._subplots.AxesSubplot at 0x11d8307d8d0>"
            ]
          },
          "execution_count": 72,
          "metadata": {},
          "output_type": "execute_result"
        },
        {
          "data": {
            "image/png": "[encoded data removed]",
            "text/plain": [
              "<Figure size 1440x720 with 2 Axes>"
            ]
          },
          "metadata": {
            "needs_background": "light"
          },
          "output_type": "display_data"
        }
      ],
      "source": [
        "import seaborn as sns\n",
        "\n",
        "plt.figure(figsize=(20,10)) \n",
        "datacor = df.corr()\n",
        "sns.heatmap(datacor,annot=True)"
      ]
    },
    {
      "cell_type": "code",
      "execution_count": 73,
      "metadata": {
        "colab": {
          "base_uri": "https://localhost:8080/",
          "height": 143
        },
        "id": "Z7m-Tq43zsIP",
        "outputId": "31c3b3c1-be9e-4752-da6c-dd767843937d"
      },
      "outputs": [
        {
          "data": {
            "text/html": [
              "<div>\n",
              "<style scoped>\n",
              "    .dataframe tbody tr th:only-of-type {\n",
              "        vertical-align: middle;\n",
              "    }\n",
              "\n",
              "    .dataframe tbody tr th {\n",
              "        vertical-align: top;\n",
              "    }\n",
              "\n",
              "    .dataframe thead th {\n",
              "        text-align: right;\n",
              "    }\n",
              "</style>\n",
              "<table border=\"1\" class=\"dataframe\">\n",
              "  <thead>\n",
              "    <tr style=\"text-align: right;\">\n",
              "      <th></th>\n",
              "      <th>ph</th>\n",
              "      <th>Hardness</th>\n",
              "      <th>Solids</th>\n",
              "      <th>Chloramines</th>\n",
              "      <th>Sulfate</th>\n",
              "      <th>Conductivity</th>\n",
              "      <th>Organic_carbon</th>\n",
              "      <th>Trihalomethanes</th>\n",
              "      <th>Turbidity</th>\n",
              "    </tr>\n",
              "    <tr>\n",
              "      <th>Potability</th>\n",
              "      <th></th>\n",
              "      <th></th>\n",
              "      <th></th>\n",
              "      <th></th>\n",
              "      <th></th>\n",
              "      <th></th>\n",
              "      <th></th>\n",
              "      <th></th>\n",
              "      <th></th>\n",
              "    </tr>\n",
              "  </thead>\n",
              "  <tbody>\n",
              "    <tr>\n",
              "      <th>0</th>\n",
              "      <td>38400</td>\n",
              "      <td>38400</td>\n",
              "      <td>38400</td>\n",
              "      <td>38400</td>\n",
              "      <td>38400</td>\n",
              "      <td>38400</td>\n",
              "      <td>38400</td>\n",
              "      <td>38400</td>\n",
              "      <td>38400</td>\n",
              "    </tr>\n",
              "    <tr>\n",
              "      <th>1</th>\n",
              "      <td>25952</td>\n",
              "      <td>25952</td>\n",
              "      <td>25952</td>\n",
              "      <td>25952</td>\n",
              "      <td>25952</td>\n",
              "      <td>25952</td>\n",
              "      <td>25952</td>\n",
              "      <td>25952</td>\n",
              "      <td>25952</td>\n",
              "    </tr>\n",
              "  </tbody>\n",
              "</table>\n",
              "</div>"
            ],
            "text/plain": [
              "               ph  Hardness  Solids  Chloramines  Sulfate  Conductivity  \\\n",
              "Potability                                                                \n",
              "0           38400     38400   38400        38400    38400         38400   \n",
              "1           25952     25952   25952        25952    25952         25952   \n",
              "\n",
              "            Organic_carbon  Trihalomethanes  Turbidity  \n",
              "Potability                                              \n",
              "0                    38400            38400      38400  \n",
              "1                    25952            25952      25952  "
            ]
          },
          "execution_count": 73,
          "metadata": {},
          "output_type": "execute_result"
        }
      ],
      "source": [
        "df.reset_index(inplace=True)\n",
        "df=df.drop(['index'],axis=1)\n",
        "# df=df.drop(['Hardness'],axis=1)\n",
        "# df=df.drop(['Sulfate'],axis=1)\n",
        "df.groupby(\"Potability\").count()"
      ]
    },
    {
      "cell_type": "code",
      "execution_count": 74,
      "metadata": {
        "colab": {
          "base_uri": "https://localhost:8080/"
        },
        "id": "NdYOEznTztuP",
        "outputId": "41ece14c-4319-4d0c-c0fa-0ae7e23c1256"
      },
      "outputs": [
        {
          "name": "stdout",
          "output_type": "stream",
          "text": [
            "Size Training Set: 57916\n",
            "Size Testing Set: 6436\n"
          ]
        }
      ],
      "source": [
        "y = df['Potability']\n",
        "X = df.drop(['Potability'],axis=1)\n",
        "from sklearn.preprocessing import StandardScaler\n",
        "scaler = StandardScaler()\n",
        "X = scaler.fit_transform(X)\n",
        "\n",
        "# from sklearn.decomposition import PCA\n",
        "# pca = PCA(n_components=5) \n",
        "# X = pca.fit_transform(X1)\n",
        "\n",
        "from sklearn.model_selection import train_test_split\n",
        "X_train, X_test, y_train, y_test = train_test_split(X, y, test_size=0.10, random_state=0)\n",
        "print('Size Training Set: {}'.format(len(X_train)))\n",
        "print('Size Testing Set: {}'.format(len(X_test)))"
      ]
    },
    {
      "cell_type": "code",
      "execution_count": 75,
      "metadata": {
        "colab": {
          "base_uri": "https://localhost:8080/"
        },
        "id": "iwbXYxmVzuP-",
        "outputId": "15b38285-358c-4b48-86f2-cdbec3dabdbd"
      },
      "outputs": [
        {
          "name": "stdout",
          "output_type": "stream",
          "text": [
            "Train on 57916 samples, validate on 6436 samples\n",
            "Epoch 1/50\n",
            "57916/57916 [==============================] - 9s 150us/sample - loss: 0.2074 - acc: 0.6832 - val_loss: 0.1686 - val_acc: 0.7483\n",
            "Epoch 2/50\n",
            "57916/57916 [==============================] - 7s 129us/sample - loss: 0.1796 - acc: 0.7341 - val_loss: 0.1435 - val_acc: 0.8005\n",
            "Epoch 3/50\n",
            "57916/57916 [==============================] - 6s 101us/sample - loss: 0.1622 - acc: 0.7680 - val_loss: 0.1239 - val_acc: 0.8406\n",
            "Epoch 4/50\n",
            "57916/57916 [==============================] - 6s 108us/sample - loss: 0.1461 - acc: 0.7967 - val_loss: 0.1035 - val_acc: 0.8712\n",
            "Epoch 5/50\n",
            "57916/57916 [==============================] - 6s 111us/sample - loss: 0.1327 - acc: 0.8197 - val_loss: 0.0880 - val_acc: 0.8914\n",
            "Epoch 6/50\n",
            "57916/57916 [==============================] - 6s 105us/sample - loss: 0.1212 - acc: 0.8399 - val_loss: 0.0739 - val_acc: 0.9239\n",
            "Epoch 7/50\n",
            "57916/57916 [==============================] - 6s 104us/sample - loss: 0.1099 - acc: 0.8581 - val_loss: 0.0621 - val_acc: 0.9396\n",
            "Epoch 8/50\n",
            "57916/57916 [==============================] - 6s 107us/sample - loss: 0.1003 - acc: 0.8725 - val_loss: 0.0544 - val_acc: 0.9472\n",
            "Epoch 9/50\n",
            "57916/57916 [==============================] - 6s 107us/sample - loss: 0.0920 - acc: 0.8890 - val_loss: 0.0388 - val_acc: 0.9689\n",
            "Epoch 10/50\n",
            "57916/57916 [==============================] - 6s 108us/sample - loss: 0.0838 - acc: 0.9011 - val_loss: 0.0324 - val_acc: 0.9770\n",
            "Epoch 11/50\n",
            "57916/57916 [==============================] - 6s 109us/sample - loss: 0.0776 - acc: 0.9099 - val_loss: 0.0261 - val_acc: 0.9832\n",
            "Epoch 12/50\n",
            "57916/57916 [==============================] - 6s 102us/sample - loss: 0.0709 - acc: 0.9193 - val_loss: 0.0222 - val_acc: 0.9852\n",
            "Epoch 13/50\n",
            "57916/57916 [==============================] - 6s 102us/sample - loss: 0.0655 - acc: 0.9274 - val_loss: 0.0184 - val_acc: 0.9891\n",
            "Epoch 14/50\n",
            "57916/57916 [==============================] - 6s 103us/sample - loss: 0.0605 - acc: 0.9328 - val_loss: 0.0140 - val_acc: 0.9910\n",
            "Epoch 15/50\n",
            "57916/57916 [==============================] - 6s 111us/sample - loss: 0.0565 - acc: 0.9386 - val_loss: 0.0125 - val_acc: 0.9929\n",
            "Epoch 16/50\n",
            "57916/57916 [==============================] - 6s 108us/sample - loss: 0.0530 - acc: 0.9427 - val_loss: 0.0104 - val_acc: 0.9953\n",
            "Epoch 17/50\n",
            "57916/57916 [==============================] - 6s 107us/sample - loss: 0.0500 - acc: 0.9464 - val_loss: 0.0090 - val_acc: 0.9953\n",
            "Epoch 18/50\n",
            "57916/57916 [==============================] - 6s 106us/sample - loss: 0.0475 - acc: 0.9499 - val_loss: 0.0085 - val_acc: 0.9953\n",
            "Epoch 19/50\n",
            "57916/57916 [==============================] - 6s 111us/sample - loss: 0.0449 - acc: 0.9530 - val_loss: 0.0057 - val_acc: 0.9961\n",
            "Epoch 20/50\n",
            "57916/57916 [==============================] - 6s 107us/sample - loss: 0.0430 - acc: 0.9561 - val_loss: 0.0058 - val_acc: 0.9955\n",
            "Epoch 21/50\n",
            "57916/57916 [==============================] - 6s 107us/sample - loss: 0.0411 - acc: 0.9578 - val_loss: 0.0049 - val_acc: 0.9961\n",
            "Epoch 22/50\n",
            "57916/57916 [==============================] - 6s 110us/sample - loss: 0.0388 - acc: 0.9612 - val_loss: 0.0043 - val_acc: 0.9977\n",
            "Epoch 23/50\n",
            "57916/57916 [==============================] - 6s 108us/sample - loss: 0.0378 - acc: 0.9612 - val_loss: 0.0035 - val_acc: 0.9977\n",
            "Epoch 24/50\n",
            "57916/57916 [==============================] - 6s 108us/sample - loss: 0.0361 - acc: 0.9646 - val_loss: 0.0034 - val_acc: 0.9977\n",
            "Epoch 25/50\n",
            "57916/57916 [==============================] - 6s 108us/sample - loss: 0.0343 - acc: 0.9665 - val_loss: 0.0031 - val_acc: 0.9977\n",
            "Epoch 26/50\n",
            "57916/57916 [==============================] - 6s 112us/sample - loss: 0.0335 - acc: 0.9664 - val_loss: 0.0029 - val_acc: 0.9977\n",
            "Epoch 27/50\n",
            "57916/57916 [==============================] - 7s 112us/sample - loss: 0.0316 - acc: 0.9696 - val_loss: 0.0024 - val_acc: 0.9984\n",
            "Epoch 28/50\n",
            "57916/57916 [==============================] - 6s 107us/sample - loss: 0.0311 - acc: 0.9698 - val_loss: 0.0022 - val_acc: 0.9984\n",
            "Epoch 29/50\n",
            "57916/57916 [==============================] - 6s 107us/sample - loss: 0.0300 - acc: 0.9708 - val_loss: 0.0020 - val_acc: 0.9984\n",
            "Epoch 30/50\n",
            "57916/57916 [==============================] - 6s 107us/sample - loss: 0.0290 - acc: 0.9726 - val_loss: 0.0021 - val_acc: 0.9984\n",
            "Epoch 31/50\n",
            "57916/57916 [==============================] - 6s 105us/sample - loss: 0.0281 - acc: 0.9738 - val_loss: 0.0020 - val_acc: 0.9998\n",
            "Epoch 32/50\n",
            "57916/57916 [==============================] - 6s 107us/sample - loss: 0.0283 - acc: 0.9728 - val_loss: 0.0017 - val_acc: 0.9998\n",
            "Epoch 33/50\n",
            "57916/57916 [==============================] - 6s 107us/sample - loss: 0.0270 - acc: 0.9745 - val_loss: 0.0017 - val_acc: 1.0000\n",
            "Epoch 34/50\n",
            "57916/57916 [==============================] - 6s 109us/sample - loss: 0.0266 - acc: 0.9756 - val_loss: 0.0015 - val_acc: 1.0000\n",
            "Epoch 35/50\n",
            "57916/57916 [==============================] - 6s 110us/sample - loss: 0.0256 - acc: 0.9764 - val_loss: 0.0013 - val_acc: 1.0000\n",
            "Epoch 36/50\n",
            "57916/57916 [==============================] - 6s 105us/sample - loss: 0.0251 - acc: 0.9766 - val_loss: 0.0013 - val_acc: 1.0000\n",
            "Epoch 37/50\n",
            "57916/57916 [==============================] - 6s 110us/sample - loss: 0.0245 - acc: 0.9777 - val_loss: 0.0014 - val_acc: 1.0000\n",
            "Epoch 38/50\n",
            "57916/57916 [==============================] - 6s 106us/sample - loss: 0.0239 - acc: 0.9779 - val_loss: 0.0012 - val_acc: 1.0000\n",
            "Epoch 39/50\n",
            "57916/57916 [==============================] - 6s 108us/sample - loss: 0.0238 - acc: 0.9785 - val_loss: 0.0011 - val_acc: 1.0000\n",
            "Epoch 40/50\n",
            "57916/57916 [==============================] - 6s 107us/sample - loss: 0.0234 - acc: 0.9784 - val_loss: 0.0011 - val_acc: 1.0000\n",
            "Epoch 41/50\n",
            "57916/57916 [==============================] - 6s 106us/sample - loss: 0.0224 - acc: 0.9796 - val_loss: 0.0012 - val_acc: 1.0000\n",
            "Epoch 42/50\n",
            "57916/57916 [==============================] - 6s 107us/sample - loss: 0.0225 - acc: 0.9796 - val_loss: 9.0097e-04 - val_acc: 1.0000\n",
            "Epoch 43/50\n",
            "57916/57916 [==============================] - 6s 108us/sample - loss: 0.0214 - acc: 0.9807 - val_loss: 8.8147e-04 - val_acc: 1.0000\n",
            "Epoch 44/50\n",
            "57916/57916 [==============================] - 6s 109us/sample - loss: 0.0219 - acc: 0.9797 - val_loss: 8.0502e-04 - val_acc: 1.0000\n",
            "Epoch 45/50\n",
            "57916/57916 [==============================] - 6s 107us/sample - loss: 0.0206 - acc: 0.9816 - val_loss: 6.9346e-04 - val_acc: 1.0000\n",
            "Epoch 46/50\n",
            "57916/57916 [==============================] - 6s 109us/sample - loss: 0.0206 - acc: 0.9816 - val_loss: 7.6459e-04 - val_acc: 1.0000\n",
            "Epoch 47/50\n",
            "57916/57916 [==============================] - 6s 108us/sample - loss: 0.0201 - acc: 0.9823 - val_loss: 7.4736e-04 - val_acc: 1.0000\n",
            "Epoch 48/50\n",
            "57916/57916 [==============================] - 6s 109us/sample - loss: 0.0195 - acc: 0.9830 - val_loss: 6.4535e-04 - val_acc: 1.0000\n",
            "Epoch 49/50\n",
            "57916/57916 [==============================] - 6s 109us/sample - loss: 0.0200 - acc: 0.9824 - val_loss: 7.3810e-04 - val_acc: 1.0000\n",
            "Epoch 50/50\n",
            "57916/57916 [==============================] - 7s 118us/sample - loss: 0.0197 - acc: 0.9822 - val_loss: 6.7058e-04 - val_acc: 1.0000\n"
          ]
        }
      ],
      "source": [
        "from sklearn.model_selection import train_test_split\n",
        "import tensorflow as tf\n",
        "from tensorflow import keras\n",
        "from tensorflow.keras import layers\n",
        "from tensorflow.keras.callbacks import EarlyStopping\n",
        "from keras.layers import Dense, Dropout, Activation\n",
        "early_stopping = EarlyStopping(monitor=\"val_loss\",mode = 'auto',patience=15)\n",
        "#test 1\n",
        "\n",
        "model = keras.Sequential()\n",
        "model.add(layers.Dense(256,input_dim=9, activation='relu'))\n",
        "\n",
        "model.add(layers.Dropout(0.2, noise_shape=None, seed=None))\n",
        "model.add(layers.Dense(128,activation='relu'))\n",
        "model.add(layers.Dropout(0.2, noise_shape=None, seed=None))\n",
        "model.add(layers.Dense(128,activation='relu'))\n",
        "model.add(layers.Dropout(0.1, noise_shape=None, seed=None))\n",
        "model.add(layers.Dense(32,activation='relu'))\n",
        "model.add(layers.Dropout(0.2, noise_shape=None, seed=None))\n",
        "model.add(layers.Dense(1))\n",
        "\n",
        "opt = keras.optimizers.Adamax()\n",
        "model.compile(loss='mean_squared_error', optimizer=opt,metrics=['accuracy'])\n",
        "\n",
        "history = model.fit(X_train, y_train, batch_size=75, epochs=50, validation_data=(X_test, y_test),callbacks=[early_stopping])\n",
        "# history = model.fit(X_train, y_train, batch_size=75, epochs=400, validation_data=(X_test, y_test))"
      ]
    },
    {
      "cell_type": "code",
      "execution_count": 76,
      "metadata": {},
      "outputs": [
        {
          "data": {
            "text/plain": [
              "<matplotlib.legend.Legend at 0x11d89371be0>"
            ]
          },
          "execution_count": 76,
          "metadata": {},
          "output_type": "execute_result"
        },
        {
          "data": {
            "image/png": "[encoded data removed]",
            "text/plain": [
              "<Figure size 1440x576 with 1 Axes>"
            ]
          },
          "metadata": {
            "needs_background": "light"
          },
          "output_type": "display_data"
        }
      ],
      "source": [
        "plt.figure(figsize=[20,8])\n",
        "\n",
        "plt.subplot(1,2,1)\n",
        "plt.plot(history.history['acc'])\n",
        "plt.plot(history.history['val_acc'])\n",
        "plt.title('Model Accuracy', size=25, pad=20)\n",
        "plt.ylabel('Accuracy', size=15)\n",
        "plt.xlabel('Epoch', size=15)\n",
        "plt.legend(['train', 'test'], loc='upper left')"
      ]
    },
    {
      "cell_type": "code",
      "execution_count": 77,
      "metadata": {},
      "outputs": [
        {
          "data": {
            "text/plain": [
              "<matplotlib.legend.Legend at 0x11d893bcdd8>"
            ]
          },
          "execution_count": 77,
          "metadata": {},
          "output_type": "execute_result"
        },
        {
          "data": {
            "image/png": "[encoded data removed]",
            "text/plain": [
              "<Figure size 432x288 with 1 Axes>"
            ]
          },
          "metadata": {
            "needs_background": "light"
          },
          "output_type": "display_data"
        }
      ],
      "source": [
        "plt.plot(history.history['loss'])\n",
        "plt.plot(history.history['val_loss'])\n",
        "plt.title('Model Loss', size=25, pad=20)\n",
        "plt.ylabel('Loss', size=15)\n",
        "plt.xlabel('Epoch', size=15)\n",
        "plt.legend(['train', 'test'], loc='upper left')"
      ]
    },
    {
      "cell_type": "code",
      "execution_count": 78,
      "metadata": {},
      "outputs": [],
      "source": [
        "from sklearn.metrics import roc_curve\n",
        "y_pred_keras = model.predict(X_test).ravel()\n",
        "fpr_keras, tpr_keras, thresholds_keras = roc_curve(y_test, y_pred_keras)"
      ]
    },
    {
      "cell_type": "code",
      "execution_count": 79,
      "metadata": {},
      "outputs": [],
      "source": [
        "from sklearn.metrics import auc\n",
        "auc_keras = auc(fpr_keras, tpr_keras)"
      ]
    },
    {
      "cell_type": "code",
      "execution_count": 80,
      "metadata": {},
      "outputs": [
        {
          "data": {
            "image/png": "[encoded data removed]",
            "text/plain": [
              "<Figure size 432x288 with 1 Axes>"
            ]
          },
          "metadata": {
            "needs_background": "light"
          },
          "output_type": "display_data"
        }
      ],
      "source": [
        "plt.figure(1)\n",
        "plt.plot([0, 1], [0, 1], 'k--')\n",
        "plt.plot(fpr_keras, tpr_keras, label='Keras (area = {:.3f})'.format(auc_keras))\n",
        "plt.xlabel('False positive rate')\n",
        "plt.ylabel('True positive rate')\n",
        "plt.title('ROC curve')\n",
        "plt.legend(loc='best')\n",
        "plt.show()"
      ]
    },
    {
      "cell_type": "code",
      "execution_count": 81,
      "metadata": {},
      "outputs": [],
      "source": [
        "y_pred = model.predict(X_test)\n",
        "y_pred = y_pred > 0.5"
      ]
    },
    {
      "cell_type": "code",
      "execution_count": 82,
      "metadata": {},
      "outputs": [],
      "source": [
        "from sklearn.metrics import confusion_matrix\n",
        "cm = confusion_matrix(y_test, y_pred)"
      ]
    },
    {
      "cell_type": "code",
      "execution_count": 83,
      "metadata": {},
      "outputs": [],
      "source": [
        "import seaborn as sns"
      ]
    },
    {
      "cell_type": "code",
      "execution_count": 84,
      "metadata": {},
      "outputs": [
        {
          "data": {
            "text/plain": [
              "Text(0.5, 15.0, 'Predicted label')"
            ]
          },
          "execution_count": 84,
          "metadata": {},
          "output_type": "execute_result"
        },
        {
          "data": {
            "image/png": "[encoded data removed]",
            "text/plain": [
              "<Figure size 432x288 with 2 Axes>"
            ]
          },
          "metadata": {
            "needs_background": "light"
          },
          "output_type": "display_data"
        }
      ],
      "source": [
        "p = sns.heatmap(pd.DataFrame(cm), annot=True, cmap=\"YlGnBu\" ,fmt='g')\n",
        "plt.title('Confusion matrix', y=1.1)\n",
        "plt.ylabel('Actual label')\n",
        "plt.xlabel('Predicted label')"
      ]
    }
  ],
  "metadata": {
    "accelerator": "GPU",
    "colab": {
      "collapsed_sections": [],
      "provenance": []
    },
    "kernelspec": {
      "display_name": "Python 3.7.3 ('base')",
      "language": "python",
      "name": "python3"
    },
    "language_info": {
      "codemirror_mode": {
        "name": "ipython",
        "version": 3
      },
      "file_extension": ".py",
      "mimetype": "text/x-python",
      "name": "python",
      "nbconvert_exporter": "python",
      "pygments_lexer": "ipython3",
      "version": "3.7.3"
    },
    "vscode": {
      "interpreter": {
        "hash": "d9783cdf2a37e2a41721e81ed5e12f4266c666f19eac87f25458d24597dc339e"
      }
    }
  },
  "nbformat": 4,
  "nbformat_minor": 0
}
