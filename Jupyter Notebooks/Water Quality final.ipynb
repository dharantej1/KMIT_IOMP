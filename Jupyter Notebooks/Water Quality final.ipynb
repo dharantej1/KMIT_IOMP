{
  "nbformat": 4,
  "nbformat_minor": 0,
  "metadata": {
    "colab": {
      "provenance": [],
      "collapsed_sections": []
    },
    "kernelspec": {
      "name": "python3",
      "display_name": "Python 3"
    },
    "language_info": {
      "name": "python"
    },
    "accelerator": "GPU"
  },
  "cells": [
    {
      "cell_type": "code",
      "execution_count": null,
      "metadata": {
        "id": "O1rQQ9F2yxy-"
      },
      "outputs": [],
      "source": [
        "import pandas as pd\n",
        "import numpy as np\n",
        "from IPython.display import Image\n",
        "import matplotlib.pyplot as plt\n"
      ]
    },
    {
      "cell_type": "code",
      "source": [
        "df = pd.read_csv(\"./water_potability.csv\")"
      ],
      "metadata": {
        "id": "2FY4gcAAy5FW"
      },
      "execution_count": null,
      "outputs": []
    },
    {
      "cell_type": "code",
      "source": [
        "df.head()"
      ],
      "metadata": {
        "colab": {
          "base_uri": "https://localhost:8080/",
          "height": 270
        },
        "id": "K_8YUgxnzC9X",
        "outputId": "d951d0a8-7a9a-4185-b2ae-403fdc8f0447"
      },
      "execution_count": null,
      "outputs": [
        {
          "output_type": "execute_result",
          "data": {
            "text/plain": [
              "         ph    Hardness       Solids  Chloramines     Sulfate  Conductivity  \\\n",
              "0       NaN  204.890456  20791.31898     7.300212  368.516441    564.308654   \n",
              "1  3.716080  129.422921  18630.05786     6.635246         NaN    592.885359   \n",
              "2  8.099124  224.236259  19909.54173     9.275884         NaN    418.606213   \n",
              "3  8.316766  214.373394  22018.41744     8.059332  356.886136    363.266516   \n",
              "4  9.092223  181.101509  17978.98634     6.546600  310.135738    398.410813   \n",
              "\n",
              "   Organic_carbon  Trihalomethanes  Turbidity  Potability  \n",
              "0       10.379783        86.990970   2.963135           0  \n",
              "1       15.180013        56.329076   4.500656           0  \n",
              "2       16.868637        66.420093   3.055934           0  \n",
              "3       18.436525       100.341674   4.628771           0  \n",
              "4       11.558279        31.997993   4.075075           0  "
            ],
            "text/html": [
              "\n",
              "  <div id=\"df-6d70ccd7-c5a5-495a-8688-3bc3a6454776\">\n",
              "    <div class=\"colab-df-container\">\n",
              "      <div>\n",
              "<style scoped>\n",
              "    .dataframe tbody tr th:only-of-type {\n",
              "        vertical-align: middle;\n",
              "    }\n",
              "\n",
              "    .dataframe tbody tr th {\n",
              "        vertical-align: top;\n",
              "    }\n",
              "\n",
              "    .dataframe thead th {\n",
              "        text-align: right;\n",
              "    }\n",
              "</style>\n",
              "<table border=\"1\" class=\"dataframe\">\n",
              "  <thead>\n",
              "    <tr style=\"text-align: right;\">\n",
              "      <th></th>\n",
              "      <th>ph</th>\n",
              "      <th>Hardness</th>\n",
              "      <th>Solids</th>\n",
              "      <th>Chloramines</th>\n",
              "      <th>Sulfate</th>\n",
              "      <th>Conductivity</th>\n",
              "      <th>Organic_carbon</th>\n",
              "      <th>Trihalomethanes</th>\n",
              "      <th>Turbidity</th>\n",
              "      <th>Potability</th>\n",
              "    </tr>\n",
              "  </thead>\n",
              "  <tbody>\n",
              "    <tr>\n",
              "      <th>0</th>\n",
              "      <td>NaN</td>\n",
              "      <td>204.890456</td>\n",
              "      <td>20791.31898</td>\n",
              "      <td>7.300212</td>\n",
              "      <td>368.516441</td>\n",
              "      <td>564.308654</td>\n",
              "      <td>10.379783</td>\n",
              "      <td>86.990970</td>\n",
              "      <td>2.963135</td>\n",
              "      <td>0</td>\n",
              "    </tr>\n",
              "    <tr>\n",
              "      <th>1</th>\n",
              "      <td>3.716080</td>\n",
              "      <td>129.422921</td>\n",
              "      <td>18630.05786</td>\n",
              "      <td>6.635246</td>\n",
              "      <td>NaN</td>\n",
              "      <td>592.885359</td>\n",
              "      <td>15.180013</td>\n",
              "      <td>56.329076</td>\n",
              "      <td>4.500656</td>\n",
              "      <td>0</td>\n",
              "    </tr>\n",
              "    <tr>\n",
              "      <th>2</th>\n",
              "      <td>8.099124</td>\n",
              "      <td>224.236259</td>\n",
              "      <td>19909.54173</td>\n",
              "      <td>9.275884</td>\n",
              "      <td>NaN</td>\n",
              "      <td>418.606213</td>\n",
              "      <td>16.868637</td>\n",
              "      <td>66.420093</td>\n",
              "      <td>3.055934</td>\n",
              "      <td>0</td>\n",
              "    </tr>\n",
              "    <tr>\n",
              "      <th>3</th>\n",
              "      <td>8.316766</td>\n",
              "      <td>214.373394</td>\n",
              "      <td>22018.41744</td>\n",
              "      <td>8.059332</td>\n",
              "      <td>356.886136</td>\n",
              "      <td>363.266516</td>\n",
              "      <td>18.436525</td>\n",
              "      <td>100.341674</td>\n",
              "      <td>4.628771</td>\n",
              "      <td>0</td>\n",
              "    </tr>\n",
              "    <tr>\n",
              "      <th>4</th>\n",
              "      <td>9.092223</td>\n",
              "      <td>181.101509</td>\n",
              "      <td>17978.98634</td>\n",
              "      <td>6.546600</td>\n",
              "      <td>310.135738</td>\n",
              "      <td>398.410813</td>\n",
              "      <td>11.558279</td>\n",
              "      <td>31.997993</td>\n",
              "      <td>4.075075</td>\n",
              "      <td>0</td>\n",
              "    </tr>\n",
              "  </tbody>\n",
              "</table>\n",
              "</div>\n",
              "      <button class=\"colab-df-convert\" onclick=\"convertToInteractive('df-6d70ccd7-c5a5-495a-8688-3bc3a6454776')\"\n",
              "              title=\"Convert this dataframe to an interactive table.\"\n",
              "              style=\"display:none;\">\n",
              "        \n",
              "  <svg xmlns=\"http://www.w3.org/2000/svg\" height=\"24px\"viewBox=\"0 0 24 24\"\n",
              "       width=\"24px\">\n",
              "    <path d=\"M0 0h24v24H0V0z\" fill=\"none\"/>\n",
              "    <path d=\"M18.56 5.44l.94 2.06.94-2.06 2.06-.94-2.06-.94-.94-2.06-.94 2.06-2.06.94zm-11 1L8.5 8.5l.94-2.06 2.06-.94-2.06-.94L8.5 2.5l-.94 2.06-2.06.94zm10 10l.94 2.06.94-2.06 2.06-.94-2.06-.94-.94-2.06-.94 2.06-2.06.94z\"/><path d=\"M17.41 7.96l-1.37-1.37c-.4-.4-.92-.59-1.43-.59-.52 0-1.04.2-1.43.59L10.3 9.45l-7.72 7.72c-.78.78-.78 2.05 0 2.83L4 21.41c.39.39.9.59 1.41.59.51 0 1.02-.2 1.41-.59l7.78-7.78 2.81-2.81c.8-.78.8-2.07 0-2.86zM5.41 20L4 18.59l7.72-7.72 1.47 1.35L5.41 20z\"/>\n",
              "  </svg>\n",
              "      </button>\n",
              "      \n",
              "  <style>\n",
              "    .colab-df-container {\n",
              "      display:flex;\n",
              "      flex-wrap:wrap;\n",
              "      gap: 12px;\n",
              "    }\n",
              "\n",
              "    .colab-df-convert {\n",
              "      background-color: #E8F0FE;\n",
              "      border: none;\n",
              "      border-radius: 50%;\n",
              "      cursor: pointer;\n",
              "      display: none;\n",
              "      fill: #1967D2;\n",
              "      height: 32px;\n",
              "      padding: 0 0 0 0;\n",
              "      width: 32px;\n",
              "    }\n",
              "\n",
              "    .colab-df-convert:hover {\n",
              "      background-color: #E2EBFA;\n",
              "      box-shadow: 0px 1px 2px rgba(60, 64, 67, 0.3), 0px 1px 3px 1px rgba(60, 64, 67, 0.15);\n",
              "      fill: #174EA6;\n",
              "    }\n",
              "\n",
              "    [theme=dark] .colab-df-convert {\n",
              "      background-color: #3B4455;\n",
              "      fill: #D2E3FC;\n",
              "    }\n",
              "\n",
              "    [theme=dark] .colab-df-convert:hover {\n",
              "      background-color: #434B5C;\n",
              "      box-shadow: 0px 1px 3px 1px rgba(0, 0, 0, 0.15);\n",
              "      filter: drop-shadow(0px 1px 2px rgba(0, 0, 0, 0.3));\n",
              "      fill: #FFFFFF;\n",
              "    }\n",
              "  </style>\n",
              "\n",
              "      <script>\n",
              "        const buttonEl =\n",
              "          document.querySelector('#df-6d70ccd7-c5a5-495a-8688-3bc3a6454776 button.colab-df-convert');\n",
              "        buttonEl.style.display =\n",
              "          google.colab.kernel.accessAllowed ? 'block' : 'none';\n",
              "\n",
              "        async function convertToInteractive(key) {\n",
              "          const element = document.querySelector('#df-6d70ccd7-c5a5-495a-8688-3bc3a6454776');\n",
              "          const dataTable =\n",
              "            await google.colab.kernel.invokeFunction('convertToInteractive',\n",
              "                                                     [key], {});\n",
              "          if (!dataTable) return;\n",
              "\n",
              "          const docLinkHtml = 'Like what you see? Visit the ' +\n",
              "            '<a target=\"_blank\" href=https://colab.research.google.com/notebooks/data_table.ipynb>data table notebook</a>'\n",
              "            + ' to learn more about interactive tables.';\n",
              "          element.innerHTML = '';\n",
              "          dataTable['output_type'] = 'display_data';\n",
              "          await google.colab.output.renderOutput(dataTable, element);\n",
              "          const docLink = document.createElement('div');\n",
              "          docLink.innerHTML = docLinkHtml;\n",
              "          element.appendChild(docLink);\n",
              "        }\n",
              "      </script>\n",
              "    </div>\n",
              "  </div>\n",
              "  "
            ]
          },
          "metadata": {},
          "execution_count": 74
        }
      ]
    },
    {
      "cell_type": "code",
      "source": [
        "np.shape(df)"
      ],
      "metadata": {
        "colab": {
          "base_uri": "https://localhost:8080/"
        },
        "id": "LdXbdJtvzPIX",
        "outputId": "579104c3-2643-4439-8faf-49be3bb6576f"
      },
      "execution_count": null,
      "outputs": [
        {
          "output_type": "execute_result",
          "data": {
            "text/plain": [
              "(104832, 10)"
            ]
          },
          "metadata": {},
          "execution_count": 75
        }
      ]
    },
    {
      "cell_type": "code",
      "source": [
        "print(\"Number of null values in different columns\")\n",
        "print(df.isna().sum())"
      ],
      "metadata": {
        "colab": {
          "base_uri": "https://localhost:8080/"
        },
        "id": "JNLKVFF7zQyu",
        "outputId": "893824c9-a9d0-4e39-f08f-464bb9c2883c"
      },
      "execution_count": null,
      "outputs": [
        {
          "output_type": "stream",
          "name": "stdout",
          "text": [
            "Number of null values in different columns\n",
            "ph                 15712\n",
            "Hardness               0\n",
            "Solids                 0\n",
            "Chloramines            0\n",
            "Sulfate            24992\n",
            "Conductivity           0\n",
            "Organic_carbon         0\n",
            "Trihalomethanes     5184\n",
            "Turbidity              0\n",
            "Potability             0\n",
            "dtype: int64\n"
          ]
        }
      ]
    },
    {
      "cell_type": "code",
      "source": [
        "print(\"Number of null values in different columns\")\n",
        "print(df.isna().sum())"
      ],
      "metadata": {
        "colab": {
          "base_uri": "https://localhost:8080/"
        },
        "id": "KPckMYHh7_d3",
        "outputId": "16eaac56-5ba6-4821-ecb3-bb309e784fe8"
      },
      "execution_count": null,
      "outputs": [
        {
          "output_type": "stream",
          "name": "stdout",
          "text": [
            "Number of null values in different columns\n",
            "ph                 15712\n",
            "Hardness               0\n",
            "Solids                 0\n",
            "Chloramines            0\n",
            "Sulfate            24992\n",
            "Conductivity           0\n",
            "Organic_carbon         0\n",
            "Trihalomethanes     5184\n",
            "Turbidity              0\n",
            "Potability             0\n",
            "dtype: int64\n"
          ]
        }
      ]
    },
    {
      "cell_type": "code",
      "source": [
        "df=df.dropna()\n",
        "# df[\"ph\"].fillna(value = df[\"ph\"].mean(),inplace=True)\n",
        "# df[\"Sulfate\"].fillna(value = df[\"Sulfate\"].mean(),inplace=True)\n",
        "# df[\"Trihalomethanes\"].fillna(value = df[\"Trihalomethanes\"].mean(),inplace=True)"
      ],
      "metadata": {
        "id": "pp6WfvJbzSbf"
      },
      "execution_count": null,
      "outputs": []
    },
    {
      "cell_type": "code",
      "source": [
        "df.shape"
      ],
      "metadata": {
        "colab": {
          "base_uri": "https://localhost:8080/"
        },
        "id": "y9xyDYhxzl3A",
        "outputId": "bcc93a9e-5592-4de0-ea46-5efaa2b48b2c"
      },
      "execution_count": null,
      "outputs": [
        {
          "output_type": "execute_result",
          "data": {
            "text/plain": [
              "(64352, 10)"
            ]
          },
          "metadata": {},
          "execution_count": 79
        }
      ]
    },
    {
      "cell_type": "code",
      "source": [
        "x = pd.DataFrame(df,\n",
        "                  columns = ['ph', 'Hardness',\n",
        "                             'Solids', 'Chloramines','Sulfate', 'Conductivity',\n",
        "                             'Organic_carbon', 'Trihalomethanes',\"Turbidity\"])\n",
        "y = pd.DataFrame(df,\n",
        "                  columns = [\"Potability\"])"
      ],
      "metadata": {
        "id": "RmW2RDRjznDH"
      },
      "execution_count": null,
      "outputs": []
    },
    {
      "cell_type": "code",
      "source": [
        "\n",
        "df.describe()"
      ],
      "metadata": {
        "colab": {
          "base_uri": "https://localhost:8080/",
          "height": 364
        },
        "id": "q06UebZIzp6J",
        "outputId": "161fdc6b-0537-4edb-ef93-7a3a9a86804a"
      },
      "execution_count": null,
      "outputs": [
        {
          "output_type": "execute_result",
          "data": {
            "text/plain": [
              "                 ph      Hardness        Solids   Chloramines       Sulfate  \\\n",
              "count  64352.000000  64352.000000  64352.000000  64352.000000  64352.000000   \n",
              "mean       7.085990    195.968072  21917.441375      7.134338    333.224672   \n",
              "std        1.572958     32.627223   8640.157938      1.584438     41.195246   \n",
              "min        0.227499     73.492234    320.942611      1.390871    129.000000   \n",
              "25%        6.089431    176.736376  15613.160530      6.137757    307.621462   \n",
              "50%        7.027297    197.191839  20933.512750      7.143907    332.232177   \n",
              "75%        8.053044    216.454108  27192.280560      8.110140    359.392567   \n",
              "max       14.000000    317.338124  56488.672410     13.127000    481.030642   \n",
              "\n",
              "       Conductivity  Organic_carbon  Trihalomethanes     Turbidity  \\\n",
              "count  64352.000000    64352.000000     64352.000000  64352.000000   \n",
              "mean     426.526409       14.357709        66.400859      3.969729   \n",
              "std       80.693129        3.324158        16.073237      0.780158   \n",
              "min      201.619737        2.200000         8.577013      1.450000   \n",
              "25%      366.558131       12.120956        55.947322      3.442848   \n",
              "50%      423.455906       14.322019        66.542198      3.968177   \n",
              "75%      482.451933       16.684074        77.297300      4.515150   \n",
              "max      753.342620       27.006707       124.000000      6.494749   \n",
              "\n",
              "         Potability  \n",
              "count  64352.000000  \n",
              "mean       0.403282  \n",
              "std        0.490560  \n",
              "min        0.000000  \n",
              "25%        0.000000  \n",
              "50%        0.000000  \n",
              "75%        1.000000  \n",
              "max        1.000000  "
            ],
            "text/html": [
              "\n",
              "  <div id=\"df-277372e8-64e0-4aae-b9d0-d15a177c7ab5\">\n",
              "    <div class=\"colab-df-container\">\n",
              "      <div>\n",
              "<style scoped>\n",
              "    .dataframe tbody tr th:only-of-type {\n",
              "        vertical-align: middle;\n",
              "    }\n",
              "\n",
              "    .dataframe tbody tr th {\n",
              "        vertical-align: top;\n",
              "    }\n",
              "\n",
              "    .dataframe thead th {\n",
              "        text-align: right;\n",
              "    }\n",
              "</style>\n",
              "<table border=\"1\" class=\"dataframe\">\n",
              "  <thead>\n",
              "    <tr style=\"text-align: right;\">\n",
              "      <th></th>\n",
              "      <th>ph</th>\n",
              "      <th>Hardness</th>\n",
              "      <th>Solids</th>\n",
              "      <th>Chloramines</th>\n",
              "      <th>Sulfate</th>\n",
              "      <th>Conductivity</th>\n",
              "      <th>Organic_carbon</th>\n",
              "      <th>Trihalomethanes</th>\n",
              "      <th>Turbidity</th>\n",
              "      <th>Potability</th>\n",
              "    </tr>\n",
              "  </thead>\n",
              "  <tbody>\n",
              "    <tr>\n",
              "      <th>count</th>\n",
              "      <td>64352.000000</td>\n",
              "      <td>64352.000000</td>\n",
              "      <td>64352.000000</td>\n",
              "      <td>64352.000000</td>\n",
              "      <td>64352.000000</td>\n",
              "      <td>64352.000000</td>\n",
              "      <td>64352.000000</td>\n",
              "      <td>64352.000000</td>\n",
              "      <td>64352.000000</td>\n",
              "      <td>64352.000000</td>\n",
              "    </tr>\n",
              "    <tr>\n",
              "      <th>mean</th>\n",
              "      <td>7.085990</td>\n",
              "      <td>195.968072</td>\n",
              "      <td>21917.441375</td>\n",
              "      <td>7.134338</td>\n",
              "      <td>333.224672</td>\n",
              "      <td>426.526409</td>\n",
              "      <td>14.357709</td>\n",
              "      <td>66.400859</td>\n",
              "      <td>3.969729</td>\n",
              "      <td>0.403282</td>\n",
              "    </tr>\n",
              "    <tr>\n",
              "      <th>std</th>\n",
              "      <td>1.572958</td>\n",
              "      <td>32.627223</td>\n",
              "      <td>8640.157938</td>\n",
              "      <td>1.584438</td>\n",
              "      <td>41.195246</td>\n",
              "      <td>80.693129</td>\n",
              "      <td>3.324158</td>\n",
              "      <td>16.073237</td>\n",
              "      <td>0.780158</td>\n",
              "      <td>0.490560</td>\n",
              "    </tr>\n",
              "    <tr>\n",
              "      <th>min</th>\n",
              "      <td>0.227499</td>\n",
              "      <td>73.492234</td>\n",
              "      <td>320.942611</td>\n",
              "      <td>1.390871</td>\n",
              "      <td>129.000000</td>\n",
              "      <td>201.619737</td>\n",
              "      <td>2.200000</td>\n",
              "      <td>8.577013</td>\n",
              "      <td>1.450000</td>\n",
              "      <td>0.000000</td>\n",
              "    </tr>\n",
              "    <tr>\n",
              "      <th>25%</th>\n",
              "      <td>6.089431</td>\n",
              "      <td>176.736376</td>\n",
              "      <td>15613.160530</td>\n",
              "      <td>6.137757</td>\n",
              "      <td>307.621462</td>\n",
              "      <td>366.558131</td>\n",
              "      <td>12.120956</td>\n",
              "      <td>55.947322</td>\n",
              "      <td>3.442848</td>\n",
              "      <td>0.000000</td>\n",
              "    </tr>\n",
              "    <tr>\n",
              "      <th>50%</th>\n",
              "      <td>7.027297</td>\n",
              "      <td>197.191839</td>\n",
              "      <td>20933.512750</td>\n",
              "      <td>7.143907</td>\n",
              "      <td>332.232177</td>\n",
              "      <td>423.455906</td>\n",
              "      <td>14.322019</td>\n",
              "      <td>66.542198</td>\n",
              "      <td>3.968177</td>\n",
              "      <td>0.000000</td>\n",
              "    </tr>\n",
              "    <tr>\n",
              "      <th>75%</th>\n",
              "      <td>8.053044</td>\n",
              "      <td>216.454108</td>\n",
              "      <td>27192.280560</td>\n",
              "      <td>8.110140</td>\n",
              "      <td>359.392567</td>\n",
              "      <td>482.451933</td>\n",
              "      <td>16.684074</td>\n",
              "      <td>77.297300</td>\n",
              "      <td>4.515150</td>\n",
              "      <td>1.000000</td>\n",
              "    </tr>\n",
              "    <tr>\n",
              "      <th>max</th>\n",
              "      <td>14.000000</td>\n",
              "      <td>317.338124</td>\n",
              "      <td>56488.672410</td>\n",
              "      <td>13.127000</td>\n",
              "      <td>481.030642</td>\n",
              "      <td>753.342620</td>\n",
              "      <td>27.006707</td>\n",
              "      <td>124.000000</td>\n",
              "      <td>6.494749</td>\n",
              "      <td>1.000000</td>\n",
              "    </tr>\n",
              "  </tbody>\n",
              "</table>\n",
              "</div>\n",
              "      <button class=\"colab-df-convert\" onclick=\"convertToInteractive('df-277372e8-64e0-4aae-b9d0-d15a177c7ab5')\"\n",
              "              title=\"Convert this dataframe to an interactive table.\"\n",
              "              style=\"display:none;\">\n",
              "        \n",
              "  <svg xmlns=\"http://www.w3.org/2000/svg\" height=\"24px\"viewBox=\"0 0 24 24\"\n",
              "       width=\"24px\">\n",
              "    <path d=\"M0 0h24v24H0V0z\" fill=\"none\"/>\n",
              "    <path d=\"M18.56 5.44l.94 2.06.94-2.06 2.06-.94-2.06-.94-.94-2.06-.94 2.06-2.06.94zm-11 1L8.5 8.5l.94-2.06 2.06-.94-2.06-.94L8.5 2.5l-.94 2.06-2.06.94zm10 10l.94 2.06.94-2.06 2.06-.94-2.06-.94-.94-2.06-.94 2.06-2.06.94z\"/><path d=\"M17.41 7.96l-1.37-1.37c-.4-.4-.92-.59-1.43-.59-.52 0-1.04.2-1.43.59L10.3 9.45l-7.72 7.72c-.78.78-.78 2.05 0 2.83L4 21.41c.39.39.9.59 1.41.59.51 0 1.02-.2 1.41-.59l7.78-7.78 2.81-2.81c.8-.78.8-2.07 0-2.86zM5.41 20L4 18.59l7.72-7.72 1.47 1.35L5.41 20z\"/>\n",
              "  </svg>\n",
              "      </button>\n",
              "      \n",
              "  <style>\n",
              "    .colab-df-container {\n",
              "      display:flex;\n",
              "      flex-wrap:wrap;\n",
              "      gap: 12px;\n",
              "    }\n",
              "\n",
              "    .colab-df-convert {\n",
              "      background-color: #E8F0FE;\n",
              "      border: none;\n",
              "      border-radius: 50%;\n",
              "      cursor: pointer;\n",
              "      display: none;\n",
              "      fill: #1967D2;\n",
              "      height: 32px;\n",
              "      padding: 0 0 0 0;\n",
              "      width: 32px;\n",
              "    }\n",
              "\n",
              "    .colab-df-convert:hover {\n",
              "      background-color: #E2EBFA;\n",
              "      box-shadow: 0px 1px 2px rgba(60, 64, 67, 0.3), 0px 1px 3px 1px rgba(60, 64, 67, 0.15);\n",
              "      fill: #174EA6;\n",
              "    }\n",
              "\n",
              "    [theme=dark] .colab-df-convert {\n",
              "      background-color: #3B4455;\n",
              "      fill: #D2E3FC;\n",
              "    }\n",
              "\n",
              "    [theme=dark] .colab-df-convert:hover {\n",
              "      background-color: #434B5C;\n",
              "      box-shadow: 0px 1px 3px 1px rgba(0, 0, 0, 0.15);\n",
              "      filter: drop-shadow(0px 1px 2px rgba(0, 0, 0, 0.3));\n",
              "      fill: #FFFFFF;\n",
              "    }\n",
              "  </style>\n",
              "\n",
              "      <script>\n",
              "        const buttonEl =\n",
              "          document.querySelector('#df-277372e8-64e0-4aae-b9d0-d15a177c7ab5 button.colab-df-convert');\n",
              "        buttonEl.style.display =\n",
              "          google.colab.kernel.accessAllowed ? 'block' : 'none';\n",
              "\n",
              "        async function convertToInteractive(key) {\n",
              "          const element = document.querySelector('#df-277372e8-64e0-4aae-b9d0-d15a177c7ab5');\n",
              "          const dataTable =\n",
              "            await google.colab.kernel.invokeFunction('convertToInteractive',\n",
              "                                                     [key], {});\n",
              "          if (!dataTable) return;\n",
              "\n",
              "          const docLinkHtml = 'Like what you see? Visit the ' +\n",
              "            '<a target=\"_blank\" href=https://colab.research.google.com/notebooks/data_table.ipynb>data table notebook</a>'\n",
              "            + ' to learn more about interactive tables.';\n",
              "          element.innerHTML = '';\n",
              "          dataTable['output_type'] = 'display_data';\n",
              "          await google.colab.output.renderOutput(dataTable, element);\n",
              "          const docLink = document.createElement('div');\n",
              "          docLink.innerHTML = docLinkHtml;\n",
              "          element.appendChild(docLink);\n",
              "        }\n",
              "      </script>\n",
              "    </div>\n",
              "  </div>\n",
              "  "
            ]
          },
          "metadata": {},
          "execution_count": 81
        }
      ]
    },
    {
      "cell_type": "code",
      "source": [
        "from sklearn.feature_selection import chi2\n",
        "from sklearn.feature_selection import SelectKBest  \n",
        "\n",
        "\n",
        "bestfeatures = SelectKBest(score_func = chi2, k=5)\n",
        "fit = bestfeatures.fit(x,y)\n",
        "fit.scores_\n",
        "dfscores = pd.DataFrame(fit.scores_)\n",
        "dfcolumns = pd.DataFrame(x.columns)\n",
        "featurescore = pd.concat([dfcolumns,dfscores],axis=1)\n",
        "featurescore.columns = ['feature' , 'relevance']\n",
        "featurescore.sort_values(by='relevance',ascending=False)"
      ],
      "metadata": {
        "colab": {
          "base_uri": "https://localhost:8080/",
          "height": 332
        },
        "id": "V4ETtdjh-sy9",
        "outputId": "c18d69a5-0c98-41fd-b37c-472ac14c50d1"
      },
      "execution_count": null,
      "outputs": [
        {
          "output_type": "execute_result",
          "data": {
            "text/plain": [
              "           feature      relevance\n",
              "2           Solids  362615.588772\n",
              "5     Conductivity     235.888170\n",
              "4          Sulfate      76.749220\n",
              "7  Trihalomethanes      21.395304\n",
              "6   Organic_carbon      12.001759\n",
              "3      Chloramines       9.781242\n",
              "8        Turbidity       5.076188\n",
              "0               ph       4.743756\n",
              "1         Hardness       0.791799"
            ],
            "text/html": [
              "\n",
              "  <div id=\"df-30b05d19-a40b-4e09-9d5c-5088ad94332e\">\n",
              "    <div class=\"colab-df-container\">\n",
              "      <div>\n",
              "<style scoped>\n",
              "    .dataframe tbody tr th:only-of-type {\n",
              "        vertical-align: middle;\n",
              "    }\n",
              "\n",
              "    .dataframe tbody tr th {\n",
              "        vertical-align: top;\n",
              "    }\n",
              "\n",
              "    .dataframe thead th {\n",
              "        text-align: right;\n",
              "    }\n",
              "</style>\n",
              "<table border=\"1\" class=\"dataframe\">\n",
              "  <thead>\n",
              "    <tr style=\"text-align: right;\">\n",
              "      <th></th>\n",
              "      <th>feature</th>\n",
              "      <th>relevance</th>\n",
              "    </tr>\n",
              "  </thead>\n",
              "  <tbody>\n",
              "    <tr>\n",
              "      <th>2</th>\n",
              "      <td>Solids</td>\n",
              "      <td>362615.588772</td>\n",
              "    </tr>\n",
              "    <tr>\n",
              "      <th>5</th>\n",
              "      <td>Conductivity</td>\n",
              "      <td>235.888170</td>\n",
              "    </tr>\n",
              "    <tr>\n",
              "      <th>4</th>\n",
              "      <td>Sulfate</td>\n",
              "      <td>76.749220</td>\n",
              "    </tr>\n",
              "    <tr>\n",
              "      <th>7</th>\n",
              "      <td>Trihalomethanes</td>\n",
              "      <td>21.395304</td>\n",
              "    </tr>\n",
              "    <tr>\n",
              "      <th>6</th>\n",
              "      <td>Organic_carbon</td>\n",
              "      <td>12.001759</td>\n",
              "    </tr>\n",
              "    <tr>\n",
              "      <th>3</th>\n",
              "      <td>Chloramines</td>\n",
              "      <td>9.781242</td>\n",
              "    </tr>\n",
              "    <tr>\n",
              "      <th>8</th>\n",
              "      <td>Turbidity</td>\n",
              "      <td>5.076188</td>\n",
              "    </tr>\n",
              "    <tr>\n",
              "      <th>0</th>\n",
              "      <td>ph</td>\n",
              "      <td>4.743756</td>\n",
              "    </tr>\n",
              "    <tr>\n",
              "      <th>1</th>\n",
              "      <td>Hardness</td>\n",
              "      <td>0.791799</td>\n",
              "    </tr>\n",
              "  </tbody>\n",
              "</table>\n",
              "</div>\n",
              "      <button class=\"colab-df-convert\" onclick=\"convertToInteractive('df-30b05d19-a40b-4e09-9d5c-5088ad94332e')\"\n",
              "              title=\"Convert this dataframe to an interactive table.\"\n",
              "              style=\"display:none;\">\n",
              "        \n",
              "  <svg xmlns=\"http://www.w3.org/2000/svg\" height=\"24px\"viewBox=\"0 0 24 24\"\n",
              "       width=\"24px\">\n",
              "    <path d=\"M0 0h24v24H0V0z\" fill=\"none\"/>\n",
              "    <path d=\"M18.56 5.44l.94 2.06.94-2.06 2.06-.94-2.06-.94-.94-2.06-.94 2.06-2.06.94zm-11 1L8.5 8.5l.94-2.06 2.06-.94-2.06-.94L8.5 2.5l-.94 2.06-2.06.94zm10 10l.94 2.06.94-2.06 2.06-.94-2.06-.94-.94-2.06-.94 2.06-2.06.94z\"/><path d=\"M17.41 7.96l-1.37-1.37c-.4-.4-.92-.59-1.43-.59-.52 0-1.04.2-1.43.59L10.3 9.45l-7.72 7.72c-.78.78-.78 2.05 0 2.83L4 21.41c.39.39.9.59 1.41.59.51 0 1.02-.2 1.41-.59l7.78-7.78 2.81-2.81c.8-.78.8-2.07 0-2.86zM5.41 20L4 18.59l7.72-7.72 1.47 1.35L5.41 20z\"/>\n",
              "  </svg>\n",
              "      </button>\n",
              "      \n",
              "  <style>\n",
              "    .colab-df-container {\n",
              "      display:flex;\n",
              "      flex-wrap:wrap;\n",
              "      gap: 12px;\n",
              "    }\n",
              "\n",
              "    .colab-df-convert {\n",
              "      background-color: #E8F0FE;\n",
              "      border: none;\n",
              "      border-radius: 50%;\n",
              "      cursor: pointer;\n",
              "      display: none;\n",
              "      fill: #1967D2;\n",
              "      height: 32px;\n",
              "      padding: 0 0 0 0;\n",
              "      width: 32px;\n",
              "    }\n",
              "\n",
              "    .colab-df-convert:hover {\n",
              "      background-color: #E2EBFA;\n",
              "      box-shadow: 0px 1px 2px rgba(60, 64, 67, 0.3), 0px 1px 3px 1px rgba(60, 64, 67, 0.15);\n",
              "      fill: #174EA6;\n",
              "    }\n",
              "\n",
              "    [theme=dark] .colab-df-convert {\n",
              "      background-color: #3B4455;\n",
              "      fill: #D2E3FC;\n",
              "    }\n",
              "\n",
              "    [theme=dark] .colab-df-convert:hover {\n",
              "      background-color: #434B5C;\n",
              "      box-shadow: 0px 1px 3px 1px rgba(0, 0, 0, 0.15);\n",
              "      filter: drop-shadow(0px 1px 2px rgba(0, 0, 0, 0.3));\n",
              "      fill: #FFFFFF;\n",
              "    }\n",
              "  </style>\n",
              "\n",
              "      <script>\n",
              "        const buttonEl =\n",
              "          document.querySelector('#df-30b05d19-a40b-4e09-9d5c-5088ad94332e button.colab-df-convert');\n",
              "        buttonEl.style.display =\n",
              "          google.colab.kernel.accessAllowed ? 'block' : 'none';\n",
              "\n",
              "        async function convertToInteractive(key) {\n",
              "          const element = document.querySelector('#df-30b05d19-a40b-4e09-9d5c-5088ad94332e');\n",
              "          const dataTable =\n",
              "            await google.colab.kernel.invokeFunction('convertToInteractive',\n",
              "                                                     [key], {});\n",
              "          if (!dataTable) return;\n",
              "\n",
              "          const docLinkHtml = 'Like what you see? Visit the ' +\n",
              "            '<a target=\"_blank\" href=https://colab.research.google.com/notebooks/data_table.ipynb>data table notebook</a>'\n",
              "            + ' to learn more about interactive tables.';\n",
              "          element.innerHTML = '';\n",
              "          dataTable['output_type'] = 'display_data';\n",
              "          await google.colab.output.renderOutput(dataTable, element);\n",
              "          const docLink = document.createElement('div');\n",
              "          docLink.innerHTML = docLinkHtml;\n",
              "          element.appendChild(docLink);\n",
              "        }\n",
              "      </script>\n",
              "    </div>\n",
              "  </div>\n",
              "  "
            ]
          },
          "metadata": {},
          "execution_count": 82
        }
      ]
    },
    {
      "cell_type": "code",
      "source": [
        "from sklearn.ensemble import RandomForestClassifier\n",
        "model = RandomForestClassifier().fit(x,y)\n",
        "model.feature_importances_  \n",
        "\n",
        "plt.figure(figsize=(20,10)) \n",
        "featuresimp = pd.DataFrame(model.feature_importances_, index = x.columns, columns=['importance'])\n",
        "featureimp = featuresimp.sort_values(by='importance',ascending=False)\n",
        "plt.bar(featuresimp.index, featuresimp['importance'])"
      ],
      "metadata": {
        "colab": {
          "base_uri": "https://localhost:8080/",
          "height": 573
        },
        "id": "L65W82FQBkzm",
        "outputId": "753677e2-c8d9-461c-b656-7b8e1c7284a9"
      },
      "execution_count": null,
      "outputs": [
        {
          "output_type": "stream",
          "name": "stderr",
          "text": [
            "/usr/local/lib/python3.7/dist-packages/ipykernel_launcher.py:2: DataConversionWarning: A column-vector y was passed when a 1d array was expected. Please change the shape of y to (n_samples,), for example using ravel().\n",
            "  \n"
          ]
        },
        {
          "output_type": "execute_result",
          "data": {
            "text/plain": [
              "<BarContainer object of 9 artists>"
            ]
          },
          "metadata": {},
          "execution_count": 83
        },
        {
          "output_type": "display_data",
          "data": {
            "text/plain": [
              "<Figure size 1440x720 with 1 Axes>"
            ],
            "image/png": "[encoded data removed]"
          },
          "metadata": {
            "needs_background": "light"
          }
        }
      ]
    },
    {
      "cell_type": "code",
      "source": [
        "import seaborn as sns\n",
        "\n",
        "plt.figure(figsize=(20,10)) \n",
        "datacor = df.corr()\n",
        "sns.heatmap(datacor,annot=True)"
      ],
      "metadata": {
        "colab": {
          "base_uri": "https://localhost:8080/",
          "height": 546
        },
        "id": "ATO1uU1xCZvu",
        "outputId": "9814d478-7af5-413a-8b9d-2d977c6f6f9a"
      },
      "execution_count": null,
      "outputs": [
        {
          "output_type": "execute_result",
          "data": {
            "text/plain": [
              "<matplotlib.axes._subplots.AxesSubplot at 0x7f1cf42864d0>"
            ]
          },
          "metadata": {},
          "execution_count": 84
        },
        {
          "output_type": "display_data",
          "data": {
            "text/plain": [
              "<Figure size 1440x720 with 2 Axes>"
            ],
            "image/png": "[encoded data removed]"
          },
          "metadata": {
            "needs_background": "light"
          }
        }
      ]
    },
    {
      "cell_type": "code",
      "source": [
        "df.reset_index(inplace=True)\n",
        "df=df.drop(['index'],axis=1)\n",
        "# df=df.drop(['Hardness'],axis=1)\n",
        "# df=df.drop(['Sulfate'],axis=1)\n",
        "df.groupby(\"Potability\").count()"
      ],
      "metadata": {
        "colab": {
          "base_uri": "https://localhost:8080/",
          "height": 143
        },
        "id": "Z7m-Tq43zsIP",
        "outputId": "2432ab27-de97-4ae5-bf04-e7a80f3d4d34"
      },
      "execution_count": null,
      "outputs": [
        {
          "output_type": "execute_result",
          "data": {
            "text/plain": [
              "               ph  Hardness  Solids  Chloramines  Sulfate  Conductivity  \\\n",
              "Potability                                                                \n",
              "0           38400     38400   38400        38400    38400         38400   \n",
              "1           25952     25952   25952        25952    25952         25952   \n",
              "\n",
              "            Organic_carbon  Trihalomethanes  Turbidity  \n",
              "Potability                                              \n",
              "0                    38400            38400      38400  \n",
              "1                    25952            25952      25952  "
            ],
            "text/html": [
              "\n",
              "  <div id=\"df-c08d864c-1fdc-406f-8f7e-586fc21afad7\">\n",
              "    <div class=\"colab-df-container\">\n",
              "      <div>\n",
              "<style scoped>\n",
              "    .dataframe tbody tr th:only-of-type {\n",
              "        vertical-align: middle;\n",
              "    }\n",
              "\n",
              "    .dataframe tbody tr th {\n",
              "        vertical-align: top;\n",
              "    }\n",
              "\n",
              "    .dataframe thead th {\n",
              "        text-align: right;\n",
              "    }\n",
              "</style>\n",
              "<table border=\"1\" class=\"dataframe\">\n",
              "  <thead>\n",
              "    <tr style=\"text-align: right;\">\n",
              "      <th></th>\n",
              "      <th>ph</th>\n",
              "      <th>Hardness</th>\n",
              "      <th>Solids</th>\n",
              "      <th>Chloramines</th>\n",
              "      <th>Sulfate</th>\n",
              "      <th>Conductivity</th>\n",
              "      <th>Organic_carbon</th>\n",
              "      <th>Trihalomethanes</th>\n",
              "      <th>Turbidity</th>\n",
              "    </tr>\n",
              "    <tr>\n",
              "      <th>Potability</th>\n",
              "      <th></th>\n",
              "      <th></th>\n",
              "      <th></th>\n",
              "      <th></th>\n",
              "      <th></th>\n",
              "      <th></th>\n",
              "      <th></th>\n",
              "      <th></th>\n",
              "      <th></th>\n",
              "    </tr>\n",
              "  </thead>\n",
              "  <tbody>\n",
              "    <tr>\n",
              "      <th>0</th>\n",
              "      <td>38400</td>\n",
              "      <td>38400</td>\n",
              "      <td>38400</td>\n",
              "      <td>38400</td>\n",
              "      <td>38400</td>\n",
              "      <td>38400</td>\n",
              "      <td>38400</td>\n",
              "      <td>38400</td>\n",
              "      <td>38400</td>\n",
              "    </tr>\n",
              "    <tr>\n",
              "      <th>1</th>\n",
              "      <td>25952</td>\n",
              "      <td>25952</td>\n",
              "      <td>25952</td>\n",
              "      <td>25952</td>\n",
              "      <td>25952</td>\n",
              "      <td>25952</td>\n",
              "      <td>25952</td>\n",
              "      <td>25952</td>\n",
              "      <td>25952</td>\n",
              "    </tr>\n",
              "  </tbody>\n",
              "</table>\n",
              "</div>\n",
              "      <button class=\"colab-df-convert\" onclick=\"convertToInteractive('df-c08d864c-1fdc-406f-8f7e-586fc21afad7')\"\n",
              "              title=\"Convert this dataframe to an interactive table.\"\n",
              "              style=\"display:none;\">\n",
              "        \n",
              "  <svg xmlns=\"http://www.w3.org/2000/svg\" height=\"24px\"viewBox=\"0 0 24 24\"\n",
              "       width=\"24px\">\n",
              "    <path d=\"M0 0h24v24H0V0z\" fill=\"none\"/>\n",
              "    <path d=\"M18.56 5.44l.94 2.06.94-2.06 2.06-.94-2.06-.94-.94-2.06-.94 2.06-2.06.94zm-11 1L8.5 8.5l.94-2.06 2.06-.94-2.06-.94L8.5 2.5l-.94 2.06-2.06.94zm10 10l.94 2.06.94-2.06 2.06-.94-2.06-.94-.94-2.06-.94 2.06-2.06.94z\"/><path d=\"M17.41 7.96l-1.37-1.37c-.4-.4-.92-.59-1.43-.59-.52 0-1.04.2-1.43.59L10.3 9.45l-7.72 7.72c-.78.78-.78 2.05 0 2.83L4 21.41c.39.39.9.59 1.41.59.51 0 1.02-.2 1.41-.59l7.78-7.78 2.81-2.81c.8-.78.8-2.07 0-2.86zM5.41 20L4 18.59l7.72-7.72 1.47 1.35L5.41 20z\"/>\n",
              "  </svg>\n",
              "      </button>\n",
              "      \n",
              "  <style>\n",
              "    .colab-df-container {\n",
              "      display:flex;\n",
              "      flex-wrap:wrap;\n",
              "      gap: 12px;\n",
              "    }\n",
              "\n",
              "    .colab-df-convert {\n",
              "      background-color: #E8F0FE;\n",
              "      border: none;\n",
              "      border-radius: 50%;\n",
              "      cursor: pointer;\n",
              "      display: none;\n",
              "      fill: #1967D2;\n",
              "      height: 32px;\n",
              "      padding: 0 0 0 0;\n",
              "      width: 32px;\n",
              "    }\n",
              "\n",
              "    .colab-df-convert:hover {\n",
              "      background-color: #E2EBFA;\n",
              "      box-shadow: 0px 1px 2px rgba(60, 64, 67, 0.3), 0px 1px 3px 1px rgba(60, 64, 67, 0.15);\n",
              "      fill: #174EA6;\n",
              "    }\n",
              "\n",
              "    [theme=dark] .colab-df-convert {\n",
              "      background-color: #3B4455;\n",
              "      fill: #D2E3FC;\n",
              "    }\n",
              "\n",
              "    [theme=dark] .colab-df-convert:hover {\n",
              "      background-color: #434B5C;\n",
              "      box-shadow: 0px 1px 3px 1px rgba(0, 0, 0, 0.15);\n",
              "      filter: drop-shadow(0px 1px 2px rgba(0, 0, 0, 0.3));\n",
              "      fill: #FFFFFF;\n",
              "    }\n",
              "  </style>\n",
              "\n",
              "      <script>\n",
              "        const buttonEl =\n",
              "          document.querySelector('#df-c08d864c-1fdc-406f-8f7e-586fc21afad7 button.colab-df-convert');\n",
              "        buttonEl.style.display =\n",
              "          google.colab.kernel.accessAllowed ? 'block' : 'none';\n",
              "\n",
              "        async function convertToInteractive(key) {\n",
              "          const element = document.querySelector('#df-c08d864c-1fdc-406f-8f7e-586fc21afad7');\n",
              "          const dataTable =\n",
              "            await google.colab.kernel.invokeFunction('convertToInteractive',\n",
              "                                                     [key], {});\n",
              "          if (!dataTable) return;\n",
              "\n",
              "          const docLinkHtml = 'Like what you see? Visit the ' +\n",
              "            '<a target=\"_blank\" href=https://colab.research.google.com/notebooks/data_table.ipynb>data table notebook</a>'\n",
              "            + ' to learn more about interactive tables.';\n",
              "          element.innerHTML = '';\n",
              "          dataTable['output_type'] = 'display_data';\n",
              "          await google.colab.output.renderOutput(dataTable, element);\n",
              "          const docLink = document.createElement('div');\n",
              "          docLink.innerHTML = docLinkHtml;\n",
              "          element.appendChild(docLink);\n",
              "        }\n",
              "      </script>\n",
              "    </div>\n",
              "  </div>\n",
              "  "
            ]
          },
          "metadata": {},
          "execution_count": 85
        }
      ]
    },
    {
      "cell_type": "code",
      "source": [
        "y = df['Potability']\n",
        "X = df.drop(['Potability'],axis=1)\n",
        "from sklearn.preprocessing import StandardScaler\n",
        "scaler = StandardScaler()\n",
        "X = scaler.fit_transform(X)\n",
        "\n",
        "# from sklearn.decomposition import PCA\n",
        "# pca = PCA(n_components=5) \n",
        "# X = pca.fit_transform(X1)\n",
        "\n",
        "from sklearn.model_selection import train_test_split\n",
        "X_train, X_test, y_train, y_test = train_test_split(X, y, test_size=0.10, random_state=0)\n",
        "print('Size Training Set: {}'.format(len(X_train)))\n",
        "print('Size Testing Set: {}'.format(len(X_test)))\n",
        "X_test_at_end = X_test[:100]\n",
        "y_test_at_end = y_test[:100]\n",
        "X_test = X_test[100:]\n",
        "y_test = y_test[100:]\n",
        "print('Size Training Set: {}'.format(len(X_train)))\n",
        "print('Size Testing Set: {}'.format(len(X_test)))"
      ],
      "metadata": {
        "colab": {
          "base_uri": "https://localhost:8080/"
        },
        "id": "NdYOEznTztuP",
        "outputId": "307af52a-f661-47bc-d1b6-21373b20c582"
      },
      "execution_count": null,
      "outputs": [
        {
          "output_type": "stream",
          "name": "stdout",
          "text": [
            "Size Training Set: 57916\n",
            "Size Testing Set: 6436\n",
            "Size Training Set: 57916\n",
            "Size Testing Set: 6336\n"
          ]
        }
      ]
    },
    {
      "cell_type": "code",
      "source": [
        "from sklearn.model_selection import train_test_split\n",
        "import tensorflow as tf\n",
        "from tensorflow import keras\n",
        "from tensorflow.keras import layers\n",
        "from tensorflow.keras.callbacks import EarlyStopping\n",
        "from keras.layers import Dense, Dropout, Activation\n",
        "early_stopping = EarlyStopping(monitor=\"val_loss\",mode = 'auto',patience=15)\n",
        "#test 1\n",
        "\n",
        "model = keras.Sequential()\n",
        "model.add(layers.Dense(256,input_dim=9, activation='relu'))\n",
        "model.add(Dropout(0.2))\n",
        "model.add(layers.Dense(128,activation='relu'))\n",
        "model.add(Dropout(0.2))\n",
        "model.add(layers.Dense(128,activation='relu'))\n",
        "model.add(Dropout(0.1))\n",
        "model.add(layers.Dense(32,activation='relu'))\n",
        "model.add(Dropout(0.2))\n",
        "model.add(layers.Dense(1))\n",
        "\n",
        "opt = keras.optimizers.Adamax()\n",
        "model.compile(loss='mean_squared_error', optimizer=opt,metrics=['accuracy'])\n",
        "\n",
        "history = model.fit(X_train, y_train, batch_size=75, epochs=50, validation_data=(X_test, y_test),callbacks=[early_stopping])\n",
        "# history = model.fit(X_train, y_train, batch_size=75, epochs=400, validation_data=(X_test, y_test))"
      ],
      "metadata": {
        "colab": {
          "base_uri": "https://localhost:8080/"
        },
        "id": "iwbXYxmVzuP-",
        "outputId": "8d6325e8-43cf-4e1e-841b-90bfe0ea57f3"
      },
      "execution_count": null,
      "outputs": [
        {
          "output_type": "stream",
          "name": "stdout",
          "text": [
            "Epoch 1/50\n",
            "773/773 [==============================] - 4s 4ms/step - loss: 0.2098 - accuracy: 0.6772 - val_loss: 0.1708 - val_accuracy: 0.7418\n",
            "Epoch 2/50\n",
            "773/773 [==============================] - 3s 4ms/step - loss: 0.1822 - accuracy: 0.7293 - val_loss: 0.1484 - val_accuracy: 0.7940\n",
            "Epoch 3/50\n",
            "773/773 [==============================] - 3s 4ms/step - loss: 0.1654 - accuracy: 0.7619 - val_loss: 0.1253 - val_accuracy: 0.8450\n",
            "Epoch 4/50\n",
            "773/773 [==============================] - 3s 4ms/step - loss: 0.1486 - accuracy: 0.7931 - val_loss: 0.1095 - val_accuracy: 0.8606\n",
            "Epoch 5/50\n",
            "773/773 [==============================] - 4s 5ms/step - loss: 0.1351 - accuracy: 0.8158 - val_loss: 0.0897 - val_accuracy: 0.8947\n",
            "Epoch 6/50\n",
            "773/773 [==============================] - 3s 4ms/step - loss: 0.1223 - accuracy: 0.8386 - val_loss: 0.0729 - val_accuracy: 0.9227\n",
            "Epoch 7/50\n",
            "773/773 [==============================] - 3s 4ms/step - loss: 0.1111 - accuracy: 0.8552 - val_loss: 0.0616 - val_accuracy: 0.9391\n",
            "Epoch 8/50\n",
            "773/773 [==============================] - 3s 4ms/step - loss: 0.1010 - accuracy: 0.8729 - val_loss: 0.0484 - val_accuracy: 0.9618\n",
            "Epoch 9/50\n",
            "773/773 [==============================] - 3s 4ms/step - loss: 0.0916 - accuracy: 0.8882 - val_loss: 0.0418 - val_accuracy: 0.9634\n",
            "Epoch 10/50\n",
            "773/773 [==============================] - 3s 4ms/step - loss: 0.0847 - accuracy: 0.8992 - val_loss: 0.0376 - val_accuracy: 0.9747\n",
            "Epoch 11/50\n",
            "773/773 [==============================] - 3s 4ms/step - loss: 0.0773 - accuracy: 0.9097 - val_loss: 0.0280 - val_accuracy: 0.9833\n",
            "Epoch 12/50\n",
            "773/773 [==============================] - 3s 4ms/step - loss: 0.0706 - accuracy: 0.9217 - val_loss: 0.0257 - val_accuracy: 0.9841\n",
            "Epoch 13/50\n",
            "773/773 [==============================] - 3s 4ms/step - loss: 0.0664 - accuracy: 0.9254 - val_loss: 0.0226 - val_accuracy: 0.9893\n",
            "Epoch 14/50\n",
            "773/773 [==============================] - 3s 4ms/step - loss: 0.0611 - accuracy: 0.9339 - val_loss: 0.0159 - val_accuracy: 0.9908\n",
            "Epoch 15/50\n",
            "773/773 [==============================] - 3s 4ms/step - loss: 0.0578 - accuracy: 0.9383 - val_loss: 0.0135 - val_accuracy: 0.9918\n",
            "Epoch 16/50\n",
            "773/773 [==============================] - 3s 4ms/step - loss: 0.0540 - accuracy: 0.9432 - val_loss: 0.0111 - val_accuracy: 0.9942\n",
            "Epoch 17/50\n",
            "773/773 [==============================] - 3s 4ms/step - loss: 0.0512 - accuracy: 0.9466 - val_loss: 0.0093 - val_accuracy: 0.9946\n",
            "Epoch 18/50\n",
            "773/773 [==============================] - 3s 4ms/step - loss: 0.0478 - accuracy: 0.9504 - val_loss: 0.0077 - val_accuracy: 0.9964\n",
            "Epoch 19/50\n",
            "773/773 [==============================] - 3s 4ms/step - loss: 0.0455 - accuracy: 0.9541 - val_loss: 0.0065 - val_accuracy: 0.9962\n",
            "Epoch 20/50\n",
            "773/773 [==============================] - 3s 4ms/step - loss: 0.0428 - accuracy: 0.9573 - val_loss: 0.0063 - val_accuracy: 0.9970\n",
            "Epoch 21/50\n",
            "773/773 [==============================] - 3s 4ms/step - loss: 0.0410 - accuracy: 0.9601 - val_loss: 0.0058 - val_accuracy: 0.9970\n",
            "Epoch 22/50\n",
            "773/773 [==============================] - 3s 4ms/step - loss: 0.0398 - accuracy: 0.9605 - val_loss: 0.0046 - val_accuracy: 0.9970\n",
            "Epoch 23/50\n",
            "773/773 [==============================] - 3s 4ms/step - loss: 0.0377 - accuracy: 0.9632 - val_loss: 0.0045 - val_accuracy: 0.9970\n",
            "Epoch 24/50\n",
            "773/773 [==============================] - 3s 4ms/step - loss: 0.0361 - accuracy: 0.9648 - val_loss: 0.0037 - val_accuracy: 0.9970\n",
            "Epoch 25/50\n",
            "773/773 [==============================] - 3s 4ms/step - loss: 0.0348 - accuracy: 0.9660 - val_loss: 0.0037 - val_accuracy: 0.9978\n",
            "Epoch 26/50\n",
            "773/773 [==============================] - 3s 4ms/step - loss: 0.0339 - accuracy: 0.9675 - val_loss: 0.0032 - val_accuracy: 0.9978\n",
            "Epoch 27/50\n",
            "773/773 [==============================] - 3s 4ms/step - loss: 0.0325 - accuracy: 0.9689 - val_loss: 0.0030 - val_accuracy: 0.9978\n",
            "Epoch 28/50\n",
            "773/773 [==============================] - 3s 4ms/step - loss: 0.0312 - accuracy: 0.9707 - val_loss: 0.0027 - val_accuracy: 0.9978\n",
            "Epoch 29/50\n",
            "773/773 [==============================] - 3s 4ms/step - loss: 0.0308 - accuracy: 0.9713 - val_loss: 0.0027 - val_accuracy: 0.9978\n",
            "Epoch 30/50\n",
            "773/773 [==============================] - 3s 4ms/step - loss: 0.0295 - accuracy: 0.9725 - val_loss: 0.0024 - val_accuracy: 0.9978\n",
            "Epoch 31/50\n",
            "773/773 [==============================] - 3s 4ms/step - loss: 0.0289 - accuracy: 0.9724 - val_loss: 0.0024 - val_accuracy: 0.9978\n",
            "Epoch 32/50\n",
            "773/773 [==============================] - 3s 4ms/step - loss: 0.0280 - accuracy: 0.9740 - val_loss: 0.0022 - val_accuracy: 0.9986\n",
            "Epoch 33/50\n",
            "773/773 [==============================] - 3s 4ms/step - loss: 0.0279 - accuracy: 0.9733 - val_loss: 0.0021 - val_accuracy: 0.9986\n",
            "Epoch 34/50\n",
            "773/773 [==============================] - 3s 4ms/step - loss: 0.0266 - accuracy: 0.9756 - val_loss: 0.0021 - val_accuracy: 0.9986\n",
            "Epoch 35/50\n",
            "773/773 [==============================] - 3s 4ms/step - loss: 0.0263 - accuracy: 0.9751 - val_loss: 0.0020 - val_accuracy: 0.9986\n",
            "Epoch 36/50\n",
            "773/773 [==============================] - 3s 4ms/step - loss: 0.0250 - accuracy: 0.9764 - val_loss: 0.0018 - val_accuracy: 0.9986\n",
            "Epoch 37/50\n",
            "773/773 [==============================] - 3s 4ms/step - loss: 0.0247 - accuracy: 0.9765 - val_loss: 0.0017 - val_accuracy: 0.9986\n",
            "Epoch 38/50\n",
            "773/773 [==============================] - 3s 4ms/step - loss: 0.0236 - accuracy: 0.9784 - val_loss: 0.0016 - val_accuracy: 0.9986\n",
            "Epoch 39/50\n",
            "773/773 [==============================] - 3s 4ms/step - loss: 0.0236 - accuracy: 0.9781 - val_loss: 0.0014 - val_accuracy: 0.9986\n",
            "Epoch 40/50\n",
            "773/773 [==============================] - 3s 4ms/step - loss: 0.0232 - accuracy: 0.9790 - val_loss: 0.0014 - val_accuracy: 0.9986\n",
            "Epoch 41/50\n",
            "773/773 [==============================] - 3s 4ms/step - loss: 0.0229 - accuracy: 0.9783 - val_loss: 0.0012 - val_accuracy: 0.9986\n",
            "Epoch 42/50\n",
            "773/773 [==============================] - 3s 4ms/step - loss: 0.0222 - accuracy: 0.9797 - val_loss: 0.0011 - val_accuracy: 1.0000\n",
            "Epoch 43/50\n",
            "773/773 [==============================] - 3s 4ms/step - loss: 0.0215 - accuracy: 0.9806 - val_loss: 9.3739e-04 - val_accuracy: 1.0000\n",
            "Epoch 44/50\n",
            "773/773 [==============================] - 3s 4ms/step - loss: 0.0214 - accuracy: 0.9807 - val_loss: 8.0857e-04 - val_accuracy: 1.0000\n",
            "Epoch 45/50\n",
            "773/773 [==============================] - 3s 4ms/step - loss: 0.0204 - accuracy: 0.9817 - val_loss: 8.5361e-04 - val_accuracy: 1.0000\n",
            "Epoch 46/50\n",
            "773/773 [==============================] - 3s 4ms/step - loss: 0.0206 - accuracy: 0.9809 - val_loss: 8.9359e-04 - val_accuracy: 1.0000\n",
            "Epoch 47/50\n",
            "773/773 [==============================] - 3s 4ms/step - loss: 0.0200 - accuracy: 0.9820 - val_loss: 7.5135e-04 - val_accuracy: 1.0000\n",
            "Epoch 48/50\n",
            "773/773 [==============================] - 3s 4ms/step - loss: 0.0199 - accuracy: 0.9818 - val_loss: 6.3760e-04 - val_accuracy: 1.0000\n",
            "Epoch 49/50\n",
            "773/773 [==============================] - 3s 4ms/step - loss: 0.0194 - accuracy: 0.9828 - val_loss: 5.9119e-04 - val_accuracy: 1.0000\n",
            "Epoch 50/50\n",
            "773/773 [==============================] - 3s 4ms/step - loss: 0.0191 - accuracy: 0.9824 - val_loss: 7.0836e-04 - val_accuracy: 1.0000\n"
          ]
        }
      ]
    },
    {
      "cell_type": "code",
      "source": [
        "results = model.evaluate(X_test, y_test, batch_size=64)\n",
        "print(\"test_losses, test accdrng:\", results)\n",
        "results = model.evaluate(X_test_at_end, y_test_at_end, batch_size=64)\n",
        "print(\"test_losses, test accdrng on unseen data:\", results)"
      ],
      "metadata": {
        "colab": {
          "base_uri": "https://localhost:8080/"
        },
        "id": "q0KTouJVd8q_",
        "outputId": "0c37b7b9-6b11-4c0a-8824-e8484db2b3ab"
      },
      "execution_count": null,
      "outputs": [
        {
          "output_type": "stream",
          "name": "stdout",
          "text": [
            "99/99 [==============================] - 0s 3ms/step - loss: 7.0836e-04 - accuracy: 1.0000\n",
            "test_losses, test accdrng: [0.0007083623786456883, 1.0]\n",
            "2/2 [==============================] - 0s 7ms/step - loss: 4.6209e-04 - accuracy: 1.0000\n",
            "test_losses, test accdrng on unseen data: [0.0004620857653208077, 1.0]\n"
          ]
        }
      ]
    },
    {
      "cell_type": "code",
      "source": [
        "data_to_be_predicted = [[-0.47658809,  0.55487565, -0.84464553, -0.34708111, -0.41820391,\n",
        "       -0.69065654, -0.64326531,  1.07434204, -0.23191052]]\n",
        "final_result = model.predict(data_to_be_predicted)\n",
        "if abs(final_result) < 0.5:\n",
        "  print(\"Not potable\")\n",
        "else:\n",
        "  print(\"Potable\")"
      ],
      "metadata": {
        "colab": {
          "base_uri": "https://localhost:8080/"
        },
        "id": "4CdnZYLCg8nk",
        "outputId": "d9c4f083-44e1-4200-af0a-e8393b51424f"
      },
      "execution_count": null,
      "outputs": [
        {
          "output_type": "stream",
          "name": "stdout",
          "text": [
            "1/1 [==============================] - 0s 268ms/step\n",
            "Not potable\n"
          ]
        }
      ]
    },
    {
      "cell_type": "code",
      "source": [
        "data_to_be_predicted = [[ 1.31924393,-2.33322826, 0.54404732, -0.64929837,0.24431558, -0.57999474,\n",
        " -1.04020633 ,-0.73539734,  1.17711959]]\n",
        "final_result = model.predict(data_to_be_predicted)\n",
        "if abs(final_result) < 0.5:\n",
        "  print(\"Not potable\")\n",
        "else:\n",
        "  print(\"Potable\")\n"
      ],
      "metadata": {
        "colab": {
          "base_uri": "https://localhost:8080/"
        },
        "id": "BZoWOSA8ivwT",
        "outputId": "fdd9ea54-09db-4b98-f07c-c5b328b3c8c3"
      },
      "execution_count": null,
      "outputs": [
        {
          "output_type": "stream",
          "name": "stdout",
          "text": [
            "1/1 [==============================] - 0s 26ms/step\n",
            "Potable\n"
          ]
        }
      ]
    }
  ]
}