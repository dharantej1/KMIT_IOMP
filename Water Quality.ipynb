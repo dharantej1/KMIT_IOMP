{
 "cells": [
  {
   "cell_type": "code",
   "execution_count": 1,
   "metadata": {},
   "outputs": [],
   "source": [
    "import pandas as pd\n",
    "import numpy as np\n",
    "from IPython.display import Image"
   ]
  },
  {
   "cell_type": "code",
   "execution_count": 2,
   "metadata": {},
   "outputs": [],
   "source": [
    "df = pd.read_csv(\"./water_potability.csv\")"
   ]
  },
  {
   "cell_type": "code",
   "execution_count": 3,
   "metadata": {
    "scrolled": true
   },
   "outputs": [
    {
     "data": {
      "text/html": [
       "<div>\n",
       "<style scoped>\n",
       "    .dataframe tbody tr th:only-of-type {\n",
       "        vertical-align: middle;\n",
       "    }\n",
       "\n",
       "    .dataframe tbody tr th {\n",
       "        vertical-align: top;\n",
       "    }\n",
       "\n",
       "    .dataframe thead th {\n",
       "        text-align: right;\n",
       "    }\n",
       "</style>\n",
       "<table border=\"1\" class=\"dataframe\">\n",
       "  <thead>\n",
       "    <tr style=\"text-align: right;\">\n",
       "      <th></th>\n",
       "      <th>ph</th>\n",
       "      <th>Hardness</th>\n",
       "      <th>Solids</th>\n",
       "      <th>Chloramines</th>\n",
       "      <th>Sulfate</th>\n",
       "      <th>Conductivity</th>\n",
       "      <th>Organic_carbon</th>\n",
       "      <th>Trihalomethanes</th>\n",
       "      <th>Turbidity</th>\n",
       "      <th>Potability</th>\n",
       "    </tr>\n",
       "  </thead>\n",
       "  <tbody>\n",
       "    <tr>\n",
       "      <th>0</th>\n",
       "      <td>NaN</td>\n",
       "      <td>204.890456</td>\n",
       "      <td>20791.31898</td>\n",
       "      <td>7.300212</td>\n",
       "      <td>368.516441</td>\n",
       "      <td>564.308654</td>\n",
       "      <td>10.379783</td>\n",
       "      <td>86.990970</td>\n",
       "      <td>2.963135</td>\n",
       "      <td>0</td>\n",
       "    </tr>\n",
       "    <tr>\n",
       "      <th>1</th>\n",
       "      <td>3.716080</td>\n",
       "      <td>129.422921</td>\n",
       "      <td>18630.05786</td>\n",
       "      <td>6.635246</td>\n",
       "      <td>NaN</td>\n",
       "      <td>592.885359</td>\n",
       "      <td>15.180013</td>\n",
       "      <td>56.329076</td>\n",
       "      <td>4.500656</td>\n",
       "      <td>0</td>\n",
       "    </tr>\n",
       "    <tr>\n",
       "      <th>2</th>\n",
       "      <td>8.099124</td>\n",
       "      <td>224.236259</td>\n",
       "      <td>19909.54173</td>\n",
       "      <td>9.275884</td>\n",
       "      <td>NaN</td>\n",
       "      <td>418.606213</td>\n",
       "      <td>16.868637</td>\n",
       "      <td>66.420093</td>\n",
       "      <td>3.055934</td>\n",
       "      <td>0</td>\n",
       "    </tr>\n",
       "    <tr>\n",
       "      <th>3</th>\n",
       "      <td>8.316766</td>\n",
       "      <td>214.373394</td>\n",
       "      <td>22018.41744</td>\n",
       "      <td>8.059332</td>\n",
       "      <td>356.886136</td>\n",
       "      <td>363.266516</td>\n",
       "      <td>18.436525</td>\n",
       "      <td>100.341674</td>\n",
       "      <td>4.628771</td>\n",
       "      <td>0</td>\n",
       "    </tr>\n",
       "    <tr>\n",
       "      <th>4</th>\n",
       "      <td>9.092223</td>\n",
       "      <td>181.101509</td>\n",
       "      <td>17978.98634</td>\n",
       "      <td>6.546600</td>\n",
       "      <td>310.135738</td>\n",
       "      <td>398.410813</td>\n",
       "      <td>11.558279</td>\n",
       "      <td>31.997993</td>\n",
       "      <td>4.075075</td>\n",
       "      <td>0</td>\n",
       "    </tr>\n",
       "  </tbody>\n",
       "</table>\n",
       "</div>"
      ],
      "text/plain": [
       "         ph    Hardness       Solids  Chloramines     Sulfate  Conductivity  \\\n",
       "0       NaN  204.890456  20791.31898     7.300212  368.516441    564.308654   \n",
       "1  3.716080  129.422921  18630.05786     6.635246         NaN    592.885359   \n",
       "2  8.099124  224.236259  19909.54173     9.275884         NaN    418.606213   \n",
       "3  8.316766  214.373394  22018.41744     8.059332  356.886136    363.266516   \n",
       "4  9.092223  181.101509  17978.98634     6.546600  310.135738    398.410813   \n",
       "\n",
       "   Organic_carbon  Trihalomethanes  Turbidity  Potability  \n",
       "0       10.379783        86.990970   2.963135           0  \n",
       "1       15.180013        56.329076   4.500656           0  \n",
       "2       16.868637        66.420093   3.055934           0  \n",
       "3       18.436525       100.341674   4.628771           0  \n",
       "4       11.558279        31.997993   4.075075           0  "
      ]
     },
     "execution_count": 3,
     "metadata": {},
     "output_type": "execute_result"
    }
   ],
   "source": [
    "df.head()\n"
   ]
  },
  {
   "cell_type": "code",
   "execution_count": 4,
   "metadata": {},
   "outputs": [
    {
     "data": {
      "text/plain": [
       "(104832, 10)"
      ]
     },
     "execution_count": 4,
     "metadata": {},
     "output_type": "execute_result"
    }
   ],
   "source": [
    "np.shape(df)"
   ]
  },
  {
   "cell_type": "code",
   "execution_count": 5,
   "metadata": {},
   "outputs": [
    {
     "name": "stdout",
     "output_type": "stream",
     "text": [
      "Number of null values in different columns\n",
      "ph                 15712\n",
      "Hardness               0\n",
      "Solids                 0\n",
      "Chloramines            0\n",
      "Sulfate            24992\n",
      "Conductivity           0\n",
      "Organic_carbon         0\n",
      "Trihalomethanes     5184\n",
      "Turbidity              0\n",
      "Potability             0\n",
      "dtype: int64\n"
     ]
    }
   ],
   "source": [
    "print(\"Number of null values in different columns\")\n",
    "print(df.isna().sum())"
   ]
  },
  {
   "cell_type": "code",
   "execution_count": 6,
   "metadata": {},
   "outputs": [],
   "source": [
    "df=df.dropna()"
   ]
  },
  {
   "cell_type": "code",
   "execution_count": 7,
   "metadata": {},
   "outputs": [],
   "source": [
    "# df.loc[(df['ph'].isna() == True), 'ph'] = df['ph'].mean()\n",
    "# df.loc[(df['Sulfate'].isna() == True), 'Sulfate'] = df['Sulfate'].mean()\n",
    "# df.loc[(df['Trihalomethanes'].isna() == True), 'Trihalomethanes'] = df['Trihalomethanes'].mean()"
   ]
  },
  {
   "cell_type": "code",
   "execution_count": 8,
   "metadata": {},
   "outputs": [
    {
     "data": {
      "text/plain": [
       "(64352, 10)"
      ]
     },
     "execution_count": 8,
     "metadata": {},
     "output_type": "execute_result"
    }
   ],
   "source": [
    "np.shape(df)"
   ]
  },
  {
   "cell_type": "code",
   "execution_count": 9,
   "metadata": {},
   "outputs": [
    {
     "name": "stdout",
     "output_type": "stream",
     "text": [
      "Number of null values after dropping null values\n",
      "ph                 0\n",
      "Hardness           0\n",
      "Solids             0\n",
      "Chloramines        0\n",
      "Sulfate            0\n",
      "Conductivity       0\n",
      "Organic_carbon     0\n",
      "Trihalomethanes    0\n",
      "Turbidity          0\n",
      "Potability         0\n",
      "dtype: int64\n"
     ]
    }
   ],
   "source": [
    "print(\"Number of null values after dropping null values\")\n",
    "print(df.isna().sum())"
   ]
  },
  {
   "cell_type": "code",
   "execution_count": 10,
   "metadata": {},
   "outputs": [
    {
     "data": {
      "text/html": [
       "<div>\n",
       "<style scoped>\n",
       "    .dataframe tbody tr th:only-of-type {\n",
       "        vertical-align: middle;\n",
       "    }\n",
       "\n",
       "    .dataframe tbody tr th {\n",
       "        vertical-align: top;\n",
       "    }\n",
       "\n",
       "    .dataframe thead th {\n",
       "        text-align: right;\n",
       "    }\n",
       "</style>\n",
       "<table border=\"1\" class=\"dataframe\">\n",
       "  <thead>\n",
       "    <tr style=\"text-align: right;\">\n",
       "      <th></th>\n",
       "      <th>ph</th>\n",
       "      <th>Hardness</th>\n",
       "      <th>Solids</th>\n",
       "      <th>Chloramines</th>\n",
       "      <th>Sulfate</th>\n",
       "      <th>Conductivity</th>\n",
       "      <th>Organic_carbon</th>\n",
       "      <th>Trihalomethanes</th>\n",
       "      <th>Turbidity</th>\n",
       "      <th>Potability</th>\n",
       "    </tr>\n",
       "  </thead>\n",
       "  <tbody>\n",
       "    <tr>\n",
       "      <th>count</th>\n",
       "      <td>64352.000000</td>\n",
       "      <td>64352.000000</td>\n",
       "      <td>64352.000000</td>\n",
       "      <td>64352.000000</td>\n",
       "      <td>64352.000000</td>\n",
       "      <td>64352.000000</td>\n",
       "      <td>64352.000000</td>\n",
       "      <td>64352.000000</td>\n",
       "      <td>64352.000000</td>\n",
       "      <td>64352.000000</td>\n",
       "    </tr>\n",
       "    <tr>\n",
       "      <th>mean</th>\n",
       "      <td>7.085990</td>\n",
       "      <td>195.968072</td>\n",
       "      <td>21917.441375</td>\n",
       "      <td>7.134338</td>\n",
       "      <td>333.224672</td>\n",
       "      <td>426.526409</td>\n",
       "      <td>14.357709</td>\n",
       "      <td>66.400859</td>\n",
       "      <td>3.969729</td>\n",
       "      <td>0.403282</td>\n",
       "    </tr>\n",
       "    <tr>\n",
       "      <th>std</th>\n",
       "      <td>1.572958</td>\n",
       "      <td>32.627223</td>\n",
       "      <td>8640.157938</td>\n",
       "      <td>1.584438</td>\n",
       "      <td>41.195246</td>\n",
       "      <td>80.693129</td>\n",
       "      <td>3.324158</td>\n",
       "      <td>16.073237</td>\n",
       "      <td>0.780158</td>\n",
       "      <td>0.490560</td>\n",
       "    </tr>\n",
       "    <tr>\n",
       "      <th>min</th>\n",
       "      <td>0.227499</td>\n",
       "      <td>73.492234</td>\n",
       "      <td>320.942611</td>\n",
       "      <td>1.390871</td>\n",
       "      <td>129.000000</td>\n",
       "      <td>201.619737</td>\n",
       "      <td>2.200000</td>\n",
       "      <td>8.577013</td>\n",
       "      <td>1.450000</td>\n",
       "      <td>0.000000</td>\n",
       "    </tr>\n",
       "    <tr>\n",
       "      <th>25%</th>\n",
       "      <td>6.089431</td>\n",
       "      <td>176.736376</td>\n",
       "      <td>15613.160530</td>\n",
       "      <td>6.137757</td>\n",
       "      <td>307.621462</td>\n",
       "      <td>366.558131</td>\n",
       "      <td>12.120956</td>\n",
       "      <td>55.947322</td>\n",
       "      <td>3.442848</td>\n",
       "      <td>0.000000</td>\n",
       "    </tr>\n",
       "    <tr>\n",
       "      <th>50%</th>\n",
       "      <td>7.027297</td>\n",
       "      <td>197.191839</td>\n",
       "      <td>20933.512750</td>\n",
       "      <td>7.143907</td>\n",
       "      <td>332.232177</td>\n",
       "      <td>423.455906</td>\n",
       "      <td>14.322019</td>\n",
       "      <td>66.542198</td>\n",
       "      <td>3.968177</td>\n",
       "      <td>0.000000</td>\n",
       "    </tr>\n",
       "    <tr>\n",
       "      <th>75%</th>\n",
       "      <td>8.053044</td>\n",
       "      <td>216.454108</td>\n",
       "      <td>27192.280560</td>\n",
       "      <td>8.110140</td>\n",
       "      <td>359.392567</td>\n",
       "      <td>482.451933</td>\n",
       "      <td>16.684074</td>\n",
       "      <td>77.297300</td>\n",
       "      <td>4.515150</td>\n",
       "      <td>1.000000</td>\n",
       "    </tr>\n",
       "    <tr>\n",
       "      <th>max</th>\n",
       "      <td>14.000000</td>\n",
       "      <td>317.338124</td>\n",
       "      <td>56488.672410</td>\n",
       "      <td>13.127000</td>\n",
       "      <td>481.030642</td>\n",
       "      <td>753.342620</td>\n",
       "      <td>27.006707</td>\n",
       "      <td>124.000000</td>\n",
       "      <td>6.494749</td>\n",
       "      <td>1.000000</td>\n",
       "    </tr>\n",
       "  </tbody>\n",
       "</table>\n",
       "</div>"
      ],
      "text/plain": [
       "                 ph      Hardness        Solids   Chloramines       Sulfate  \\\n",
       "count  64352.000000  64352.000000  64352.000000  64352.000000  64352.000000   \n",
       "mean       7.085990    195.968072  21917.441375      7.134338    333.224672   \n",
       "std        1.572958     32.627223   8640.157938      1.584438     41.195246   \n",
       "min        0.227499     73.492234    320.942611      1.390871    129.000000   \n",
       "25%        6.089431    176.736376  15613.160530      6.137757    307.621462   \n",
       "50%        7.027297    197.191839  20933.512750      7.143907    332.232177   \n",
       "75%        8.053044    216.454108  27192.280560      8.110140    359.392567   \n",
       "max       14.000000    317.338124  56488.672410     13.127000    481.030642   \n",
       "\n",
       "       Conductivity  Organic_carbon  Trihalomethanes     Turbidity  \\\n",
       "count  64352.000000    64352.000000     64352.000000  64352.000000   \n",
       "mean     426.526409       14.357709        66.400859      3.969729   \n",
       "std       80.693129        3.324158        16.073237      0.780158   \n",
       "min      201.619737        2.200000         8.577013      1.450000   \n",
       "25%      366.558131       12.120956        55.947322      3.442848   \n",
       "50%      423.455906       14.322019        66.542198      3.968177   \n",
       "75%      482.451933       16.684074        77.297300      4.515150   \n",
       "max      753.342620       27.006707       124.000000      6.494749   \n",
       "\n",
       "         Potability  \n",
       "count  64352.000000  \n",
       "mean       0.403282  \n",
       "std        0.490560  \n",
       "min        0.000000  \n",
       "25%        0.000000  \n",
       "50%        0.000000  \n",
       "75%        1.000000  \n",
       "max        1.000000  "
      ]
     },
     "execution_count": 10,
     "metadata": {},
     "output_type": "execute_result"
    }
   ],
   "source": [
    "df.describe()"
   ]
  },
  {
   "cell_type": "code",
   "execution_count": 11,
   "metadata": {},
   "outputs": [],
   "source": [
    "df.reset_index(inplace=True)\n",
    "df=df.drop(['index'],axis=1)"
   ]
  },
  {
   "cell_type": "code",
   "execution_count": 12,
   "metadata": {},
   "outputs": [
    {
     "data": {
      "text/html": [
       "<div>\n",
       "<style scoped>\n",
       "    .dataframe tbody tr th:only-of-type {\n",
       "        vertical-align: middle;\n",
       "    }\n",
       "\n",
       "    .dataframe tbody tr th {\n",
       "        vertical-align: top;\n",
       "    }\n",
       "\n",
       "    .dataframe thead th {\n",
       "        text-align: right;\n",
       "    }\n",
       "</style>\n",
       "<table border=\"1\" class=\"dataframe\">\n",
       "  <thead>\n",
       "    <tr style=\"text-align: right;\">\n",
       "      <th></th>\n",
       "      <th>ph</th>\n",
       "      <th>Hardness</th>\n",
       "      <th>Solids</th>\n",
       "      <th>Chloramines</th>\n",
       "      <th>Sulfate</th>\n",
       "      <th>Conductivity</th>\n",
       "      <th>Organic_carbon</th>\n",
       "      <th>Trihalomethanes</th>\n",
       "      <th>Turbidity</th>\n",
       "    </tr>\n",
       "    <tr>\n",
       "      <th>Potability</th>\n",
       "      <th></th>\n",
       "      <th></th>\n",
       "      <th></th>\n",
       "      <th></th>\n",
       "      <th></th>\n",
       "      <th></th>\n",
       "      <th></th>\n",
       "      <th></th>\n",
       "      <th></th>\n",
       "    </tr>\n",
       "  </thead>\n",
       "  <tbody>\n",
       "    <tr>\n",
       "      <th>0</th>\n",
       "      <td>38400</td>\n",
       "      <td>38400</td>\n",
       "      <td>38400</td>\n",
       "      <td>38400</td>\n",
       "      <td>38400</td>\n",
       "      <td>38400</td>\n",
       "      <td>38400</td>\n",
       "      <td>38400</td>\n",
       "      <td>38400</td>\n",
       "    </tr>\n",
       "    <tr>\n",
       "      <th>1</th>\n",
       "      <td>25952</td>\n",
       "      <td>25952</td>\n",
       "      <td>25952</td>\n",
       "      <td>25952</td>\n",
       "      <td>25952</td>\n",
       "      <td>25952</td>\n",
       "      <td>25952</td>\n",
       "      <td>25952</td>\n",
       "      <td>25952</td>\n",
       "    </tr>\n",
       "  </tbody>\n",
       "</table>\n",
       "</div>"
      ],
      "text/plain": [
       "               ph  Hardness  Solids  Chloramines  Sulfate  Conductivity  \\\n",
       "Potability                                                                \n",
       "0           38400     38400   38400        38400    38400         38400   \n",
       "1           25952     25952   25952        25952    25952         25952   \n",
       "\n",
       "            Organic_carbon  Trihalomethanes  Turbidity  \n",
       "Potability                                              \n",
       "0                    38400            38400      38400  \n",
       "1                    25952            25952      25952  "
      ]
     },
     "execution_count": 12,
     "metadata": {},
     "output_type": "execute_result"
    }
   ],
   "source": [
    "df.groupby(\"Potability\").count()"
   ]
  },
  {
   "cell_type": "code",
   "execution_count": 13,
   "metadata": {},
   "outputs": [],
   "source": [
    "y = df['Potability']\n",
    "X = df.drop(['Potability'],axis=1)"
   ]
  },
  {
   "cell_type": "code",
   "execution_count": 14,
   "metadata": {},
   "outputs": [],
   "source": [
    "from sklearn.preprocessing import MinMaxScaler\n"
   ]
  },
  {
   "cell_type": "code",
   "execution_count": 15,
   "metadata": {},
   "outputs": [],
   "source": [
    "scaler = MinMaxScaler()\n",
    "X = scaler.fit_transform(X)"
   ]
  },
  {
   "cell_type": "code",
   "execution_count": 16,
   "metadata": {},
   "outputs": [],
   "source": [
    "from sklearn.model_selection import train_test_split\n"
   ]
  },
  {
   "cell_type": "code",
   "execution_count": 17,
   "metadata": {},
   "outputs": [],
   "source": [
    "X_train, X_test, y_train, y_test = train_test_split(X, y, test_size=0.10, random_state=0)"
   ]
  },
  {
   "cell_type": "code",
   "execution_count": 18,
   "metadata": {},
   "outputs": [
    {
     "name": "stdout",
     "output_type": "stream",
     "text": [
      "Size Training Set: 57916\n",
      "Size Testing Set: 6436\n"
     ]
    }
   ],
   "source": [
    "print('Size Training Set: {}'.format(len(X_train)))\n",
    "print('Size Testing Set: {}'.format(len(X_test)))"
   ]
  },
  {
   "cell_type": "code",
   "execution_count": 19,
   "metadata": {},
   "outputs": [],
   "source": [
    "from sklearn.model_selection import train_test_split\n",
    "import tensorflow as tf\n",
    "from tensorflow import keras\n",
    "from tensorflow.keras import layers"
   ]
  },
  {
   "cell_type": "code",
   "execution_count": 20,
   "metadata": {},
   "outputs": [],
   "source": [
    "from tensorflow.keras.callbacks import EarlyStopping\n",
    "early_stopping = EarlyStopping(monitor=\"val_loss\",mode = 'auto',patience=15)"
   ]
  },
  {
   "cell_type": "code",
   "execution_count": 21,
   "metadata": {},
   "outputs": [
    {
     "name": "stdout",
     "output_type": "stream",
     "text": [
      "WARNING:tensorflow:From c:\\Users\\pusth\\Anaconda3\\lib\\site-packages\\tensorflow\\python\\ops\\init_ops.py:1251: calling VarianceScaling.__init__ (from tensorflow.python.ops.init_ops) with dtype is deprecated and will be removed in a future version.\n",
      "Instructions for updating:\n",
      "Call initializer instance with the dtype argument instead of passing it to the constructor\n"
     ]
    }
   ],
   "source": [
    "model = keras.Sequential()\n",
    "model.add(layers.Dense(20, activation='relu', input_dim=9))\n",
    "model.add(layers.Dense(1))"
   ]
  },
  {
   "cell_type": "code",
   "execution_count": 22,
   "metadata": {},
   "outputs": [],
   "source": [
    "opt = keras.optimizers.Adam()\n",
    "\n",
    "model.compile(loss='mean_squared_error', optimizer=opt,metrics=['accuracy'])"
   ]
  },
  {
   "cell_type": "code",
   "execution_count": 23,
   "metadata": {},
   "outputs": [
    {
     "name": "stdout",
     "output_type": "stream",
     "text": [
      "Train on 57916 samples, validate on 6436 samples\n",
      "Epoch 1/400\n",
      "57916/57916 [==============================] - 4s 61us/sample - loss: 0.2427 - acc: 0.5926 - val_loss: 0.2358 - val_acc: 0.6287\n",
      "Epoch 2/400\n",
      "57916/57916 [==============================] - 3s 52us/sample - loss: 0.2325 - acc: 0.6216 - val_loss: 0.2265 - val_acc: 0.6434\n",
      "Epoch 3/400\n",
      "57916/57916 [==============================] - 3s 44us/sample - loss: 0.2249 - acc: 0.6395 - val_loss: 0.2184 - val_acc: 0.6650\n",
      "Epoch 4/400\n",
      "57916/57916 [==============================] - 2s 43us/sample - loss: 0.2183 - acc: 0.6557 - val_loss: 0.2114 - val_acc: 0.6751\n",
      "Epoch 5/400\n",
      "57916/57916 [==============================] - 3s 44us/sample - loss: 0.2114 - acc: 0.6754 - val_loss: 0.2075 - val_acc: 0.6967\n",
      "Epoch 6/400\n",
      "57916/57916 [==============================] - 3s 48us/sample - loss: 0.2054 - acc: 0.6871 - val_loss: 0.2001 - val_acc: 0.7001\n",
      "Epoch 7/400\n",
      "57916/57916 [==============================] - 2s 42us/sample - loss: 0.2015 - acc: 0.6921 - val_loss: 0.1976 - val_acc: 0.7012\n",
      "Epoch 8/400\n",
      "57916/57916 [==============================] - 3s 54us/sample - loss: 0.1993 - acc: 0.6943 - val_loss: 0.1961 - val_acc: 0.6998\n",
      "Epoch 9/400\n",
      "57916/57916 [==============================] - 3s 51us/sample - loss: 0.1977 - acc: 0.6950 - val_loss: 0.1956 - val_acc: 0.7039\n",
      "Epoch 10/400\n",
      "57916/57916 [==============================] - 3s 54us/sample - loss: 0.1970 - acc: 0.6953 - val_loss: 0.1931 - val_acc: 0.6986\n",
      "Epoch 11/400\n",
      "57916/57916 [==============================] - 3s 44us/sample - loss: 0.1962 - acc: 0.6966 - val_loss: 0.1942 - val_acc: 0.7063\n",
      "Epoch 12/400\n",
      "57916/57916 [==============================] - 3s 47us/sample - loss: 0.1958 - acc: 0.6986 - val_loss: 0.1935 - val_acc: 0.6987\n",
      "Epoch 13/400\n",
      "57916/57916 [==============================] - 2s 40us/sample - loss: 0.1956 - acc: 0.6997 - val_loss: 0.1933 - val_acc: 0.7035\n",
      "Epoch 14/400\n",
      "57916/57916 [==============================] - 3s 55us/sample - loss: 0.1950 - acc: 0.6992 - val_loss: 0.1920 - val_acc: 0.7082\n",
      "Epoch 15/400\n",
      "57916/57916 [==============================] - 3s 47us/sample - loss: 0.1949 - acc: 0.6984 - val_loss: 0.1926 - val_acc: 0.7026\n",
      "Epoch 16/400\n",
      "57916/57916 [==============================] - 2s 37us/sample - loss: 0.1942 - acc: 0.6992 - val_loss: 0.1911 - val_acc: 0.7011\n",
      "Epoch 17/400\n",
      "57916/57916 [==============================] - 2s 43us/sample - loss: 0.1939 - acc: 0.7002 - val_loss: 0.1912 - val_acc: 0.7071\n",
      "Epoch 18/400\n",
      "57916/57916 [==============================] - 3s 51us/sample - loss: 0.1939 - acc: 0.7014 - val_loss: 0.2012 - val_acc: 0.6966\n",
      "Epoch 19/400\n",
      "57916/57916 [==============================] - 3s 49us/sample - loss: 0.1934 - acc: 0.7009 - val_loss: 0.1907 - val_acc: 0.7082\n",
      "Epoch 20/400\n",
      "57916/57916 [==============================] - 3s 53us/sample - loss: 0.1933 - acc: 0.7002 - val_loss: 0.1914 - val_acc: 0.7158\n",
      "Epoch 21/400\n",
      "57916/57916 [==============================] - 3s 50us/sample - loss: 0.1932 - acc: 0.7021 - val_loss: 0.1900 - val_acc: 0.7084\n",
      "Epoch 22/400\n",
      "57916/57916 [==============================] - 2s 42us/sample - loss: 0.1930 - acc: 0.7025 - val_loss: 0.1893 - val_acc: 0.7020\n",
      "Epoch 23/400\n",
      "57916/57916 [==============================] - 3s 44us/sample - loss: 0.1927 - acc: 0.7021 - val_loss: 0.1925 - val_acc: 0.7129\n",
      "Epoch 24/400\n",
      "57916/57916 [==============================] - 3s 45us/sample - loss: 0.1926 - acc: 0.7024 - val_loss: 0.1890 - val_acc: 0.7107\n",
      "Epoch 25/400\n",
      "57916/57916 [==============================] - 3s 56us/sample - loss: 0.1923 - acc: 0.7028 - val_loss: 0.1892 - val_acc: 0.7082\n",
      "Epoch 26/400\n",
      "57916/57916 [==============================] - 3s 49us/sample - loss: 0.1922 - acc: 0.7042 - val_loss: 0.1888 - val_acc: 0.7087\n",
      "Epoch 27/400\n",
      "57916/57916 [==============================] - 3s 44us/sample - loss: 0.1922 - acc: 0.7033 - val_loss: 0.1892 - val_acc: 0.7026\n",
      "Epoch 28/400\n",
      "57916/57916 [==============================] - 3s 46us/sample - loss: 0.1918 - acc: 0.7038 - val_loss: 0.1891 - val_acc: 0.7121\n",
      "Epoch 29/400\n",
      "57916/57916 [==============================] - 3s 53us/sample - loss: 0.1915 - acc: 0.7029 - val_loss: 0.1881 - val_acc: 0.7129\n",
      "Epoch 30/400\n",
      "57916/57916 [==============================] - 3s 55us/sample - loss: 0.1914 - acc: 0.7049 - val_loss: 0.1877 - val_acc: 0.7138\n",
      "Epoch 31/400\n",
      "57916/57916 [==============================] - 3s 44us/sample - loss: 0.1909 - acc: 0.7074 - val_loss: 0.1883 - val_acc: 0.7068\n",
      "Epoch 32/400\n",
      "57916/57916 [==============================] - 3s 51us/sample - loss: 0.1912 - acc: 0.7058 - val_loss: 0.1891 - val_acc: 0.7202\n",
      "Epoch 33/400\n",
      "57916/57916 [==============================] - 2s 42us/sample - loss: 0.1907 - acc: 0.7059 - val_loss: 0.1888 - val_acc: 0.7163\n",
      "Epoch 34/400\n",
      "57916/57916 [==============================] - 3s 44us/sample - loss: 0.1906 - acc: 0.7065 - val_loss: 0.1870 - val_acc: 0.7060\n",
      "Epoch 35/400\n",
      "57916/57916 [==============================] - 3s 53us/sample - loss: 0.1905 - acc: 0.7050 - val_loss: 0.1911 - val_acc: 0.7039\n",
      "Epoch 36/400\n",
      "57916/57916 [==============================] - 3s 43us/sample - loss: 0.1901 - acc: 0.7066 - val_loss: 0.1864 - val_acc: 0.7098\n",
      "Epoch 37/400\n",
      "57916/57916 [==============================] - 4s 62us/sample - loss: 0.1899 - acc: 0.7087 - val_loss: 0.1921 - val_acc: 0.7105\n",
      "Epoch 38/400\n",
      "57916/57916 [==============================] - 2s 42us/sample - loss: 0.1897 - acc: 0.7082 - val_loss: 0.1861 - val_acc: 0.7084\n",
      "Epoch 39/400\n",
      "57916/57916 [==============================] - 2s 43us/sample - loss: 0.1895 - acc: 0.7099 - val_loss: 0.1864 - val_acc: 0.7122\n",
      "Epoch 40/400\n",
      "57916/57916 [==============================] - 3s 46us/sample - loss: 0.1894 - acc: 0.7099 - val_loss: 0.1865 - val_acc: 0.7195\n",
      "Epoch 41/400\n",
      "57916/57916 [==============================] - 2s 39us/sample - loss: 0.1894 - acc: 0.7112 - val_loss: 0.1862 - val_acc: 0.7116\n",
      "Epoch 42/400\n",
      "57916/57916 [==============================] - 2s 35us/sample - loss: 0.1894 - acc: 0.7099 - val_loss: 0.1872 - val_acc: 0.7031\n",
      "Epoch 43/400\n",
      "57916/57916 [==============================] - 2s 43us/sample - loss: 0.1890 - acc: 0.7099 - val_loss: 0.1871 - val_acc: 0.7197\n",
      "Epoch 44/400\n",
      "57916/57916 [==============================] - 3s 52us/sample - loss: 0.1893 - acc: 0.7099 - val_loss: 0.1877 - val_acc: 0.6987\n",
      "Epoch 45/400\n",
      "57916/57916 [==============================] - 3s 47us/sample - loss: 0.1890 - acc: 0.7103 - val_loss: 0.1861 - val_acc: 0.7191\n",
      "Epoch 46/400\n",
      "57916/57916 [==============================] - 3s 52us/sample - loss: 0.1888 - acc: 0.7115 - val_loss: 0.1855 - val_acc: 0.7119\n",
      "Epoch 47/400\n",
      "57916/57916 [==============================] - 2s 42us/sample - loss: 0.1886 - acc: 0.7113 - val_loss: 0.1857 - val_acc: 0.7228\n",
      "Epoch 48/400\n",
      "57916/57916 [==============================] - 3s 44us/sample - loss: 0.1886 - acc: 0.7125 - val_loss: 0.1852 - val_acc: 0.7119\n",
      "Epoch 49/400\n",
      "57916/57916 [==============================] - 3s 55us/sample - loss: 0.1887 - acc: 0.7113 - val_loss: 0.1852 - val_acc: 0.7230\n",
      "Epoch 50/400\n",
      "57916/57916 [==============================] - 3s 55us/sample - loss: 0.1886 - acc: 0.7101 - val_loss: 0.1850 - val_acc: 0.7154\n",
      "Epoch 51/400\n",
      "57916/57916 [==============================] - 3s 44us/sample - loss: 0.1879 - acc: 0.7122 - val_loss: 0.1848 - val_acc: 0.7225\n",
      "Epoch 52/400\n",
      "57916/57916 [==============================] - 3s 55us/sample - loss: 0.1881 - acc: 0.7145 - val_loss: 0.1847 - val_acc: 0.7104\n",
      "Epoch 53/400\n",
      "57916/57916 [==============================] - 3s 55us/sample - loss: 0.1879 - acc: 0.7127 - val_loss: 0.1842 - val_acc: 0.7223\n",
      "Epoch 54/400\n",
      "57916/57916 [==============================] - 2s 43us/sample - loss: 0.1877 - acc: 0.7132 - val_loss: 0.1924 - val_acc: 0.7060\n",
      "Epoch 55/400\n",
      "57916/57916 [==============================] - 2s 38us/sample - loss: 0.1880 - acc: 0.7129 - val_loss: 0.1865 - val_acc: 0.7088\n",
      "Epoch 56/400\n",
      "57916/57916 [==============================] - 2s 43us/sample - loss: 0.1877 - acc: 0.7136 - val_loss: 0.1862 - val_acc: 0.7192\n",
      "Epoch 57/400\n",
      "57916/57916 [==============================] - 3s 56us/sample - loss: 0.1874 - acc: 0.7137 - val_loss: 0.1840 - val_acc: 0.7158\n",
      "Epoch 58/400\n",
      "57916/57916 [==============================] - 3s 47us/sample - loss: 0.1875 - acc: 0.7134 - val_loss: 0.1854 - val_acc: 0.7273\n",
      "Epoch 59/400\n",
      "57916/57916 [==============================] - 3s 50us/sample - loss: 0.1875 - acc: 0.7143 - val_loss: 0.1837 - val_acc: 0.7163\n",
      "Epoch 60/400\n",
      "57916/57916 [==============================] - 3s 51us/sample - loss: 0.1875 - acc: 0.7134 - val_loss: 0.1929 - val_acc: 0.7099\n",
      "Epoch 61/400\n",
      "57916/57916 [==============================] - 3s 59us/sample - loss: 0.1876 - acc: 0.7147 - val_loss: 0.1840 - val_acc: 0.7149\n",
      "Epoch 62/400\n",
      "57916/57916 [==============================] - 2s 40us/sample - loss: 0.1873 - acc: 0.7143 - val_loss: 0.1834 - val_acc: 0.7192\n",
      "Epoch 63/400\n",
      "57916/57916 [==============================] - 2s 39us/sample - loss: 0.1872 - acc: 0.7151 - val_loss: 0.1840 - val_acc: 0.7219\n",
      "Epoch 64/400\n",
      "57916/57916 [==============================] - 2s 42us/sample - loss: 0.1871 - acc: 0.7151 - val_loss: 0.1865 - val_acc: 0.7225\n",
      "Epoch 65/400\n",
      "57916/57916 [==============================] - 3s 58us/sample - loss: 0.1870 - acc: 0.7152 - val_loss: 0.1835 - val_acc: 0.7241\n",
      "Epoch 66/400\n",
      "57916/57916 [==============================] - 3s 44us/sample - loss: 0.1869 - acc: 0.7150 - val_loss: 0.1850 - val_acc: 0.7039\n",
      "Epoch 67/400\n",
      "57916/57916 [==============================] - 3s 52us/sample - loss: 0.1869 - acc: 0.7167 - val_loss: 0.1851 - val_acc: 0.7267\n",
      "Epoch 68/400\n",
      "57916/57916 [==============================] - 3s 50us/sample - loss: 0.1869 - acc: 0.7158 - val_loss: 0.1830 - val_acc: 0.7293\n",
      "Epoch 69/400\n",
      "57916/57916 [==============================] - 2s 43us/sample - loss: 0.1869 - acc: 0.7157 - val_loss: 0.1855 - val_acc: 0.7255\n",
      "Epoch 70/400\n",
      "57916/57916 [==============================] - 2s 42us/sample - loss: 0.1867 - acc: 0.7164 - val_loss: 0.1831 - val_acc: 0.7178\n",
      "Epoch 71/400\n",
      "57916/57916 [==============================] - 3s 53us/sample - loss: 0.1867 - acc: 0.7166 - val_loss: 0.1837 - val_acc: 0.7110\n",
      "Epoch 72/400\n",
      "57916/57916 [==============================] - 3s 54us/sample - loss: 0.1864 - acc: 0.7167 - val_loss: 0.1833 - val_acc: 0.7338\n",
      "Epoch 73/400\n",
      "57916/57916 [==============================] - 3s 47us/sample - loss: 0.1866 - acc: 0.7173 - val_loss: 0.1828 - val_acc: 0.7217\n",
      "Epoch 74/400\n",
      "57916/57916 [==============================] - 3s 48us/sample - loss: 0.1865 - acc: 0.7163 - val_loss: 0.1829 - val_acc: 0.7296\n",
      "Epoch 75/400\n",
      "57916/57916 [==============================] - 3s 48us/sample - loss: 0.1865 - acc: 0.7166 - val_loss: 0.1828 - val_acc: 0.7298\n",
      "Epoch 76/400\n",
      "57916/57916 [==============================] - 3s 48us/sample - loss: 0.1865 - acc: 0.7167 - val_loss: 0.1844 - val_acc: 0.7298\n",
      "Epoch 77/400\n",
      "57916/57916 [==============================] - 3s 45us/sample - loss: 0.1861 - acc: 0.7180 - val_loss: 0.1824 - val_acc: 0.7256\n",
      "Epoch 78/400\n",
      "57916/57916 [==============================] - 3s 50us/sample - loss: 0.1866 - acc: 0.7175 - val_loss: 0.1860 - val_acc: 0.7185\n",
      "Epoch 79/400\n",
      "57916/57916 [==============================] - 3s 59us/sample - loss: 0.1862 - acc: 0.7174 - val_loss: 0.1831 - val_acc: 0.7259\n",
      "Epoch 80/400\n",
      "57916/57916 [==============================] - 3s 47us/sample - loss: 0.1863 - acc: 0.7178 - val_loss: 0.1839 - val_acc: 0.7091\n",
      "Epoch 81/400\n",
      "57916/57916 [==============================] - 3s 49us/sample - loss: 0.1862 - acc: 0.7181 - val_loss: 0.1830 - val_acc: 0.7268\n",
      "Epoch 82/400\n",
      "57916/57916 [==============================] - 3s 56us/sample - loss: 0.1861 - acc: 0.7182 - val_loss: 0.1829 - val_acc: 0.7265\n",
      "Epoch 83/400\n",
      "57916/57916 [==============================] - 3s 45us/sample - loss: 0.1862 - acc: 0.7175 - val_loss: 0.1903 - val_acc: 0.7144\n",
      "Epoch 84/400\n",
      "57916/57916 [==============================] - 3s 46us/sample - loss: 0.1861 - acc: 0.7185 - val_loss: 0.1894 - val_acc: 0.7186\n",
      "Epoch 85/400\n",
      "57916/57916 [==============================] - 3s 54us/sample - loss: 0.1862 - acc: 0.7178 - val_loss: 0.1837 - val_acc: 0.7236\n",
      "Epoch 86/400\n",
      "57916/57916 [==============================] - 3s 44us/sample - loss: 0.1859 - acc: 0.7195 - val_loss: 0.1825 - val_acc: 0.7167\n",
      "Epoch 87/400\n",
      "57916/57916 [==============================] - 2s 42us/sample - loss: 0.1863 - acc: 0.7179 - val_loss: 0.1831 - val_acc: 0.7272\n",
      "Epoch 88/400\n",
      "57916/57916 [==============================] - 2s 43us/sample - loss: 0.1859 - acc: 0.7176 - val_loss: 0.1826 - val_acc: 0.7267\n",
      "Epoch 89/400\n",
      "57916/57916 [==============================] - 3s 45us/sample - loss: 0.1859 - acc: 0.7182 - val_loss: 0.1824 - val_acc: 0.7321\n",
      "Epoch 90/400\n",
      "57916/57916 [==============================] - 3s 48us/sample - loss: 0.1858 - acc: 0.7196 - val_loss: 0.1826 - val_acc: 0.7323\n",
      "Epoch 91/400\n",
      "57916/57916 [==============================] - 3s 52us/sample - loss: 0.1858 - acc: 0.7201 - val_loss: 0.1847 - val_acc: 0.7250\n",
      "Epoch 92/400\n",
      "57916/57916 [==============================] - 3s 51us/sample - loss: 0.1858 - acc: 0.7187 - val_loss: 0.1830 - val_acc: 0.7275\n",
      "Epoch 93/400\n",
      "57916/57916 [==============================] - 2s 33us/sample - loss: 0.1859 - acc: 0.7187 - val_loss: 0.1835 - val_acc: 0.7270\n",
      "Epoch 94/400\n",
      "57916/57916 [==============================] - 3s 43us/sample - loss: 0.1856 - acc: 0.7180 - val_loss: 0.1836 - val_acc: 0.7286\n",
      "Epoch 95/400\n",
      "57916/57916 [==============================] - 3s 45us/sample - loss: 0.1857 - acc: 0.7169 - val_loss: 0.1825 - val_acc: 0.7296\n",
      "Epoch 96/400\n",
      "57916/57916 [==============================] - 3s 43us/sample - loss: 0.1856 - acc: 0.7184 - val_loss: 0.1833 - val_acc: 0.7255\n",
      "Epoch 97/400\n",
      "57916/57916 [==============================] - 3s 48us/sample - loss: 0.1854 - acc: 0.7204 - val_loss: 0.1914 - val_acc: 0.6981\n",
      "Epoch 98/400\n",
      "57916/57916 [==============================] - 3s 44us/sample - loss: 0.1857 - acc: 0.7191 - val_loss: 0.1832 - val_acc: 0.7306\n",
      "Epoch 99/400\n",
      "57916/57916 [==============================] - 3s 45us/sample - loss: 0.1854 - acc: 0.7203 - val_loss: 0.1849 - val_acc: 0.7245\n",
      "Epoch 100/400\n",
      "57916/57916 [==============================] - 3s 44us/sample - loss: 0.1856 - acc: 0.7182 - val_loss: 0.1826 - val_acc: 0.7239\n",
      "Epoch 101/400\n",
      "57916/57916 [==============================] - 3s 50us/sample - loss: 0.1858 - acc: 0.7177 - val_loss: 0.1827 - val_acc: 0.7296\n",
      "Epoch 102/400\n",
      "57916/57916 [==============================] - 3s 49us/sample - loss: 0.1853 - acc: 0.7187 - val_loss: 0.1877 - val_acc: 0.7211\n",
      "Epoch 103/400\n",
      "57916/57916 [==============================] - 3s 51us/sample - loss: 0.1854 - acc: 0.7195 - val_loss: 0.1826 - val_acc: 0.7309\n",
      "Epoch 104/400\n",
      "57916/57916 [==============================] - 3s 56us/sample - loss: 0.1855 - acc: 0.7182 - val_loss: 0.1821 - val_acc: 0.7278\n",
      "Epoch 105/400\n",
      "57916/57916 [==============================] - 3s 47us/sample - loss: 0.1859 - acc: 0.7183 - val_loss: 0.1835 - val_acc: 0.7107\n",
      "Epoch 106/400\n",
      "57916/57916 [==============================] - 3s 45us/sample - loss: 0.1855 - acc: 0.7191 - val_loss: 0.1845 - val_acc: 0.7251\n",
      "Epoch 107/400\n",
      "57916/57916 [==============================] - 3s 59us/sample - loss: 0.1850 - acc: 0.7213 - val_loss: 0.1819 - val_acc: 0.7206\n",
      "Epoch 108/400\n",
      "57916/57916 [==============================] - 3s 51us/sample - loss: 0.1857 - acc: 0.7181 - val_loss: 0.1824 - val_acc: 0.7296\n",
      "Epoch 109/400\n",
      "57916/57916 [==============================] - 3s 52us/sample - loss: 0.1854 - acc: 0.7194 - val_loss: 0.1829 - val_acc: 0.7314\n",
      "Epoch 110/400\n",
      "57916/57916 [==============================] - 3s 51us/sample - loss: 0.1853 - acc: 0.7202 - val_loss: 0.1822 - val_acc: 0.7337\n",
      "Epoch 111/400\n",
      "57916/57916 [==============================] - 3s 56us/sample - loss: 0.1854 - acc: 0.7197 - val_loss: 0.1820 - val_acc: 0.7356\n",
      "Epoch 112/400\n",
      "57916/57916 [==============================] - 3s 48us/sample - loss: 0.1850 - acc: 0.7209 - val_loss: 0.1820 - val_acc: 0.7312\n",
      "Epoch 113/400\n",
      "57916/57916 [==============================] - 2s 39us/sample - loss: 0.1852 - acc: 0.7199 - val_loss: 0.1820 - val_acc: 0.7303\n",
      "Epoch 114/400\n",
      "57916/57916 [==============================] - 3s 49us/sample - loss: 0.1847 - acc: 0.7217 - val_loss: 0.1826 - val_acc: 0.7359\n",
      "Epoch 115/400\n",
      "57916/57916 [==============================] - 3s 48us/sample - loss: 0.1854 - acc: 0.7191 - val_loss: 0.1817 - val_acc: 0.7270\n",
      "Epoch 116/400\n",
      "57916/57916 [==============================] - 2s 42us/sample - loss: 0.1852 - acc: 0.7198 - val_loss: 0.1836 - val_acc: 0.7169\n",
      "Epoch 117/400\n",
      "57916/57916 [==============================] - 3s 52us/sample - loss: 0.1850 - acc: 0.7214 - val_loss: 0.1829 - val_acc: 0.7292\n",
      "Epoch 118/400\n",
      "57916/57916 [==============================] - 3s 52us/sample - loss: 0.1851 - acc: 0.7202 - val_loss: 0.1835 - val_acc: 0.7251\n",
      "Epoch 119/400\n",
      "57916/57916 [==============================] - 2s 38us/sample - loss: 0.1853 - acc: 0.7215 - val_loss: 0.1830 - val_acc: 0.7321\n",
      "Epoch 120/400\n",
      "57916/57916 [==============================] - 3s 44us/sample - loss: 0.1849 - acc: 0.7204 - val_loss: 0.1837 - val_acc: 0.7262\n",
      "Epoch 121/400\n",
      "57916/57916 [==============================] - 3s 52us/sample - loss: 0.1849 - acc: 0.7214 - val_loss: 0.1830 - val_acc: 0.7349\n",
      "Epoch 122/400\n",
      "57916/57916 [==============================] - 3s 44us/sample - loss: 0.1846 - acc: 0.7214 - val_loss: 0.1841 - val_acc: 0.7124\n",
      "Epoch 123/400\n",
      "57916/57916 [==============================] - 3s 46us/sample - loss: 0.1851 - acc: 0.7224 - val_loss: 0.1816 - val_acc: 0.7261\n",
      "Epoch 124/400\n",
      "57916/57916 [==============================] - 3s 45us/sample - loss: 0.1846 - acc: 0.7240 - val_loss: 0.1818 - val_acc: 0.7273\n",
      "Epoch 125/400\n",
      "57916/57916 [==============================] - 3s 46us/sample - loss: 0.1846 - acc: 0.7213 - val_loss: 0.1814 - val_acc: 0.7360\n",
      "Epoch 126/400\n",
      "57916/57916 [==============================] - 3s 59us/sample - loss: 0.1846 - acc: 0.7209 - val_loss: 0.1821 - val_acc: 0.7239\n",
      "Epoch 127/400\n",
      "57916/57916 [==============================] - 3s 47us/sample - loss: 0.1846 - acc: 0.7224 - val_loss: 0.1842 - val_acc: 0.7296\n",
      "Epoch 128/400\n",
      "57916/57916 [==============================] - 3s 46us/sample - loss: 0.1845 - acc: 0.7228 - val_loss: 0.1821 - val_acc: 0.7242\n",
      "Epoch 129/400\n",
      "57916/57916 [==============================] - 3s 56us/sample - loss: 0.1847 - acc: 0.7220 - val_loss: 0.1822 - val_acc: 0.7247\n",
      "Epoch 130/400\n",
      "57916/57916 [==============================] - 3s 46us/sample - loss: 0.1846 - acc: 0.7212 - val_loss: 0.1816 - val_acc: 0.7320\n",
      "Epoch 131/400\n",
      "57916/57916 [==============================] - 3s 50us/sample - loss: 0.1846 - acc: 0.7228 - val_loss: 0.1875 - val_acc: 0.7214\n",
      "Epoch 132/400\n",
      "57916/57916 [==============================] - 3s 49us/sample - loss: 0.1841 - acc: 0.7221 - val_loss: 0.1812 - val_acc: 0.7379\n",
      "Epoch 133/400\n",
      "57916/57916 [==============================] - 2s 43us/sample - loss: 0.1843 - acc: 0.7225 - val_loss: 0.1830 - val_acc: 0.7287\n",
      "Epoch 134/400\n",
      "57916/57916 [==============================] - 2s 39us/sample - loss: 0.1840 - acc: 0.7224 - val_loss: 0.1828 - val_acc: 0.7326\n",
      "Epoch 135/400\n",
      "57916/57916 [==============================] - 3s 45us/sample - loss: 0.1843 - acc: 0.7229 - val_loss: 0.1873 - val_acc: 0.7219\n",
      "Epoch 136/400\n",
      "57916/57916 [==============================] - 3s 44us/sample - loss: 0.1839 - acc: 0.7235 - val_loss: 0.1813 - val_acc: 0.7345\n",
      "Epoch 137/400\n",
      "57916/57916 [==============================] - 3s 44us/sample - loss: 0.1841 - acc: 0.7234 - val_loss: 0.1809 - val_acc: 0.7300\n",
      "Epoch 138/400\n",
      "57916/57916 [==============================] - 2s 42us/sample - loss: 0.1836 - acc: 0.7243 - val_loss: 0.1857 - val_acc: 0.7256\n",
      "Epoch 139/400\n",
      "57916/57916 [==============================] - 2s 42us/sample - loss: 0.1838 - acc: 0.7245 - val_loss: 0.1844 - val_acc: 0.7265\n",
      "Epoch 140/400\n",
      "57916/57916 [==============================] - 2s 40us/sample - loss: 0.1843 - acc: 0.7236 - val_loss: 0.1820 - val_acc: 0.7275\n",
      "Epoch 141/400\n",
      "57916/57916 [==============================] - 3s 48us/sample - loss: 0.1834 - acc: 0.7240 - val_loss: 0.1811 - val_acc: 0.7262\n",
      "Epoch 142/400\n",
      "57916/57916 [==============================] - 2s 34us/sample - loss: 0.1840 - acc: 0.7232 - val_loss: 0.1815 - val_acc: 0.7334\n",
      "Epoch 143/400\n",
      "57916/57916 [==============================] - 2s 32us/sample - loss: 0.1841 - acc: 0.7232 - val_loss: 0.1844 - val_acc: 0.7348\n",
      "Epoch 144/400\n",
      "57916/57916 [==============================] - 2s 42us/sample - loss: 0.1835 - acc: 0.7254 - val_loss: 0.1817 - val_acc: 0.7262\n",
      "Epoch 145/400\n",
      "57916/57916 [==============================] - 3s 51us/sample - loss: 0.1835 - acc: 0.7249 - val_loss: 0.1839 - val_acc: 0.7140\n",
      "Epoch 146/400\n",
      "57916/57916 [==============================] - 3s 46us/sample - loss: 0.1837 - acc: 0.7248 - val_loss: 0.1818 - val_acc: 0.7334\n",
      "Epoch 147/400\n",
      "57916/57916 [==============================] - 3s 45us/sample - loss: 0.1833 - acc: 0.7249 - val_loss: 0.1809 - val_acc: 0.7279\n",
      "Epoch 148/400\n",
      "57916/57916 [==============================] - 3s 47us/sample - loss: 0.1831 - acc: 0.7259 - val_loss: 0.1813 - val_acc: 0.7343\n",
      "Epoch 149/400\n",
      "57916/57916 [==============================] - 3s 43us/sample - loss: 0.1833 - acc: 0.7260 - val_loss: 0.1867 - val_acc: 0.7223\n",
      "Epoch 150/400\n",
      "57916/57916 [==============================] - 2s 38us/sample - loss: 0.1833 - acc: 0.7247 - val_loss: 0.1807 - val_acc: 0.7312\n",
      "Epoch 151/400\n",
      "57916/57916 [==============================] - 2s 39us/sample - loss: 0.1830 - acc: 0.7256 - val_loss: 0.1806 - val_acc: 0.7337\n",
      "Epoch 152/400\n",
      "57916/57916 [==============================] - 2s 38us/sample - loss: 0.1829 - acc: 0.7255 - val_loss: 0.1809 - val_acc: 0.7343\n",
      "Epoch 153/400\n",
      "57916/57916 [==============================] - 2s 40us/sample - loss: 0.1831 - acc: 0.7266 - val_loss: 0.1805 - val_acc: 0.7320\n",
      "Epoch 154/400\n",
      "57916/57916 [==============================] - 2s 41us/sample - loss: 0.1830 - acc: 0.7261 - val_loss: 0.1802 - val_acc: 0.7349\n",
      "Epoch 155/400\n",
      "57916/57916 [==============================] - 2s 41us/sample - loss: 0.1828 - acc: 0.7281 - val_loss: 0.1815 - val_acc: 0.7318\n",
      "Epoch 156/400\n",
      "57916/57916 [==============================] - 3s 49us/sample - loss: 0.1829 - acc: 0.7260 - val_loss: 0.1865 - val_acc: 0.7126\n",
      "Epoch 157/400\n",
      "57916/57916 [==============================] - 3s 44us/sample - loss: 0.1833 - acc: 0.7255 - val_loss: 0.1821 - val_acc: 0.7293\n",
      "Epoch 158/400\n",
      "57916/57916 [==============================] - 3s 47us/sample - loss: 0.1836 - acc: 0.7246 - val_loss: 0.1850 - val_acc: 0.7244\n",
      "Epoch 159/400\n",
      "57916/57916 [==============================] - 3s 53us/sample - loss: 0.1829 - acc: 0.7266 - val_loss: 0.1847 - val_acc: 0.7164\n",
      "Epoch 160/400\n",
      "57916/57916 [==============================] - 2s 40us/sample - loss: 0.1829 - acc: 0.7267 - val_loss: 0.1800 - val_acc: 0.7349\n",
      "Epoch 161/400\n",
      "57916/57916 [==============================] - 2s 41us/sample - loss: 0.1826 - acc: 0.7276 - val_loss: 0.1807 - val_acc: 0.7307\n",
      "Epoch 162/400\n",
      "57916/57916 [==============================] - 3s 48us/sample - loss: 0.1826 - acc: 0.7262 - val_loss: 0.1810 - val_acc: 0.7326\n",
      "Epoch 163/400\n",
      "57916/57916 [==============================] - 2s 39us/sample - loss: 0.1828 - acc: 0.7270 - val_loss: 0.1806 - val_acc: 0.7356\n",
      "Epoch 164/400\n",
      "57916/57916 [==============================] - 2s 42us/sample - loss: 0.1830 - acc: 0.7258 - val_loss: 0.1804 - val_acc: 0.7388\n",
      "Epoch 165/400\n",
      "57916/57916 [==============================] - 2s 41us/sample - loss: 0.1826 - acc: 0.7258 - val_loss: 0.1805 - val_acc: 0.7312\n",
      "Epoch 166/400\n",
      "57916/57916 [==============================] - 2s 39us/sample - loss: 0.1827 - acc: 0.7266 - val_loss: 0.1814 - val_acc: 0.7262\n",
      "Epoch 167/400\n",
      "57916/57916 [==============================] - 2s 41us/sample - loss: 0.1828 - acc: 0.7263 - val_loss: 0.1827 - val_acc: 0.7247\n",
      "Epoch 168/400\n",
      "57916/57916 [==============================] - 3s 48us/sample - loss: 0.1824 - acc: 0.7281 - val_loss: 0.1806 - val_acc: 0.7295\n",
      "Epoch 169/400\n",
      "57916/57916 [==============================] - 3s 59us/sample - loss: 0.1823 - acc: 0.7275 - val_loss: 0.1801 - val_acc: 0.7444\n",
      "Epoch 170/400\n",
      "57916/57916 [==============================] - 2s 39us/sample - loss: 0.1823 - acc: 0.7275 - val_loss: 0.1799 - val_acc: 0.7382\n",
      "Epoch 171/400\n",
      "57916/57916 [==============================] - 3s 43us/sample - loss: 0.1823 - acc: 0.7273 - val_loss: 0.1805 - val_acc: 0.7320\n",
      "Epoch 172/400\n",
      "57916/57916 [==============================] - 3s 50us/sample - loss: 0.1823 - acc: 0.7273 - val_loss: 0.1800 - val_acc: 0.7315\n",
      "Epoch 173/400\n",
      "57916/57916 [==============================] - 3s 55us/sample - loss: 0.1823 - acc: 0.7275 - val_loss: 0.1830 - val_acc: 0.7349\n",
      "Epoch 174/400\n",
      "57916/57916 [==============================] - 3s 43us/sample - loss: 0.1824 - acc: 0.7272 - val_loss: 0.1802 - val_acc: 0.7284\n",
      "Epoch 175/400\n",
      "57916/57916 [==============================] - 3s 47us/sample - loss: 0.1823 - acc: 0.7286 - val_loss: 0.1817 - val_acc: 0.7259\n",
      "Epoch 176/400\n",
      "57916/57916 [==============================] - 3s 48us/sample - loss: 0.1824 - acc: 0.7266 - val_loss: 0.1803 - val_acc: 0.7270\n",
      "Epoch 177/400\n",
      "57916/57916 [==============================] - 2s 41us/sample - loss: 0.1825 - acc: 0.7271 - val_loss: 0.1895 - val_acc: 0.7060\n",
      "Epoch 178/400\n",
      "57916/57916 [==============================] - 2s 43us/sample - loss: 0.1822 - acc: 0.7267 - val_loss: 0.1805 - val_acc: 0.7405\n",
      "Epoch 179/400\n",
      "57916/57916 [==============================] - 3s 51us/sample - loss: 0.1822 - acc: 0.7288 - val_loss: 0.1800 - val_acc: 0.7429\n",
      "Epoch 180/400\n",
      "57916/57916 [==============================] - 3s 44us/sample - loss: 0.1823 - acc: 0.7273 - val_loss: 0.1817 - val_acc: 0.7383\n",
      "Epoch 181/400\n",
      "57916/57916 [==============================] - 3s 44us/sample - loss: 0.1821 - acc: 0.7270 - val_loss: 0.1837 - val_acc: 0.7290\n",
      "Epoch 182/400\n",
      "57916/57916 [==============================] - 3s 57us/sample - loss: 0.1824 - acc: 0.7273 - val_loss: 0.1795 - val_acc: 0.7371\n",
      "Epoch 183/400\n",
      "57916/57916 [==============================] - 2s 37us/sample - loss: 0.1822 - acc: 0.7285 - val_loss: 0.1810 - val_acc: 0.7383\n",
      "Epoch 184/400\n",
      "57916/57916 [==============================] - 2s 39us/sample - loss: 0.1824 - acc: 0.7268 - val_loss: 0.1796 - val_acc: 0.7421\n",
      "Epoch 185/400\n",
      "57916/57916 [==============================] - 2s 36us/sample - loss: 0.1819 - acc: 0.7302 - val_loss: 0.1792 - val_acc: 0.7447\n",
      "Epoch 186/400\n",
      "57916/57916 [==============================] - 2s 43us/sample - loss: 0.1823 - acc: 0.7285 - val_loss: 0.1886 - val_acc: 0.7121\n",
      "Epoch 187/400\n",
      "57916/57916 [==============================] - 3s 46us/sample - loss: 0.1823 - acc: 0.7278 - val_loss: 0.1793 - val_acc: 0.7430\n",
      "Epoch 188/400\n",
      "57916/57916 [==============================] - 2s 43us/sample - loss: 0.1821 - acc: 0.7290 - val_loss: 0.1792 - val_acc: 0.7407\n",
      "Epoch 189/400\n",
      "57916/57916 [==============================] - 3s 47us/sample - loss: 0.1821 - acc: 0.7283 - val_loss: 0.1800 - val_acc: 0.7411\n",
      "Epoch 190/400\n",
      "57916/57916 [==============================] - 3s 50us/sample - loss: 0.1820 - acc: 0.7295 - val_loss: 0.1811 - val_acc: 0.7275\n",
      "Epoch 191/400\n",
      "57916/57916 [==============================] - 3s 44us/sample - loss: 0.1820 - acc: 0.7289 - val_loss: 0.1866 - val_acc: 0.7171\n",
      "Epoch 192/400\n",
      "57916/57916 [==============================] - 3s 44us/sample - loss: 0.1817 - acc: 0.7298 - val_loss: 0.1797 - val_acc: 0.7385\n",
      "Epoch 193/400\n",
      "57916/57916 [==============================] - 3s 44us/sample - loss: 0.1818 - acc: 0.7297 - val_loss: 0.1820 - val_acc: 0.7300\n",
      "Epoch 194/400\n",
      "57916/57916 [==============================] - 3s 49us/sample - loss: 0.1822 - acc: 0.7275 - val_loss: 0.1830 - val_acc: 0.7304\n",
      "Epoch 195/400\n",
      "57916/57916 [==============================] - 3s 51us/sample - loss: 0.1817 - acc: 0.7299 - val_loss: 0.1806 - val_acc: 0.7286\n",
      "Epoch 196/400\n",
      "57916/57916 [==============================] - 3s 45us/sample - loss: 0.1820 - acc: 0.7287 - val_loss: 0.1804 - val_acc: 0.7272\n",
      "Epoch 197/400\n",
      "57916/57916 [==============================] - 3s 47us/sample - loss: 0.1815 - acc: 0.7294 - val_loss: 0.1804 - val_acc: 0.7419\n",
      "Epoch 198/400\n",
      "57916/57916 [==============================] - 3s 46us/sample - loss: 0.1820 - acc: 0.7286 - val_loss: 0.1819 - val_acc: 0.7362\n",
      "Epoch 199/400\n",
      "57916/57916 [==============================] - 3s 45us/sample - loss: 0.1821 - acc: 0.7275 - val_loss: 0.1816 - val_acc: 0.7371\n",
      "Epoch 200/400\n",
      "57916/57916 [==============================] - 3s 48us/sample - loss: 0.1820 - acc: 0.7280 - val_loss: 0.1799 - val_acc: 0.7390\n"
     ]
    }
   ],
   "source": [
    "history = model.fit(X_train, y_train, batch_size=75, epochs=400, validation_data=(X_test, y_test),callbacks=[early_stopping])\n",
    "# history = model.fit(X_train, y_train, batch_size=75, epochs=300, validation_data=(X_test, y_test))"
   ]
  },
  {
   "cell_type": "code",
   "execution_count": 24,
   "metadata": {},
   "outputs": [],
   "source": [
    "import matplotlib.pyplot as plt\n"
   ]
  },
  {
   "cell_type": "code",
   "execution_count": 25,
   "metadata": {},
   "outputs": [],
   "source": [
    "# plt.figure(figsize=[20,8])\n",
    "\n",
    "# plt.subplot(1,2,1)\n",
    "# plt.plot(history.history['accuracy'])\n",
    "# plt.plot(history.history['val_accuracy'])\n",
    "# plt.title('Model Accuracy', size=25, pad=20)\n",
    "# plt.ylabel('Accuracy', size=15)\n",
    "# plt.xlabel('Epoch', size=15)\n",
    "# plt.legend(['train', 'test'], loc='upper left')"
   ]
  },
  {
   "cell_type": "code",
   "execution_count": 26,
   "metadata": {},
   "outputs": [
    {
     "data": {
      "text/plain": [
       "<matplotlib.legend.Legend at 0x1ac98ee7fd0>"
      ]
     },
     "execution_count": 26,
     "metadata": {},
     "output_type": "execute_result"
    },
    {
     "data": {
      "image/png": "[encoded data removed]",
      "text/plain": [
       "<Figure size 432x288 with 1 Axes>"
      ]
     },
     "metadata": {
      "needs_background": "light"
     },
     "output_type": "display_data"
    }
   ],
   "source": [
    "plt.plot(history.history['loss'])\n",
    "plt.plot(history.history['val_loss'])\n",
    "plt.title('Model Loss', size=25, pad=20)\n",
    "plt.ylabel('Loss', size=15)\n",
    "plt.xlabel('Epoch', size=15)\n",
    "plt.legend(['train', 'test'], loc='upper left')"
   ]
  },
  {
   "cell_type": "code",
   "execution_count": 27,
   "metadata": {},
   "outputs": [],
   "source": [
    "from sklearn.metrics import roc_curve\n",
    "y_pred_keras = model.predict(X_test).ravel()\n",
    "fpr_keras, tpr_keras, thresholds_keras = roc_curve(y_test, y_pred_keras)"
   ]
  },
  {
   "cell_type": "code",
   "execution_count": 28,
   "metadata": {},
   "outputs": [],
   "source": [
    "from sklearn.metrics import auc\n",
    "auc_keras = auc(fpr_keras, tpr_keras)"
   ]
  },
  {
   "cell_type": "code",
   "execution_count": 29,
   "metadata": {},
   "outputs": [
    {
     "data": {
      "image/png": "[encoded data removed]",
      "text/plain": [
       "<Figure size 432x288 with 1 Axes>"
      ]
     },
     "metadata": {
      "needs_background": "light"
     },
     "output_type": "display_data"
    }
   ],
   "source": [
    "plt.figure(1)\n",
    "plt.plot([0, 1], [0, 1], 'k--')\n",
    "plt.plot(fpr_keras, tpr_keras, label='Keras (area = {:.3f})'.format(auc_keras))\n",
    "plt.xlabel('False positive rate')\n",
    "plt.ylabel('True positive rate')\n",
    "plt.title('ROC curve')\n",
    "plt.legend(loc='best')\n",
    "plt.show()"
   ]
  },
  {
   "cell_type": "code",
   "execution_count": 30,
   "metadata": {},
   "outputs": [],
   "source": [
    "y_pred = model.predict(X_test)\n",
    "y_pred = y_pred > 0.5"
   ]
  },
  {
   "cell_type": "code",
   "execution_count": 31,
   "metadata": {},
   "outputs": [],
   "source": [
    "from sklearn.metrics import confusion_matrix\n",
    "cm = confusion_matrix(y_test, y_pred)"
   ]
  },
  {
   "cell_type": "code",
   "execution_count": 32,
   "metadata": {},
   "outputs": [],
   "source": [
    "import seaborn as sns\n"
   ]
  },
  {
   "cell_type": "code",
   "execution_count": 33,
   "metadata": {},
   "outputs": [
    {
     "data": {
      "text/plain": [
       "Text(0.5, 15.0, 'Predicted label')"
      ]
     },
     "execution_count": 33,
     "metadata": {},
     "output_type": "execute_result"
    },
    {
     "data": {
      "image/png": "[encoded data removed]",
      "text/plain": [
       "<Figure size 432x288 with 2 Axes>"
      ]
     },
     "metadata": {
      "needs_background": "light"
     },
     "output_type": "display_data"
    }
   ],
   "source": [
    "p = sns.heatmap(pd.DataFrame(cm), annot=True, cmap=\"YlGnBu\" ,fmt='g')\n",
    "plt.title('Confusion matrix', y=1.1)\n",
    "plt.ylabel('Actual label')\n",
    "plt.xlabel('Predicted label')"
   ]
  },
  {
   "cell_type": "code",
   "execution_count": null,
   "metadata": {},
   "outputs": [],
   "source": []
  }
 ],
 "metadata": {
  "kernelspec": {
   "display_name": "Python 3.7.3 64-bit ('Anaconda3')",
   "language": "python",
   "name": "python3"
  },
  "language_info": {
   "codemirror_mode": {
    "name": "ipython",
    "version": 3
   },
   "file_extension": ".py",
   "mimetype": "text/x-python",
   "name": "python",
   "nbconvert_exporter": "python",
   "pygments_lexer": "ipython3",
   "version": "3.7.3"
  },
  "vscode": {
   "interpreter": {
    "hash": "d9783cdf2a37e2a41721e81ed5e12f4266c666f19eac87f25458d24597dc339e"
   }
  }
 },
 "nbformat": 4,
 "nbformat_minor": 2
}
