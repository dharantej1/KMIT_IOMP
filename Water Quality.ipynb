{
 "cells": [
  {
   "cell_type": "code",
   "execution_count": 298,
   "metadata": {},
   "outputs": [],
   "source": [
    "import pandas as pd\n",
    "import numpy as np\n",
    "from IPython.display import Image"
   ]
  },
  {
   "cell_type": "code",
   "execution_count": 299,
   "metadata": {},
   "outputs": [],
   "source": [
    "df = pd.read_csv(\"./water_potability.csv\")"
   ]
  },
  {
   "cell_type": "code",
   "execution_count": 300,
   "metadata": {
    "scrolled": true
   },
   "outputs": [
    {
     "data": {
      "text/html": [
       "<div>\n",
       "<style scoped>\n",
       "    .dataframe tbody tr th:only-of-type {\n",
       "        vertical-align: middle;\n",
       "    }\n",
       "\n",
       "    .dataframe tbody tr th {\n",
       "        vertical-align: top;\n",
       "    }\n",
       "\n",
       "    .dataframe thead th {\n",
       "        text-align: right;\n",
       "    }\n",
       "</style>\n",
       "<table border=\"1\" class=\"dataframe\">\n",
       "  <thead>\n",
       "    <tr style=\"text-align: right;\">\n",
       "      <th></th>\n",
       "      <th>ph</th>\n",
       "      <th>Hardness</th>\n",
       "      <th>Solids</th>\n",
       "      <th>Chloramines</th>\n",
       "      <th>Sulfate</th>\n",
       "      <th>Conductivity</th>\n",
       "      <th>Organic_carbon</th>\n",
       "      <th>Trihalomethanes</th>\n",
       "      <th>Turbidity</th>\n",
       "      <th>Potability</th>\n",
       "    </tr>\n",
       "  </thead>\n",
       "  <tbody>\n",
       "    <tr>\n",
       "      <th>0</th>\n",
       "      <td>NaN</td>\n",
       "      <td>204.890456</td>\n",
       "      <td>20791.31898</td>\n",
       "      <td>7.300212</td>\n",
       "      <td>368.516441</td>\n",
       "      <td>564.308654</td>\n",
       "      <td>10.379783</td>\n",
       "      <td>86.990970</td>\n",
       "      <td>2.963135</td>\n",
       "      <td>0</td>\n",
       "    </tr>\n",
       "    <tr>\n",
       "      <th>1</th>\n",
       "      <td>3.716080</td>\n",
       "      <td>129.422921</td>\n",
       "      <td>18630.05786</td>\n",
       "      <td>6.635246</td>\n",
       "      <td>NaN</td>\n",
       "      <td>592.885359</td>\n",
       "      <td>15.180013</td>\n",
       "      <td>56.329076</td>\n",
       "      <td>4.500656</td>\n",
       "      <td>0</td>\n",
       "    </tr>\n",
       "    <tr>\n",
       "      <th>2</th>\n",
       "      <td>8.099124</td>\n",
       "      <td>224.236259</td>\n",
       "      <td>19909.54173</td>\n",
       "      <td>9.275884</td>\n",
       "      <td>NaN</td>\n",
       "      <td>418.606213</td>\n",
       "      <td>16.868637</td>\n",
       "      <td>66.420093</td>\n",
       "      <td>3.055934</td>\n",
       "      <td>0</td>\n",
       "    </tr>\n",
       "    <tr>\n",
       "      <th>3</th>\n",
       "      <td>8.316766</td>\n",
       "      <td>214.373394</td>\n",
       "      <td>22018.41744</td>\n",
       "      <td>8.059332</td>\n",
       "      <td>356.886136</td>\n",
       "      <td>363.266516</td>\n",
       "      <td>18.436525</td>\n",
       "      <td>100.341674</td>\n",
       "      <td>4.628771</td>\n",
       "      <td>0</td>\n",
       "    </tr>\n",
       "    <tr>\n",
       "      <th>4</th>\n",
       "      <td>9.092223</td>\n",
       "      <td>181.101509</td>\n",
       "      <td>17978.98634</td>\n",
       "      <td>6.546600</td>\n",
       "      <td>310.135738</td>\n",
       "      <td>398.410813</td>\n",
       "      <td>11.558279</td>\n",
       "      <td>31.997993</td>\n",
       "      <td>4.075075</td>\n",
       "      <td>0</td>\n",
       "    </tr>\n",
       "  </tbody>\n",
       "</table>\n",
       "</div>"
      ],
      "text/plain": [
       "         ph    Hardness       Solids  Chloramines     Sulfate  Conductivity  \\\n",
       "0       NaN  204.890456  20791.31898     7.300212  368.516441    564.308654   \n",
       "1  3.716080  129.422921  18630.05786     6.635246         NaN    592.885359   \n",
       "2  8.099124  224.236259  19909.54173     9.275884         NaN    418.606213   \n",
       "3  8.316766  214.373394  22018.41744     8.059332  356.886136    363.266516   \n",
       "4  9.092223  181.101509  17978.98634     6.546600  310.135738    398.410813   \n",
       "\n",
       "   Organic_carbon  Trihalomethanes  Turbidity  Potability  \n",
       "0       10.379783        86.990970   2.963135           0  \n",
       "1       15.180013        56.329076   4.500656           0  \n",
       "2       16.868637        66.420093   3.055934           0  \n",
       "3       18.436525       100.341674   4.628771           0  \n",
       "4       11.558279        31.997993   4.075075           0  "
      ]
     },
     "execution_count": 300,
     "metadata": {},
     "output_type": "execute_result"
    }
   ],
   "source": [
    "df.head()\n"
   ]
  },
  {
   "cell_type": "code",
   "execution_count": 301,
   "metadata": {},
   "outputs": [
    {
     "data": {
      "text/plain": [
       "(104832, 10)"
      ]
     },
     "execution_count": 301,
     "metadata": {},
     "output_type": "execute_result"
    }
   ],
   "source": [
    "np.shape(df)"
   ]
  },
  {
   "cell_type": "code",
   "execution_count": 302,
   "metadata": {},
   "outputs": [
    {
     "name": "stdout",
     "output_type": "stream",
     "text": [
      "Number of null values in different columns\n",
      "ph                 15712\n",
      "Hardness               0\n",
      "Solids                 0\n",
      "Chloramines            0\n",
      "Sulfate            24992\n",
      "Conductivity           0\n",
      "Organic_carbon         0\n",
      "Trihalomethanes     5184\n",
      "Turbidity              0\n",
      "Potability             0\n",
      "dtype: int64\n"
     ]
    }
   ],
   "source": [
    "print(\"Number of null values in different columns\")\n",
    "print(df.isna().sum())"
   ]
  },
  {
   "cell_type": "code",
   "execution_count": 303,
   "metadata": {},
   "outputs": [],
   "source": [
    "df=df.dropna()"
   ]
  },
  {
   "cell_type": "code",
   "execution_count": 304,
   "metadata": {},
   "outputs": [],
   "source": [
    "# df.loc[(df['ph'].isna() == True), 'ph'] = df['ph'].mean()\n",
    "# df.loc[(df['Sulfate'].isna() == True), 'Sulfate'] = df['Sulfate'].mean()\n",
    "# df.loc[(df['Trihalomethanes'].isna() == True), 'Trihalomethanes'] = df['Trihalomethanes'].mean()"
   ]
  },
  {
   "cell_type": "code",
   "execution_count": 305,
   "metadata": {},
   "outputs": [
    {
     "data": {
      "text/plain": [
       "(64352, 10)"
      ]
     },
     "execution_count": 305,
     "metadata": {},
     "output_type": "execute_result"
    }
   ],
   "source": [
    "np.shape(df)"
   ]
  },
  {
   "cell_type": "code",
   "execution_count": 306,
   "metadata": {},
   "outputs": [
    {
     "name": "stdout",
     "output_type": "stream",
     "text": [
      "Number of null values after dropping null values\n",
      "ph                 0\n",
      "Hardness           0\n",
      "Solids             0\n",
      "Chloramines        0\n",
      "Sulfate            0\n",
      "Conductivity       0\n",
      "Organic_carbon     0\n",
      "Trihalomethanes    0\n",
      "Turbidity          0\n",
      "Potability         0\n",
      "dtype: int64\n"
     ]
    }
   ],
   "source": [
    "print(\"Number of null values after dropping null values\")\n",
    "print(df.isna().sum())"
   ]
  },
  {
   "cell_type": "code",
   "execution_count": 307,
   "metadata": {},
   "outputs": [
    {
     "data": {
      "text/html": [
       "<div>\n",
       "<style scoped>\n",
       "    .dataframe tbody tr th:only-of-type {\n",
       "        vertical-align: middle;\n",
       "    }\n",
       "\n",
       "    .dataframe tbody tr th {\n",
       "        vertical-align: top;\n",
       "    }\n",
       "\n",
       "    .dataframe thead th {\n",
       "        text-align: right;\n",
       "    }\n",
       "</style>\n",
       "<table border=\"1\" class=\"dataframe\">\n",
       "  <thead>\n",
       "    <tr style=\"text-align: right;\">\n",
       "      <th></th>\n",
       "      <th>ph</th>\n",
       "      <th>Hardness</th>\n",
       "      <th>Solids</th>\n",
       "      <th>Chloramines</th>\n",
       "      <th>Sulfate</th>\n",
       "      <th>Conductivity</th>\n",
       "      <th>Organic_carbon</th>\n",
       "      <th>Trihalomethanes</th>\n",
       "      <th>Turbidity</th>\n",
       "      <th>Potability</th>\n",
       "    </tr>\n",
       "  </thead>\n",
       "  <tbody>\n",
       "    <tr>\n",
       "      <th>count</th>\n",
       "      <td>64352.000000</td>\n",
       "      <td>64352.000000</td>\n",
       "      <td>64352.000000</td>\n",
       "      <td>64352.000000</td>\n",
       "      <td>64352.000000</td>\n",
       "      <td>64352.000000</td>\n",
       "      <td>64352.000000</td>\n",
       "      <td>64352.000000</td>\n",
       "      <td>64352.000000</td>\n",
       "      <td>64352.000000</td>\n",
       "    </tr>\n",
       "    <tr>\n",
       "      <th>mean</th>\n",
       "      <td>7.085990</td>\n",
       "      <td>195.968072</td>\n",
       "      <td>21917.441375</td>\n",
       "      <td>7.134338</td>\n",
       "      <td>333.224672</td>\n",
       "      <td>426.526409</td>\n",
       "      <td>14.357709</td>\n",
       "      <td>66.400859</td>\n",
       "      <td>3.969729</td>\n",
       "      <td>0.403282</td>\n",
       "    </tr>\n",
       "    <tr>\n",
       "      <th>std</th>\n",
       "      <td>1.572958</td>\n",
       "      <td>32.627223</td>\n",
       "      <td>8640.157938</td>\n",
       "      <td>1.584438</td>\n",
       "      <td>41.195246</td>\n",
       "      <td>80.693129</td>\n",
       "      <td>3.324158</td>\n",
       "      <td>16.073237</td>\n",
       "      <td>0.780158</td>\n",
       "      <td>0.490560</td>\n",
       "    </tr>\n",
       "    <tr>\n",
       "      <th>min</th>\n",
       "      <td>0.227499</td>\n",
       "      <td>73.492234</td>\n",
       "      <td>320.942611</td>\n",
       "      <td>1.390871</td>\n",
       "      <td>129.000000</td>\n",
       "      <td>201.619737</td>\n",
       "      <td>2.200000</td>\n",
       "      <td>8.577013</td>\n",
       "      <td>1.450000</td>\n",
       "      <td>0.000000</td>\n",
       "    </tr>\n",
       "    <tr>\n",
       "      <th>25%</th>\n",
       "      <td>6.089431</td>\n",
       "      <td>176.736376</td>\n",
       "      <td>15613.160530</td>\n",
       "      <td>6.137757</td>\n",
       "      <td>307.621462</td>\n",
       "      <td>366.558131</td>\n",
       "      <td>12.120956</td>\n",
       "      <td>55.947322</td>\n",
       "      <td>3.442848</td>\n",
       "      <td>0.000000</td>\n",
       "    </tr>\n",
       "    <tr>\n",
       "      <th>50%</th>\n",
       "      <td>7.027297</td>\n",
       "      <td>197.191839</td>\n",
       "      <td>20933.512750</td>\n",
       "      <td>7.143907</td>\n",
       "      <td>332.232177</td>\n",
       "      <td>423.455906</td>\n",
       "      <td>14.322019</td>\n",
       "      <td>66.542198</td>\n",
       "      <td>3.968177</td>\n",
       "      <td>0.000000</td>\n",
       "    </tr>\n",
       "    <tr>\n",
       "      <th>75%</th>\n",
       "      <td>8.053044</td>\n",
       "      <td>216.454108</td>\n",
       "      <td>27192.280560</td>\n",
       "      <td>8.110140</td>\n",
       "      <td>359.392567</td>\n",
       "      <td>482.451933</td>\n",
       "      <td>16.684074</td>\n",
       "      <td>77.297300</td>\n",
       "      <td>4.515150</td>\n",
       "      <td>1.000000</td>\n",
       "    </tr>\n",
       "    <tr>\n",
       "      <th>max</th>\n",
       "      <td>14.000000</td>\n",
       "      <td>317.338124</td>\n",
       "      <td>56488.672410</td>\n",
       "      <td>13.127000</td>\n",
       "      <td>481.030642</td>\n",
       "      <td>753.342620</td>\n",
       "      <td>27.006707</td>\n",
       "      <td>124.000000</td>\n",
       "      <td>6.494749</td>\n",
       "      <td>1.000000</td>\n",
       "    </tr>\n",
       "  </tbody>\n",
       "</table>\n",
       "</div>"
      ],
      "text/plain": [
       "                 ph      Hardness        Solids   Chloramines       Sulfate  \\\n",
       "count  64352.000000  64352.000000  64352.000000  64352.000000  64352.000000   \n",
       "mean       7.085990    195.968072  21917.441375      7.134338    333.224672   \n",
       "std        1.572958     32.627223   8640.157938      1.584438     41.195246   \n",
       "min        0.227499     73.492234    320.942611      1.390871    129.000000   \n",
       "25%        6.089431    176.736376  15613.160530      6.137757    307.621462   \n",
       "50%        7.027297    197.191839  20933.512750      7.143907    332.232177   \n",
       "75%        8.053044    216.454108  27192.280560      8.110140    359.392567   \n",
       "max       14.000000    317.338124  56488.672410     13.127000    481.030642   \n",
       "\n",
       "       Conductivity  Organic_carbon  Trihalomethanes     Turbidity  \\\n",
       "count  64352.000000    64352.000000     64352.000000  64352.000000   \n",
       "mean     426.526409       14.357709        66.400859      3.969729   \n",
       "std       80.693129        3.324158        16.073237      0.780158   \n",
       "min      201.619737        2.200000         8.577013      1.450000   \n",
       "25%      366.558131       12.120956        55.947322      3.442848   \n",
       "50%      423.455906       14.322019        66.542198      3.968177   \n",
       "75%      482.451933       16.684074        77.297300      4.515150   \n",
       "max      753.342620       27.006707       124.000000      6.494749   \n",
       "\n",
       "         Potability  \n",
       "count  64352.000000  \n",
       "mean       0.403282  \n",
       "std        0.490560  \n",
       "min        0.000000  \n",
       "25%        0.000000  \n",
       "50%        0.000000  \n",
       "75%        1.000000  \n",
       "max        1.000000  "
      ]
     },
     "execution_count": 307,
     "metadata": {},
     "output_type": "execute_result"
    }
   ],
   "source": [
    "df.describe()"
   ]
  },
  {
   "cell_type": "code",
   "execution_count": 308,
   "metadata": {},
   "outputs": [],
   "source": [
    "df.reset_index(inplace=True)\n",
    "df=df.drop(['index'],axis=1)"
   ]
  },
  {
   "cell_type": "code",
   "execution_count": 309,
   "metadata": {},
   "outputs": [
    {
     "data": {
      "text/html": [
       "<div>\n",
       "<style scoped>\n",
       "    .dataframe tbody tr th:only-of-type {\n",
       "        vertical-align: middle;\n",
       "    }\n",
       "\n",
       "    .dataframe tbody tr th {\n",
       "        vertical-align: top;\n",
       "    }\n",
       "\n",
       "    .dataframe thead th {\n",
       "        text-align: right;\n",
       "    }\n",
       "</style>\n",
       "<table border=\"1\" class=\"dataframe\">\n",
       "  <thead>\n",
       "    <tr style=\"text-align: right;\">\n",
       "      <th></th>\n",
       "      <th>ph</th>\n",
       "      <th>Hardness</th>\n",
       "      <th>Solids</th>\n",
       "      <th>Chloramines</th>\n",
       "      <th>Sulfate</th>\n",
       "      <th>Conductivity</th>\n",
       "      <th>Organic_carbon</th>\n",
       "      <th>Trihalomethanes</th>\n",
       "      <th>Turbidity</th>\n",
       "    </tr>\n",
       "    <tr>\n",
       "      <th>Potability</th>\n",
       "      <th></th>\n",
       "      <th></th>\n",
       "      <th></th>\n",
       "      <th></th>\n",
       "      <th></th>\n",
       "      <th></th>\n",
       "      <th></th>\n",
       "      <th></th>\n",
       "      <th></th>\n",
       "    </tr>\n",
       "  </thead>\n",
       "  <tbody>\n",
       "    <tr>\n",
       "      <th>0</th>\n",
       "      <td>38400</td>\n",
       "      <td>38400</td>\n",
       "      <td>38400</td>\n",
       "      <td>38400</td>\n",
       "      <td>38400</td>\n",
       "      <td>38400</td>\n",
       "      <td>38400</td>\n",
       "      <td>38400</td>\n",
       "      <td>38400</td>\n",
       "    </tr>\n",
       "    <tr>\n",
       "      <th>1</th>\n",
       "      <td>25952</td>\n",
       "      <td>25952</td>\n",
       "      <td>25952</td>\n",
       "      <td>25952</td>\n",
       "      <td>25952</td>\n",
       "      <td>25952</td>\n",
       "      <td>25952</td>\n",
       "      <td>25952</td>\n",
       "      <td>25952</td>\n",
       "    </tr>\n",
       "  </tbody>\n",
       "</table>\n",
       "</div>"
      ],
      "text/plain": [
       "               ph  Hardness  Solids  Chloramines  Sulfate  Conductivity  \\\n",
       "Potability                                                                \n",
       "0           38400     38400   38400        38400    38400         38400   \n",
       "1           25952     25952   25952        25952    25952         25952   \n",
       "\n",
       "            Organic_carbon  Trihalomethanes  Turbidity  \n",
       "Potability                                              \n",
       "0                    38400            38400      38400  \n",
       "1                    25952            25952      25952  "
      ]
     },
     "execution_count": 309,
     "metadata": {},
     "output_type": "execute_result"
    }
   ],
   "source": [
    "df.groupby(\"Potability\").count()"
   ]
  },
  {
   "cell_type": "code",
   "execution_count": 310,
   "metadata": {},
   "outputs": [],
   "source": [
    "y = df['Potability']\n",
    "X = df.drop(['Potability'],axis=1)"
   ]
  },
  {
   "cell_type": "code",
   "execution_count": 311,
   "metadata": {},
   "outputs": [],
   "source": [
    "from sklearn.preprocessing import MinMaxScaler\n"
   ]
  },
  {
   "cell_type": "code",
   "execution_count": 312,
   "metadata": {},
   "outputs": [],
   "source": [
    "scaler = MinMaxScaler()\n",
    "X = scaler.fit_transform(X)"
   ]
  },
  {
   "cell_type": "code",
   "execution_count": 313,
   "metadata": {},
   "outputs": [],
   "source": [
    "from sklearn.model_selection import train_test_split\n"
   ]
  },
  {
   "cell_type": "code",
   "execution_count": 314,
   "metadata": {},
   "outputs": [],
   "source": [
    "X_train, X_test, y_train, y_test = train_test_split(X, y, test_size=0.10, random_state=0)"
   ]
  },
  {
   "cell_type": "code",
   "execution_count": 315,
   "metadata": {},
   "outputs": [
    {
     "name": "stdout",
     "output_type": "stream",
     "text": [
      "Size Training Set: 57916\n",
      "Size Testing Set: 6436\n"
     ]
    }
   ],
   "source": [
    "print('Size Training Set: {}'.format(len(X_train)))\n",
    "print('Size Testing Set: {}'.format(len(X_test)))"
   ]
  },
  {
   "cell_type": "code",
   "execution_count": 316,
   "metadata": {},
   "outputs": [],
   "source": [
    "from sklearn.model_selection import train_test_split\n",
    "import tensorflow as tf\n",
    "from tensorflow import keras\n",
    "from tensorflow.keras import layers"
   ]
  },
  {
   "cell_type": "code",
   "execution_count": 317,
   "metadata": {},
   "outputs": [],
   "source": [
    "from tensorflow.keras.callbacks import EarlyStopping\n",
    "early_stopping = EarlyStopping(monitor=\"val_loss\",mode = 'auto',patience=15)"
   ]
  },
  {
   "cell_type": "code",
   "execution_count": 318,
   "metadata": {},
   "outputs": [],
   "source": [
    "model = keras.Sequential()\n",
    "model.add(layers.Dense(20, activation='relu', input_dim=9))\n",
    "model.add(layers.Dense(1))"
   ]
  },
  {
   "cell_type": "code",
   "execution_count": 319,
   "metadata": {},
   "outputs": [],
   "source": [
    "opt = keras.optimizers.Adam()\n",
    "\n",
    "model.compile(loss='mean_squared_error', optimizer=opt,metrics=['accuracy'])"
   ]
  },
  {
   "cell_type": "code",
   "execution_count": 320,
   "metadata": {},
   "outputs": [
    {
     "name": "stdout",
     "output_type": "stream",
     "text": [
      "Train on 57916 samples, validate on 6436 samples\n",
      "Epoch 1/300\n",
      "57916/57916 [==============================] - 2s 34us/sample - loss: 0.2442 - acc: 0.5842 - val_loss: 0.2327 - val_acc: 0.6168\n",
      "Epoch 2/300\n",
      "57916/57916 [==============================] - 2s 42us/sample - loss: 0.2276 - acc: 0.6286 - val_loss: 0.2219 - val_acc: 0.6290\n",
      "Epoch 3/300\n",
      "57916/57916 [==============================] - 3s 45us/sample - loss: 0.2167 - acc: 0.6669 - val_loss: 0.2102 - val_acc: 0.6891\n",
      "Epoch 4/300\n",
      "57916/57916 [==============================] - 3s 44us/sample - loss: 0.2080 - acc: 0.6895 - val_loss: 0.2034 - val_acc: 0.6987\n",
      "Epoch 5/300\n",
      "57916/57916 [==============================] - 2s 43us/sample - loss: 0.2024 - acc: 0.6968 - val_loss: 0.2045 - val_acc: 0.6979\n",
      "Epoch 6/300\n",
      "57916/57916 [==============================] - 3s 46us/sample - loss: 0.1992 - acc: 0.7004 - val_loss: 0.1969 - val_acc: 0.7057\n",
      "Epoch 7/300\n",
      "57916/57916 [==============================] - 2s 42us/sample - loss: 0.1978 - acc: 0.7008 - val_loss: 0.1953 - val_acc: 0.7143\n",
      "Epoch 8/300\n",
      "57916/57916 [==============================] - 2s 43us/sample - loss: 0.1964 - acc: 0.7039 - val_loss: 0.1941 - val_acc: 0.7150\n",
      "Epoch 9/300\n",
      "57916/57916 [==============================] - 2s 40us/sample - loss: 0.1957 - acc: 0.7057 - val_loss: 0.1923 - val_acc: 0.7150\n",
      "Epoch 10/300\n",
      "57916/57916 [==============================] - 2s 43us/sample - loss: 0.1948 - acc: 0.7065 - val_loss: 0.1937 - val_acc: 0.7014\n",
      "Epoch 11/300\n",
      "57916/57916 [==============================] - 2s 39us/sample - loss: 0.1945 - acc: 0.7073 - val_loss: 0.1950 - val_acc: 0.7161\n",
      "Epoch 12/300\n",
      "57916/57916 [==============================] - 3s 45us/sample - loss: 0.1943 - acc: 0.7076 - val_loss: 0.1911 - val_acc: 0.7167\n",
      "Epoch 13/300\n",
      "57916/57916 [==============================] - 3s 44us/sample - loss: 0.1940 - acc: 0.7082 - val_loss: 0.1911 - val_acc: 0.7116\n",
      "Epoch 14/300\n",
      "57916/57916 [==============================] - 3s 44us/sample - loss: 0.1933 - acc: 0.7106 - val_loss: 0.1929 - val_acc: 0.7000\n",
      "Epoch 15/300\n",
      "57916/57916 [==============================] - 3s 46us/sample - loss: 0.1930 - acc: 0.7096 - val_loss: 0.1910 - val_acc: 0.7180\n",
      "Epoch 16/300\n",
      "57916/57916 [==============================] - 3s 47us/sample - loss: 0.1926 - acc: 0.7100 - val_loss: 0.1929 - val_acc: 0.7209\n",
      "Epoch 17/300\n",
      "57916/57916 [==============================] - 2s 40us/sample - loss: 0.1924 - acc: 0.7124 - val_loss: 0.1915 - val_acc: 0.7195\n",
      "Epoch 18/300\n",
      "57916/57916 [==============================] - 3s 47us/sample - loss: 0.1922 - acc: 0.7127 - val_loss: 0.1900 - val_acc: 0.7270\n",
      "Epoch 19/300\n",
      "57916/57916 [==============================] - 2s 43us/sample - loss: 0.1922 - acc: 0.7132 - val_loss: 0.1893 - val_acc: 0.7183\n",
      "Epoch 20/300\n",
      "57916/57916 [==============================] - 3s 47us/sample - loss: 0.1917 - acc: 0.7130 - val_loss: 0.1903 - val_acc: 0.7192\n",
      "Epoch 21/300\n",
      "57916/57916 [==============================] - 2s 43us/sample - loss: 0.1916 - acc: 0.7124 - val_loss: 0.1888 - val_acc: 0.7220\n",
      "Epoch 22/300\n",
      "57916/57916 [==============================] - 2s 38us/sample - loss: 0.1913 - acc: 0.7131 - val_loss: 0.1902 - val_acc: 0.7113\n",
      "Epoch 23/300\n",
      "57916/57916 [==============================] - 3s 45us/sample - loss: 0.1917 - acc: 0.7133 - val_loss: 0.1889 - val_acc: 0.7247\n",
      "Epoch 24/300\n",
      "57916/57916 [==============================] - 2s 29us/sample - loss: 0.1912 - acc: 0.7142 - val_loss: 0.1888 - val_acc: 0.7146\n",
      "Epoch 25/300\n",
      "57916/57916 [==============================] - 2s 41us/sample - loss: 0.1910 - acc: 0.7130 - val_loss: 0.1894 - val_acc: 0.7136\n",
      "Epoch 26/300\n",
      "57916/57916 [==============================] - 2s 41us/sample - loss: 0.1908 - acc: 0.7142 - val_loss: 0.1891 - val_acc: 0.7216\n",
      "Epoch 27/300\n",
      "57916/57916 [==============================] - 2s 41us/sample - loss: 0.1908 - acc: 0.7132 - val_loss: 0.1899 - val_acc: 0.7267\n",
      "Epoch 28/300\n",
      "57916/57916 [==============================] - 3s 56us/sample - loss: 0.1907 - acc: 0.7139 - val_loss: 0.1890 - val_acc: 0.7115\n",
      "Epoch 29/300\n",
      "57916/57916 [==============================] - 3s 49us/sample - loss: 0.1908 - acc: 0.7132 - val_loss: 0.1889 - val_acc: 0.7126\n",
      "Epoch 30/300\n",
      "57916/57916 [==============================] - 3s 51us/sample - loss: 0.1904 - acc: 0.7152 - val_loss: 0.1886 - val_acc: 0.7287\n",
      "Epoch 31/300\n",
      "57916/57916 [==============================] - 3s 50us/sample - loss: 0.1903 - acc: 0.7152 - val_loss: 0.1879 - val_acc: 0.7259\n",
      "Epoch 32/300\n",
      "57916/57916 [==============================] - 3s 44us/sample - loss: 0.1904 - acc: 0.7155 - val_loss: 0.1938 - val_acc: 0.7032\n",
      "Epoch 33/300\n",
      "57916/57916 [==============================] - 2s 31us/sample - loss: 0.1902 - acc: 0.7152 - val_loss: 0.1878 - val_acc: 0.7185\n",
      "Epoch 34/300\n",
      "57916/57916 [==============================] - 2s 38us/sample - loss: 0.1903 - acc: 0.7146 - val_loss: 0.1895 - val_acc: 0.7256\n",
      "Epoch 35/300\n",
      "57916/57916 [==============================] - 3s 44us/sample - loss: 0.1901 - acc: 0.7155 - val_loss: 0.1885 - val_acc: 0.7160\n",
      "Epoch 36/300\n",
      "57916/57916 [==============================] - 2s 37us/sample - loss: 0.1899 - acc: 0.7160 - val_loss: 0.1884 - val_acc: 0.7202\n",
      "Epoch 37/300\n",
      "57916/57916 [==============================] - 2s 43us/sample - loss: 0.1899 - acc: 0.7167 - val_loss: 0.1874 - val_acc: 0.7259\n",
      "Epoch 38/300\n",
      "57916/57916 [==============================] - 2s 34us/sample - loss: 0.1896 - acc: 0.7165 - val_loss: 0.1878 - val_acc: 0.7292\n",
      "Epoch 39/300\n",
      "57916/57916 [==============================] - 2s 37us/sample - loss: 0.1897 - acc: 0.7155 - val_loss: 0.1880 - val_acc: 0.7270\n",
      "Epoch 40/300\n",
      "57916/57916 [==============================] - 2s 36us/sample - loss: 0.1897 - acc: 0.7159 - val_loss: 0.1872 - val_acc: 0.7211\n",
      "Epoch 41/300\n",
      "57916/57916 [==============================] - 2s 43us/sample - loss: 0.1894 - acc: 0.7171 - val_loss: 0.1884 - val_acc: 0.7278\n",
      "Epoch 42/300\n",
      "57916/57916 [==============================] - 2s 42us/sample - loss: 0.1894 - acc: 0.7176 - val_loss: 0.1888 - val_acc: 0.7071\n",
      "Epoch 43/300\n",
      "57916/57916 [==============================] - 2s 37us/sample - loss: 0.1889 - acc: 0.7185 - val_loss: 0.1867 - val_acc: 0.7164\n",
      "Epoch 44/300\n",
      "57916/57916 [==============================] - 2s 40us/sample - loss: 0.1893 - acc: 0.7160 - val_loss: 0.1875 - val_acc: 0.7133\n",
      "Epoch 45/300\n",
      "57916/57916 [==============================] - 2s 42us/sample - loss: 0.1887 - acc: 0.7178 - val_loss: 0.1866 - val_acc: 0.7253\n",
      "Epoch 46/300\n",
      "57916/57916 [==============================] - 2s 39us/sample - loss: 0.1889 - acc: 0.7168 - val_loss: 0.1879 - val_acc: 0.7281\n",
      "Epoch 47/300\n",
      "57916/57916 [==============================] - 2s 39us/sample - loss: 0.1887 - acc: 0.7184 - val_loss: 0.1889 - val_acc: 0.7213\n",
      "Epoch 48/300\n",
      "57916/57916 [==============================] - 2s 34us/sample - loss: 0.1888 - acc: 0.7175 - val_loss: 0.1877 - val_acc: 0.7273\n",
      "Epoch 49/300\n",
      "57916/57916 [==============================] - 2s 42us/sample - loss: 0.1885 - acc: 0.7180 - val_loss: 0.1881 - val_acc: 0.7178\n",
      "Epoch 50/300\n",
      "57916/57916 [==============================] - 2s 42us/sample - loss: 0.1886 - acc: 0.7183 - val_loss: 0.1863 - val_acc: 0.7310\n",
      "Epoch 51/300\n",
      "57916/57916 [==============================] - 2s 41us/sample - loss: 0.1885 - acc: 0.7179 - val_loss: 0.1859 - val_acc: 0.7245\n",
      "Epoch 52/300\n",
      "57916/57916 [==============================] - 3s 48us/sample - loss: 0.1884 - acc: 0.7170 - val_loss: 0.1859 - val_acc: 0.7259\n",
      "Epoch 53/300\n",
      "57916/57916 [==============================] - 2s 39us/sample - loss: 0.1880 - acc: 0.7180 - val_loss: 0.1874 - val_acc: 0.7194\n",
      "Epoch 54/300\n",
      "57916/57916 [==============================] - 2s 31us/sample - loss: 0.1883 - acc: 0.7176 - val_loss: 0.1876 - val_acc: 0.7178\n",
      "Epoch 55/300\n",
      "57916/57916 [==============================] - 2s 42us/sample - loss: 0.1880 - acc: 0.7187 - val_loss: 0.1874 - val_acc: 0.7203\n",
      "Epoch 56/300\n",
      "57916/57916 [==============================] - 2s 43us/sample - loss: 0.1882 - acc: 0.7180 - val_loss: 0.1861 - val_acc: 0.7261\n",
      "Epoch 57/300\n",
      "57916/57916 [==============================] - 2s 39us/sample - loss: 0.1882 - acc: 0.7175 - val_loss: 0.1860 - val_acc: 0.7223\n",
      "Epoch 58/300\n",
      "57916/57916 [==============================] - 2s 37us/sample - loss: 0.1878 - acc: 0.7175 - val_loss: 0.1860 - val_acc: 0.7203\n",
      "Epoch 59/300\n",
      "57916/57916 [==============================] - 2s 42us/sample - loss: 0.1878 - acc: 0.7185 - val_loss: 0.1865 - val_acc: 0.7262\n",
      "Epoch 60/300\n",
      "57916/57916 [==============================] - 2s 39us/sample - loss: 0.1878 - acc: 0.7183 - val_loss: 0.1857 - val_acc: 0.7253\n",
      "Epoch 61/300\n",
      "57916/57916 [==============================] - 2s 37us/sample - loss: 0.1874 - acc: 0.7186 - val_loss: 0.1862 - val_acc: 0.7231\n",
      "Epoch 62/300\n",
      "57916/57916 [==============================] - 3s 43us/sample - loss: 0.1881 - acc: 0.7173 - val_loss: 0.1893 - val_acc: 0.7130\n",
      "Epoch 63/300\n",
      "57916/57916 [==============================] - 2s 43us/sample - loss: 0.1874 - acc: 0.7174 - val_loss: 0.1861 - val_acc: 0.7264\n",
      "Epoch 64/300\n",
      "57916/57916 [==============================] - 2s 40us/sample - loss: 0.1875 - acc: 0.7173 - val_loss: 0.1877 - val_acc: 0.7209\n",
      "Epoch 65/300\n",
      "57916/57916 [==============================] - 2s 40us/sample - loss: 0.1872 - acc: 0.7194 - val_loss: 0.1897 - val_acc: 0.7112\n",
      "Epoch 66/300\n",
      "57916/57916 [==============================] - 2s 37us/sample - loss: 0.1872 - acc: 0.7185 - val_loss: 0.1877 - val_acc: 0.7133\n",
      "Epoch 67/300\n",
      "57916/57916 [==============================] - 2s 40us/sample - loss: 0.1871 - acc: 0.7170 - val_loss: 0.1855 - val_acc: 0.7256\n",
      "Epoch 68/300\n",
      "57916/57916 [==============================] - 2s 33us/sample - loss: 0.1871 - acc: 0.7183 - val_loss: 0.1867 - val_acc: 0.7228\n",
      "Epoch 69/300\n",
      "57916/57916 [==============================] - 2s 34us/sample - loss: 0.1871 - acc: 0.7169 - val_loss: 0.1867 - val_acc: 0.7239\n",
      "Epoch 70/300\n",
      "57916/57916 [==============================] - 2s 38us/sample - loss: 0.1870 - acc: 0.7194 - val_loss: 0.1860 - val_acc: 0.7231\n",
      "Epoch 71/300\n",
      "57916/57916 [==============================] - 2s 40us/sample - loss: 0.1871 - acc: 0.7171 - val_loss: 0.1854 - val_acc: 0.7199\n",
      "Epoch 72/300\n",
      "57916/57916 [==============================] - 2s 40us/sample - loss: 0.1867 - acc: 0.7197 - val_loss: 0.1848 - val_acc: 0.7220\n",
      "Epoch 73/300\n",
      "57916/57916 [==============================] - 2s 33us/sample - loss: 0.1870 - acc: 0.7185 - val_loss: 0.1854 - val_acc: 0.7245\n",
      "Epoch 74/300\n",
      "57916/57916 [==============================] - 2s 41us/sample - loss: 0.1865 - acc: 0.7190 - val_loss: 0.1847 - val_acc: 0.7267\n",
      "Epoch 75/300\n",
      "57916/57916 [==============================] - 3s 44us/sample - loss: 0.1867 - acc: 0.7181 - val_loss: 0.1870 - val_acc: 0.7200\n",
      "Epoch 76/300\n",
      "57916/57916 [==============================] - 2s 37us/sample - loss: 0.1863 - acc: 0.7191 - val_loss: 0.1849 - val_acc: 0.7270\n",
      "Epoch 77/300\n",
      "57916/57916 [==============================] - 2s 41us/sample - loss: 0.1866 - acc: 0.7191 - val_loss: 0.1844 - val_acc: 0.7250\n",
      "Epoch 78/300\n",
      "57916/57916 [==============================] - 2s 39us/sample - loss: 0.1865 - acc: 0.7197 - val_loss: 0.1874 - val_acc: 0.7188\n",
      "Epoch 79/300\n",
      "57916/57916 [==============================] - 2s 34us/sample - loss: 0.1862 - acc: 0.7190 - val_loss: 0.1845 - val_acc: 0.7225\n",
      "Epoch 80/300\n",
      "57916/57916 [==============================] - 2s 43us/sample - loss: 0.1861 - acc: 0.7192 - val_loss: 0.1899 - val_acc: 0.7152\n",
      "Epoch 81/300\n",
      "57916/57916 [==============================] - 2s 43us/sample - loss: 0.1863 - acc: 0.7197 - val_loss: 0.1850 - val_acc: 0.7251\n",
      "Epoch 82/300\n",
      "57916/57916 [==============================] - 2s 30us/sample - loss: 0.1860 - acc: 0.7203 - val_loss: 0.1873 - val_acc: 0.7191\n",
      "Epoch 83/300\n",
      "57916/57916 [==============================] - 2s 31us/sample - loss: 0.1860 - acc: 0.7191 - val_loss: 0.1848 - val_acc: 0.7270\n",
      "Epoch 84/300\n",
      "57916/57916 [==============================] - 2s 43us/sample - loss: 0.1859 - acc: 0.7199 - val_loss: 0.1845 - val_acc: 0.7292\n",
      "Epoch 85/300\n",
      "57916/57916 [==============================] - 2s 40us/sample - loss: 0.1862 - acc: 0.7188 - val_loss: 0.1845 - val_acc: 0.7233\n",
      "Epoch 86/300\n",
      "57916/57916 [==============================] - 2s 36us/sample - loss: 0.1857 - acc: 0.7201 - val_loss: 0.1867 - val_acc: 0.7152\n",
      "Epoch 87/300\n",
      "57916/57916 [==============================] - 2s 30us/sample - loss: 0.1860 - acc: 0.7204 - val_loss: 0.1838 - val_acc: 0.7185\n",
      "Epoch 88/300\n",
      "57916/57916 [==============================] - 2s 34us/sample - loss: 0.1855 - acc: 0.7216 - val_loss: 0.1847 - val_acc: 0.7282\n",
      "Epoch 89/300\n",
      "57916/57916 [==============================] - 2s 41us/sample - loss: 0.1857 - acc: 0.7213 - val_loss: 0.1844 - val_acc: 0.7287\n",
      "Epoch 90/300\n",
      "57916/57916 [==============================] - 2s 35us/sample - loss: 0.1857 - acc: 0.7218 - val_loss: 0.1853 - val_acc: 0.7158\n",
      "Epoch 91/300\n",
      "57916/57916 [==============================] - 2s 36us/sample - loss: 0.1853 - acc: 0.7215 - val_loss: 0.1865 - val_acc: 0.7183\n",
      "Epoch 92/300\n",
      "57916/57916 [==============================] - 2s 34us/sample - loss: 0.1855 - acc: 0.7204 - val_loss: 0.1853 - val_acc: 0.7225\n",
      "Epoch 93/300\n",
      "57916/57916 [==============================] - 3s 43us/sample - loss: 0.1853 - acc: 0.7205 - val_loss: 0.1847 - val_acc: 0.7268\n",
      "Epoch 94/300\n",
      "57916/57916 [==============================] - 2s 40us/sample - loss: 0.1854 - acc: 0.7211 - val_loss: 0.1847 - val_acc: 0.7270\n",
      "Epoch 95/300\n",
      "57916/57916 [==============================] - 2s 40us/sample - loss: 0.1851 - acc: 0.7228 - val_loss: 0.1839 - val_acc: 0.7236\n",
      "Epoch 96/300\n",
      "57916/57916 [==============================] - 2s 39us/sample - loss: 0.1853 - acc: 0.7222 - val_loss: 0.1859 - val_acc: 0.7242\n",
      "Epoch 97/300\n",
      "57916/57916 [==============================] - 2s 35us/sample - loss: 0.1854 - acc: 0.7210 - val_loss: 0.1838 - val_acc: 0.7202\n",
      "Epoch 98/300\n",
      "57916/57916 [==============================] - 2s 38us/sample - loss: 0.1849 - acc: 0.7230 - val_loss: 0.1848 - val_acc: 0.7242\n",
      "Epoch 99/300\n",
      "57916/57916 [==============================] - 3s 56us/sample - loss: 0.1851 - acc: 0.7212 - val_loss: 0.1847 - val_acc: 0.7290\n",
      "Epoch 100/300\n",
      "57916/57916 [==============================] - 2s 39us/sample - loss: 0.1851 - acc: 0.7217 - val_loss: 0.1837 - val_acc: 0.7261\n",
      "Epoch 101/300\n",
      "57916/57916 [==============================] - 2s 30us/sample - loss: 0.1847 - acc: 0.7233 - val_loss: 0.1858 - val_acc: 0.7251\n",
      "Epoch 102/300\n",
      "57916/57916 [==============================] - 3s 44us/sample - loss: 0.1848 - acc: 0.7222 - val_loss: 0.1841 - val_acc: 0.7248\n",
      "Epoch 103/300\n",
      "57916/57916 [==============================] - 2s 37us/sample - loss: 0.1846 - acc: 0.7231 - val_loss: 0.1848 - val_acc: 0.7286\n",
      "Epoch 104/300\n",
      "57916/57916 [==============================] - 2s 40us/sample - loss: 0.1846 - acc: 0.7236 - val_loss: 0.1840 - val_acc: 0.7268\n",
      "Epoch 105/300\n",
      "57916/57916 [==============================] - 2s 41us/sample - loss: 0.1842 - acc: 0.7229 - val_loss: 0.1841 - val_acc: 0.7247\n",
      "Epoch 106/300\n",
      "57916/57916 [==============================] - 3s 45us/sample - loss: 0.1844 - acc: 0.7224 - val_loss: 0.1835 - val_acc: 0.7255\n",
      "Epoch 107/300\n",
      "57916/57916 [==============================] - 2s 34us/sample - loss: 0.1842 - acc: 0.7226 - val_loss: 0.1829 - val_acc: 0.7251\n",
      "Epoch 108/300\n",
      "57916/57916 [==============================] - 2s 40us/sample - loss: 0.1843 - acc: 0.7229 - val_loss: 0.1829 - val_acc: 0.7241\n",
      "Epoch 109/300\n",
      "57916/57916 [==============================] - 2s 33us/sample - loss: 0.1839 - acc: 0.7240 - val_loss: 0.1835 - val_acc: 0.7267\n",
      "Epoch 110/300\n",
      "57916/57916 [==============================] - 2s 41us/sample - loss: 0.1841 - acc: 0.7237 - val_loss: 0.1824 - val_acc: 0.7300\n",
      "Epoch 111/300\n",
      "57916/57916 [==============================] - 2s 36us/sample - loss: 0.1840 - acc: 0.7246 - val_loss: 0.1893 - val_acc: 0.7113\n",
      "Epoch 112/300\n",
      "57916/57916 [==============================] - 3s 43us/sample - loss: 0.1839 - acc: 0.7250 - val_loss: 0.1857 - val_acc: 0.7171\n",
      "Epoch 113/300\n",
      "57916/57916 [==============================] - 2s 35us/sample - loss: 0.1838 - acc: 0.7251 - val_loss: 0.1846 - val_acc: 0.7231\n",
      "Epoch 114/300\n",
      "57916/57916 [==============================] - 2s 35us/sample - loss: 0.1838 - acc: 0.7240 - val_loss: 0.1823 - val_acc: 0.7295\n",
      "Epoch 115/300\n",
      "57916/57916 [==============================] - 2s 37us/sample - loss: 0.1837 - acc: 0.7259 - val_loss: 0.1831 - val_acc: 0.7276\n",
      "Epoch 116/300\n",
      "57916/57916 [==============================] - 2s 42us/sample - loss: 0.1838 - acc: 0.7246 - val_loss: 0.1820 - val_acc: 0.7351\n",
      "Epoch 117/300\n",
      "57916/57916 [==============================] - 2s 42us/sample - loss: 0.1835 - acc: 0.7266 - val_loss: 0.1854 - val_acc: 0.7227\n",
      "Epoch 118/300\n",
      "57916/57916 [==============================] - 2s 42us/sample - loss: 0.1835 - acc: 0.7246 - val_loss: 0.1825 - val_acc: 0.7343\n",
      "Epoch 119/300\n",
      "57916/57916 [==============================] - 2s 39us/sample - loss: 0.1834 - acc: 0.7268 - val_loss: 0.1813 - val_acc: 0.7324\n",
      "Epoch 120/300\n",
      "57916/57916 [==============================] - 2s 39us/sample - loss: 0.1831 - acc: 0.7262 - val_loss: 0.1848 - val_acc: 0.7250\n",
      "Epoch 121/300\n",
      "57916/57916 [==============================] - 2s 42us/sample - loss: 0.1831 - acc: 0.7266 - val_loss: 0.1821 - val_acc: 0.7273\n",
      "Epoch 122/300\n",
      "57916/57916 [==============================] - 2s 36us/sample - loss: 0.1831 - acc: 0.7256 - val_loss: 0.1815 - val_acc: 0.7284\n",
      "Epoch 123/300\n",
      "57916/57916 [==============================] - 2s 34us/sample - loss: 0.1832 - acc: 0.7258 - val_loss: 0.1842 - val_acc: 0.7248\n",
      "Epoch 124/300\n",
      "57916/57916 [==============================] - 2s 39us/sample - loss: 0.1831 - acc: 0.7271 - val_loss: 0.1809 - val_acc: 0.7281\n",
      "Epoch 125/300\n",
      "57916/57916 [==============================] - 2s 41us/sample - loss: 0.1827 - acc: 0.7260 - val_loss: 0.1814 - val_acc: 0.7354\n",
      "Epoch 126/300\n",
      "57916/57916 [==============================] - 3s 43us/sample - loss: 0.1829 - acc: 0.7277 - val_loss: 0.1819 - val_acc: 0.7359\n",
      "Epoch 127/300\n",
      "57916/57916 [==============================] - 2s 42us/sample - loss: 0.1826 - acc: 0.7271 - val_loss: 0.1826 - val_acc: 0.7324\n",
      "Epoch 128/300\n",
      "57916/57916 [==============================] - 2s 41us/sample - loss: 0.1824 - acc: 0.7275 - val_loss: 0.1806 - val_acc: 0.7328\n",
      "Epoch 129/300\n",
      "57916/57916 [==============================] - 3s 44us/sample - loss: 0.1826 - acc: 0.7259 - val_loss: 0.1836 - val_acc: 0.7284\n",
      "Epoch 130/300\n",
      "57916/57916 [==============================] - 2s 35us/sample - loss: 0.1827 - acc: 0.7276 - val_loss: 0.1823 - val_acc: 0.7342\n",
      "Epoch 131/300\n",
      "57916/57916 [==============================] - 2s 42us/sample - loss: 0.1830 - acc: 0.7261 - val_loss: 0.1893 - val_acc: 0.7088\n",
      "Epoch 132/300\n",
      "57916/57916 [==============================] - 2s 40us/sample - loss: 0.1821 - acc: 0.7283 - val_loss: 0.1819 - val_acc: 0.7315\n",
      "Epoch 133/300\n",
      "57916/57916 [==============================] - 2s 32us/sample - loss: 0.1823 - acc: 0.7286 - val_loss: 0.1812 - val_acc: 0.7351\n",
      "Epoch 134/300\n",
      "57916/57916 [==============================] - 3s 44us/sample - loss: 0.1823 - acc: 0.7284 - val_loss: 0.1876 - val_acc: 0.7161\n",
      "Epoch 135/300\n",
      "57916/57916 [==============================] - 2s 41us/sample - loss: 0.1822 - acc: 0.7273 - val_loss: 0.1805 - val_acc: 0.7365\n",
      "Epoch 136/300\n",
      "57916/57916 [==============================] - 2s 41us/sample - loss: 0.1824 - acc: 0.7270 - val_loss: 0.1802 - val_acc: 0.7357\n",
      "Epoch 137/300\n",
      "57916/57916 [==============================] - 2s 37us/sample - loss: 0.1821 - acc: 0.7276 - val_loss: 0.1809 - val_acc: 0.7324\n",
      "Epoch 138/300\n",
      "57916/57916 [==============================] - 2s 43us/sample - loss: 0.1818 - acc: 0.7283 - val_loss: 0.1809 - val_acc: 0.7312\n",
      "Epoch 139/300\n",
      "57916/57916 [==============================] - 2s 43us/sample - loss: 0.1817 - acc: 0.7278 - val_loss: 0.1807 - val_acc: 0.7309\n",
      "Epoch 140/300\n",
      "57916/57916 [==============================] - 2s 34us/sample - loss: 0.1820 - acc: 0.7273 - val_loss: 0.1808 - val_acc: 0.7320\n",
      "Epoch 141/300\n",
      "57916/57916 [==============================] - 2s 39us/sample - loss: 0.1816 - acc: 0.7293 - val_loss: 0.1823 - val_acc: 0.7296\n",
      "Epoch 142/300\n",
      "57916/57916 [==============================] - 2s 35us/sample - loss: 0.1818 - acc: 0.7281 - val_loss: 0.1824 - val_acc: 0.7292\n",
      "Epoch 143/300\n",
      "57916/57916 [==============================] - 2s 34us/sample - loss: 0.1817 - acc: 0.7281 - val_loss: 0.1853 - val_acc: 0.7290\n",
      "Epoch 144/300\n",
      "57916/57916 [==============================] - 2s 41us/sample - loss: 0.1818 - acc: 0.7293 - val_loss: 0.1794 - val_acc: 0.7298\n",
      "Epoch 145/300\n",
      "57916/57916 [==============================] - 2s 26us/sample - loss: 0.1819 - acc: 0.7270 - val_loss: 0.1796 - val_acc: 0.7320\n",
      "Epoch 146/300\n",
      "57916/57916 [==============================] - 2s 31us/sample - loss: 0.1814 - acc: 0.7282 - val_loss: 0.1824 - val_acc: 0.7258\n",
      "Epoch 147/300\n",
      "57916/57916 [==============================] - 2s 42us/sample - loss: 0.1817 - acc: 0.7285 - val_loss: 0.1793 - val_acc: 0.7368\n",
      "Epoch 148/300\n",
      "57916/57916 [==============================] - 2s 39us/sample - loss: 0.1812 - acc: 0.7287 - val_loss: 0.1822 - val_acc: 0.7292\n",
      "Epoch 149/300\n",
      "57916/57916 [==============================] - 2s 31us/sample - loss: 0.1809 - acc: 0.7286 - val_loss: 0.1808 - val_acc: 0.7338\n",
      "Epoch 150/300\n",
      "57916/57916 [==============================] - 2s 38us/sample - loss: 0.1813 - acc: 0.7285 - val_loss: 0.1795 - val_acc: 0.7365\n",
      "Epoch 151/300\n",
      "57916/57916 [==============================] - 2s 26us/sample - loss: 0.1812 - acc: 0.7285 - val_loss: 0.1834 - val_acc: 0.7307\n",
      "Epoch 152/300\n",
      "57916/57916 [==============================] - 2s 26us/sample - loss: 0.1810 - acc: 0.7285 - val_loss: 0.1821 - val_acc: 0.7272\n",
      "Epoch 153/300\n",
      "57916/57916 [==============================] - 2s 34us/sample - loss: 0.1806 - acc: 0.7309 - val_loss: 0.1812 - val_acc: 0.7270\n",
      "Epoch 154/300\n",
      "57916/57916 [==============================] - 2s 39us/sample - loss: 0.1810 - acc: 0.7307 - val_loss: 0.1912 - val_acc: 0.7116\n",
      "Epoch 155/300\n",
      "57916/57916 [==============================] - 2s 38us/sample - loss: 0.1804 - acc: 0.7294 - val_loss: 0.1795 - val_acc: 0.7286\n",
      "Epoch 156/300\n",
      "57916/57916 [==============================] - 2s 29us/sample - loss: 0.1808 - acc: 0.7296 - val_loss: 0.1823 - val_acc: 0.7267\n",
      "Epoch 157/300\n",
      "57916/57916 [==============================] - 2s 40us/sample - loss: 0.1808 - acc: 0.7293 - val_loss: 0.1828 - val_acc: 0.7335\n",
      "Epoch 158/300\n",
      "57916/57916 [==============================] - 2s 41us/sample - loss: 0.1806 - acc: 0.7304 - val_loss: 0.1796 - val_acc: 0.7314\n",
      "Epoch 159/300\n",
      "57916/57916 [==============================] - 2s 39us/sample - loss: 0.1800 - acc: 0.7301 - val_loss: 0.1817 - val_acc: 0.7306\n",
      "Epoch 160/300\n",
      "57916/57916 [==============================] - 3s 47us/sample - loss: 0.1807 - acc: 0.7279 - val_loss: 0.1779 - val_acc: 0.7334\n",
      "Epoch 161/300\n",
      "57916/57916 [==============================] - 2s 43us/sample - loss: 0.1802 - acc: 0.7293 - val_loss: 0.1789 - val_acc: 0.7335\n",
      "Epoch 162/300\n",
      "57916/57916 [==============================] - 2s 39us/sample - loss: 0.1801 - acc: 0.7294 - val_loss: 0.1780 - val_acc: 0.7391\n",
      "Epoch 163/300\n",
      "57916/57916 [==============================] - 2s 42us/sample - loss: 0.1806 - acc: 0.7290 - val_loss: 0.1781 - val_acc: 0.7362\n",
      "Epoch 164/300\n",
      "57916/57916 [==============================] - 1s 23us/sample - loss: 0.1801 - acc: 0.7281 - val_loss: 0.1862 - val_acc: 0.7245\n",
      "Epoch 165/300\n",
      "57916/57916 [==============================] - 2s 41us/sample - loss: 0.1801 - acc: 0.7288 - val_loss: 0.1810 - val_acc: 0.7315\n",
      "Epoch 166/300\n",
      "57916/57916 [==============================] - 2s 40us/sample - loss: 0.1801 - acc: 0.7305 - val_loss: 0.1788 - val_acc: 0.7332\n",
      "Epoch 167/300\n",
      "57916/57916 [==============================] - 2s 40us/sample - loss: 0.1799 - acc: 0.7289 - val_loss: 0.1806 - val_acc: 0.7318\n",
      "Epoch 168/300\n",
      "57916/57916 [==============================] - 2s 41us/sample - loss: 0.1803 - acc: 0.7288 - val_loss: 0.1785 - val_acc: 0.7342\n",
      "Epoch 169/300\n",
      "57916/57916 [==============================] - 2s 37us/sample - loss: 0.1797 - acc: 0.7286 - val_loss: 0.1838 - val_acc: 0.7300\n",
      "Epoch 170/300\n",
      "57916/57916 [==============================] - 2s 28us/sample - loss: 0.1796 - acc: 0.7295 - val_loss: 0.1788 - val_acc: 0.7351\n",
      "Epoch 171/300\n",
      "57916/57916 [==============================] - 2s 31us/sample - loss: 0.1795 - acc: 0.7296 - val_loss: 0.1787 - val_acc: 0.7356\n",
      "Epoch 172/300\n",
      "57916/57916 [==============================] - 2s 29us/sample - loss: 0.1794 - acc: 0.7311 - val_loss: 0.1787 - val_acc: 0.7328\n",
      "Epoch 173/300\n",
      "57916/57916 [==============================] - 2s 38us/sample - loss: 0.1793 - acc: 0.7292 - val_loss: 0.1791 - val_acc: 0.7296\n",
      "Epoch 174/300\n",
      "57916/57916 [==============================] - 2s 38us/sample - loss: 0.1796 - acc: 0.7311 - val_loss: 0.1830 - val_acc: 0.7295\n",
      "Epoch 175/300\n",
      "57916/57916 [==============================] - 2s 40us/sample - loss: 0.1798 - acc: 0.7296 - val_loss: 0.1876 - val_acc: 0.7247\n"
     ]
    }
   ],
   "source": [
    "history = model.fit(X_train, y_train, batch_size=75, epochs=300, validation_data=(X_test, y_test),callbacks=[early_stopping])\n",
    "# history = model.fit(X_train, y_train, batch_size=75, epochs=300, validation_data=(X_test, y_test))"
   ]
  },
  {
   "cell_type": "code",
   "execution_count": 321,
   "metadata": {},
   "outputs": [],
   "source": [
    "import matplotlib.pyplot as plt\n"
   ]
  },
  {
   "cell_type": "code",
   "execution_count": 322,
   "metadata": {},
   "outputs": [],
   "source": [
    "# plt.figure(figsize=[20,8])\n",
    "\n",
    "# plt.subplot(1,2,1)\n",
    "# plt.plot(history.history['accuracy'])\n",
    "# plt.plot(history.history['val_accuracy'])\n",
    "# plt.title('Model Accuracy', size=25, pad=20)\n",
    "# plt.ylabel('Accuracy', size=15)\n",
    "# plt.xlabel('Epoch', size=15)\n",
    "# plt.legend(['train', 'test'], loc='upper left')"
   ]
  },
  {
   "cell_type": "code",
   "execution_count": 323,
   "metadata": {},
   "outputs": [
    {
     "data": {
      "text/plain": [
       "<matplotlib.legend.Legend at 0x278e30153c8>"
      ]
     },
     "execution_count": 323,
     "metadata": {},
     "output_type": "execute_result"
    },
    {
     "data": {
      "image/png": "[encoded data removed]",
      "text/plain": [
       "<Figure size 432x288 with 1 Axes>"
      ]
     },
     "metadata": {
      "needs_background": "light"
     },
     "output_type": "display_data"
    }
   ],
   "source": [
    "plt.plot(history.history['loss'])\n",
    "plt.plot(history.history['val_loss'])\n",
    "plt.title('Model Loss', size=25, pad=20)\n",
    "plt.ylabel('Loss', size=15)\n",
    "plt.xlabel('Epoch', size=15)\n",
    "plt.legend(['train', 'test'], loc='upper left')"
   ]
  },
  {
   "cell_type": "code",
   "execution_count": 324,
   "metadata": {},
   "outputs": [],
   "source": [
    "from sklearn.metrics import roc_curve\n",
    "y_pred_keras = model.predict(X_test).ravel()\n",
    "fpr_keras, tpr_keras, thresholds_keras = roc_curve(y_test, y_pred_keras)"
   ]
  },
  {
   "cell_type": "code",
   "execution_count": 325,
   "metadata": {},
   "outputs": [],
   "source": [
    "from sklearn.metrics import auc\n",
    "auc_keras = auc(fpr_keras, tpr_keras)"
   ]
  },
  {
   "cell_type": "code",
   "execution_count": 326,
   "metadata": {},
   "outputs": [
    {
     "data": {
      "image/png": "[encoded data removed]",
      "text/plain": [
       "<Figure size 432x288 with 1 Axes>"
      ]
     },
     "metadata": {
      "needs_background": "light"
     },
     "output_type": "display_data"
    }
   ],
   "source": [
    "plt.figure(1)\n",
    "plt.plot([0, 1], [0, 1], 'k--')\n",
    "plt.plot(fpr_keras, tpr_keras, label='Keras (area = {:.3f})'.format(auc_keras))\n",
    "plt.xlabel('False positive rate')\n",
    "plt.ylabel('True positive rate')\n",
    "plt.title('ROC curve')\n",
    "plt.legend(loc='best')\n",
    "plt.show()"
   ]
  },
  {
   "cell_type": "code",
   "execution_count": 327,
   "metadata": {},
   "outputs": [],
   "source": [
    "y_pred = model.predict(X_test)\n",
    "y_pred = y_pred > 0.5"
   ]
  },
  {
   "cell_type": "code",
   "execution_count": 328,
   "metadata": {},
   "outputs": [],
   "source": [
    "from sklearn.metrics import confusion_matrix\n",
    "cm = confusion_matrix(y_test, y_pred)"
   ]
  },
  {
   "cell_type": "code",
   "execution_count": 329,
   "metadata": {},
   "outputs": [],
   "source": [
    "import seaborn as sns\n"
   ]
  },
  {
   "cell_type": "code",
   "execution_count": 330,
   "metadata": {},
   "outputs": [
    {
     "data": {
      "text/plain": [
       "Text(0.5, 15.0, 'Predicted label')"
      ]
     },
     "execution_count": 330,
     "metadata": {},
     "output_type": "execute_result"
    },
    {
     "data": {
      "image/png": "[encoded data removed]",
      "text/plain": [
       "<Figure size 432x288 with 2 Axes>"
      ]
     },
     "metadata": {
      "needs_background": "light"
     },
     "output_type": "display_data"
    }
   ],
   "source": [
    "p = sns.heatmap(pd.DataFrame(cm), annot=True, cmap=\"YlGnBu\" ,fmt='g')\n",
    "plt.title('Confusion matrix', y=1.1)\n",
    "plt.ylabel('Actual label')\n",
    "plt.xlabel('Predicted label')"
   ]
  },
  {
   "cell_type": "code",
   "execution_count": null,
   "metadata": {},
   "outputs": [],
   "source": []
  }
 ],
 "metadata": {
  "kernelspec": {
   "display_name": "Python 3.7.3 64-bit ('Anaconda3')",
   "language": "python",
   "name": "python3"
  },
  "language_info": {
   "codemirror_mode": {
    "name": "ipython",
    "version": 3
   },
   "file_extension": ".py",
   "mimetype": "text/x-python",
   "name": "python",
   "nbconvert_exporter": "python",
   "pygments_lexer": "ipython3",
   "version": "3.7.3"
  },
  "vscode": {
   "interpreter": {
    "hash": "d9783cdf2a37e2a41721e81ed5e12f4266c666f19eac87f25458d24597dc339e"
   }
  }
 },
 "nbformat": 4,
 "nbformat_minor": 2
}
